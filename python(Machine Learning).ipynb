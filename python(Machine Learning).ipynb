{
 "cells": [
  {
   "cell_type": "code",
   "execution_count": 1,
   "id": "a08c044b",
   "metadata": {},
   "outputs": [
    {
     "ename": "NameError",
     "evalue": "name 'business' is not defined",
     "output_type": "error",
     "traceback": [
      "\u001b[1;31m---------------------------------------------------------------------------\u001b[0m",
      "\u001b[1;31mNameError\u001b[0m                                 Traceback (most recent call last)",
      "\u001b[1;32m~\\AppData\\Local\\Temp\\ipykernel_13512\\667007845.py\u001b[0m in \u001b[0;36m<module>\u001b[1;34m\u001b[0m\n\u001b[0;32m      1\u001b[0m \u001b[1;32mimport\u001b[0m \u001b[0mpandas\u001b[0m \u001b[1;32mas\u001b[0m \u001b[0mpd\u001b[0m\u001b[1;33m\u001b[0m\u001b[1;33m\u001b[0m\u001b[0m\n\u001b[1;32m----> 2\u001b[1;33m \u001b[0mdf\u001b[0m\u001b[1;33m=\u001b[0m\u001b[0mpd\u001b[0m\u001b[1;33m.\u001b[0m\u001b[0mread_csv\u001b[0m\u001b[1;33m(\u001b[0m\u001b[0mbusiness\u001b[0m\u001b[1;33m-\u001b[0m\u001b[0mfinancial\u001b[0m\u001b[1;33m-\u001b[0m\u001b[0mdata\u001b[0m\u001b[1;33m-\u001b[0m\u001b[0mseptember\u001b[0m\u001b[1;33m-\u001b[0m\u001b[1;36m2022\u001b[0m\u001b[1;33m-\u001b[0m\u001b[0mquarter\u001b[0m\u001b[1;33m.\u001b[0m\u001b[0mcsv\u001b[0m\u001b[1;33m)\u001b[0m\u001b[1;33m\u001b[0m\u001b[1;33m\u001b[0m\u001b[0m\n\u001b[0m\u001b[0;32m      3\u001b[0m \u001b[0mmyvar\u001b[0m\u001b[1;33m=\u001b[0m\u001b[0mpd\u001b[0m\u001b[1;33m.\u001b[0m\u001b[0mDataFrame\u001b[0m\u001b[1;33m(\u001b[0m\u001b[0mdf\u001b[0m\u001b[1;33m)\u001b[0m\u001b[1;33m\u001b[0m\u001b[1;33m\u001b[0m\u001b[0m\n\u001b[0;32m      4\u001b[0m \u001b[0mprint\u001b[0m\u001b[1;33m(\u001b[0m\u001b[0mdf\u001b[0m\u001b[1;33m)\u001b[0m\u001b[1;33m\u001b[0m\u001b[1;33m\u001b[0m\u001b[0m\n",
      "\u001b[1;31mNameError\u001b[0m: name 'business' is not defined"
     ]
    }
   ],
   "source": [
    "import pandas as pd\n",
    "df=pd.read_csv(business-financial-data-september-2022-quarter.csv)\n",
    "myvar=pd.DataFrame(df)\n",
    "print(df)"
   ]
  },
  {
   "cell_type": "code",
   "execution_count": 2,
   "id": "c7075f5b",
   "metadata": {},
   "outputs": [
    {
     "name": "stdout",
     "output_type": "stream",
     "text": [
      "   Series_reference   Period  Data_value  Suppressed STATUS    UNITS  \\\n",
      "0     BDCQ.SF1AA2CA  2016.06    1116.386         NaN      F  Dollars   \n",
      "1     BDCQ.SF1AA2CA  2016.09    1070.874         NaN      F  Dollars   \n",
      "2     BDCQ.SF1AA2CA  2016.12    1054.408         NaN      F  Dollars   \n",
      "3     BDCQ.SF1AA2CA  2017.03    1010.665         NaN      F  Dollars   \n",
      "4     BDCQ.SF1AA2CA  2017.06    1233.700         NaN      F  Dollars   \n",
      "5     BDCQ.SF1AA2CA  2017.09    1282.436         NaN      F  Dollars   \n",
      "6     BDCQ.SF1AA2CA  2017.12    1290.820         NaN      F  Dollars   \n",
      "7     BDCQ.SF1AA2CA  2018.03    1412.007         NaN      F  Dollars   \n",
      "8     BDCQ.SF1AA2CA  2018.06    1488.055         NaN      F  Dollars   \n",
      "9     BDCQ.SF1AA2CA  2018.09    1497.678         NaN      F  Dollars   \n",
      "10    BDCQ.SF1AA2CA  2018.12    1570.507         NaN      F  Dollars   \n",
      "11    BDCQ.SF1AA2CA  2019.03    1393.749         NaN      F  Dollars   \n",
      "12    BDCQ.SF1AA2CA  2019.06    1517.143         NaN      F  Dollars   \n",
      "13    BDCQ.SF1AA2CA  2019.09    1381.514         NaN      F  Dollars   \n",
      "14    BDCQ.SF1AA2CA  2019.12    1370.985         NaN      F  Dollars   \n",
      "15    BDCQ.SF1AA2CA  2020.03    1073.017         NaN      F  Dollars   \n",
      "16    BDCQ.SF1AA2CA  2020.06    1131.445         NaN      F  Dollars   \n",
      "17    BDCQ.SF1AA2CA  2020.09    1440.101         NaN      F  Dollars   \n",
      "18    BDCQ.SF1AA2CA  2020.12    1489.979         NaN      F  Dollars   \n",
      "19    BDCQ.SF1AA2CA  2021.03    1390.782         NaN      F  Dollars   \n",
      "20    BDCQ.SF1AA2CA  2021.06    1826.730         NaN      F  Dollars   \n",
      "21    BDCQ.SF1AA2CA  2021.09    1710.073         NaN      F  Dollars   \n",
      "22    BDCQ.SF1AA2CA  2021.12    1559.479         NaN      F  Dollars   \n",
      "23    BDCQ.SF1AA2CA  2022.03    1285.083         NaN      F  Dollars   \n",
      "24    BDCQ.SF1AA2CA  2022.06    1684.422         NaN      F  Dollars   \n",
      "25    BDCQ.SF1AA2CA  2022.09    1665.926         NaN      F  Dollars   \n",
      "26    BDCQ.SF1AA2CS  2016.06    1061.349         NaN      R  Dollars   \n",
      "27    BDCQ.SF1AA2CS  2016.09    1056.741         NaN      R  Dollars   \n",
      "\n",
      "    Magnitude                         Subject  \\\n",
      "0           6  Business Data Collection - BDC   \n",
      "1           6  Business Data Collection - BDC   \n",
      "2           6  Business Data Collection - BDC   \n",
      "3           6  Business Data Collection - BDC   \n",
      "4           6  Business Data Collection - BDC   \n",
      "5           6  Business Data Collection - BDC   \n",
      "6           6  Business Data Collection - BDC   \n",
      "7           6  Business Data Collection - BDC   \n",
      "8           6  Business Data Collection - BDC   \n",
      "9           6  Business Data Collection - BDC   \n",
      "10          6  Business Data Collection - BDC   \n",
      "11          6  Business Data Collection - BDC   \n",
      "12          6  Business Data Collection - BDC   \n",
      "13          6  Business Data Collection - BDC   \n",
      "14          6  Business Data Collection - BDC   \n",
      "15          6  Business Data Collection - BDC   \n",
      "16          6  Business Data Collection - BDC   \n",
      "17          6  Business Data Collection - BDC   \n",
      "18          6  Business Data Collection - BDC   \n",
      "19          6  Business Data Collection - BDC   \n",
      "20          6  Business Data Collection - BDC   \n",
      "21          6  Business Data Collection - BDC   \n",
      "22          6  Business Data Collection - BDC   \n",
      "23          6  Business Data Collection - BDC   \n",
      "24          6  Business Data Collection - BDC   \n",
      "25          6  Business Data Collection - BDC   \n",
      "26          6  Business Data Collection - BDC   \n",
      "27          6  Business Data Collection - BDC   \n",
      "\n",
      "                                              Group            Series_title_1  \\\n",
      "0   Industry by financial variable (NZSIOC Level 2)  Sales (operating income)   \n",
      "1   Industry by financial variable (NZSIOC Level 2)  Sales (operating income)   \n",
      "2   Industry by financial variable (NZSIOC Level 2)  Sales (operating income)   \n",
      "3   Industry by financial variable (NZSIOC Level 2)  Sales (operating income)   \n",
      "4   Industry by financial variable (NZSIOC Level 2)  Sales (operating income)   \n",
      "5   Industry by financial variable (NZSIOC Level 2)  Sales (operating income)   \n",
      "6   Industry by financial variable (NZSIOC Level 2)  Sales (operating income)   \n",
      "7   Industry by financial variable (NZSIOC Level 2)  Sales (operating income)   \n",
      "8   Industry by financial variable (NZSIOC Level 2)  Sales (operating income)   \n",
      "9   Industry by financial variable (NZSIOC Level 2)  Sales (operating income)   \n",
      "10  Industry by financial variable (NZSIOC Level 2)  Sales (operating income)   \n",
      "11  Industry by financial variable (NZSIOC Level 2)  Sales (operating income)   \n",
      "12  Industry by financial variable (NZSIOC Level 2)  Sales (operating income)   \n",
      "13  Industry by financial variable (NZSIOC Level 2)  Sales (operating income)   \n",
      "14  Industry by financial variable (NZSIOC Level 2)  Sales (operating income)   \n",
      "15  Industry by financial variable (NZSIOC Level 2)  Sales (operating income)   \n",
      "16  Industry by financial variable (NZSIOC Level 2)  Sales (operating income)   \n",
      "17  Industry by financial variable (NZSIOC Level 2)  Sales (operating income)   \n",
      "18  Industry by financial variable (NZSIOC Level 2)  Sales (operating income)   \n",
      "19  Industry by financial variable (NZSIOC Level 2)  Sales (operating income)   \n",
      "20  Industry by financial variable (NZSIOC Level 2)  Sales (operating income)   \n",
      "21  Industry by financial variable (NZSIOC Level 2)  Sales (operating income)   \n",
      "22  Industry by financial variable (NZSIOC Level 2)  Sales (operating income)   \n",
      "23  Industry by financial variable (NZSIOC Level 2)  Sales (operating income)   \n",
      "24  Industry by financial variable (NZSIOC Level 2)  Sales (operating income)   \n",
      "25  Industry by financial variable (NZSIOC Level 2)  Sales (operating income)   \n",
      "26  Industry by financial variable (NZSIOC Level 2)  Sales (operating income)   \n",
      "27  Industry by financial variable (NZSIOC Level 2)  Sales (operating income)   \n",
      "\n",
      "          Series_title_2  Series_title_3       Series_title_4  Series_title_5  \n",
      "0   Forestry and Logging  Current prices           Unadjusted             NaN  \n",
      "1   Forestry and Logging  Current prices           Unadjusted             NaN  \n",
      "2   Forestry and Logging  Current prices           Unadjusted             NaN  \n",
      "3   Forestry and Logging  Current prices           Unadjusted             NaN  \n",
      "4   Forestry and Logging  Current prices           Unadjusted             NaN  \n",
      "5   Forestry and Logging  Current prices           Unadjusted             NaN  \n",
      "6   Forestry and Logging  Current prices           Unadjusted             NaN  \n",
      "7   Forestry and Logging  Current prices           Unadjusted             NaN  \n",
      "8   Forestry and Logging  Current prices           Unadjusted             NaN  \n",
      "9   Forestry and Logging  Current prices           Unadjusted             NaN  \n",
      "10  Forestry and Logging  Current prices           Unadjusted             NaN  \n",
      "11  Forestry and Logging  Current prices           Unadjusted             NaN  \n",
      "12  Forestry and Logging  Current prices           Unadjusted             NaN  \n",
      "13  Forestry and Logging  Current prices           Unadjusted             NaN  \n",
      "14  Forestry and Logging  Current prices           Unadjusted             NaN  \n",
      "15  Forestry and Logging  Current prices           Unadjusted             NaN  \n",
      "16  Forestry and Logging  Current prices           Unadjusted             NaN  \n",
      "17  Forestry and Logging  Current prices           Unadjusted             NaN  \n",
      "18  Forestry and Logging  Current prices           Unadjusted             NaN  \n",
      "19  Forestry and Logging  Current prices           Unadjusted             NaN  \n",
      "20  Forestry and Logging  Current prices           Unadjusted             NaN  \n",
      "21  Forestry and Logging  Current prices           Unadjusted             NaN  \n",
      "22  Forestry and Logging  Current prices           Unadjusted             NaN  \n",
      "23  Forestry and Logging  Current prices           Unadjusted             NaN  \n",
      "24  Forestry and Logging  Current prices           Unadjusted             NaN  \n",
      "25  Forestry and Logging  Current prices           Unadjusted             NaN  \n",
      "26  Forestry and Logging  Current prices  Seasonally adjusted             NaN  \n",
      "27  Forestry and Logging  Current prices  Seasonally adjusted             NaN  \n"
     ]
    }
   ],
   "source": [
    "import pandas as pd\n",
    "df=pd.read_csv(\"C:\\\\Users\\\\satish\\\\Desktop\\\\business-financial-data-september-2022-quarter.csv\")\n",
    "myvar=pd.DataFrame(df)\n",
    "print(df)\n"
   ]
  },
  {
   "cell_type": "code",
   "execution_count": 3,
   "id": "033b630c",
   "metadata": {},
   "outputs": [
    {
     "name": "stdout",
     "output_type": "stream",
     "text": [
      "   Series_reference   Period  Data_value  Suppressed STATUS    UNITS  \\\n",
      "0     BDCQ.SF1AA2CA  2016.06    1116.386         NaN      F  Dollars   \n",
      "1     BDCQ.SF1AA2CA  2016.09    1070.874         NaN      F  Dollars   \n",
      "2     BDCQ.SF1AA2CA  2016.12    1054.408         NaN      F  Dollars   \n",
      "3     BDCQ.SF1AA2CA  2017.03    1010.665         NaN      F  Dollars   \n",
      "4     BDCQ.SF1AA2CA  2017.06    1233.700         NaN      F  Dollars   \n",
      "5     BDCQ.SF1AA2CA  2017.09    1282.436         NaN      F  Dollars   \n",
      "6     BDCQ.SF1AA2CA  2017.12    1290.820         NaN      F  Dollars   \n",
      "7     BDCQ.SF1AA2CA  2018.03    1412.007         NaN      F  Dollars   \n",
      "8     BDCQ.SF1AA2CA  2018.06    1488.055         NaN      F  Dollars   \n",
      "9     BDCQ.SF1AA2CA  2018.09    1497.678         NaN      F  Dollars   \n",
      "10    BDCQ.SF1AA2CA  2018.12    1570.507         NaN      F  Dollars   \n",
      "11    BDCQ.SF1AA2CA  2019.03    1393.749         NaN      F  Dollars   \n",
      "12    BDCQ.SF1AA2CA  2019.06    1517.143         NaN      F  Dollars   \n",
      "13    BDCQ.SF1AA2CA  2019.09    1381.514         NaN      F  Dollars   \n",
      "14    BDCQ.SF1AA2CA  2019.12    1370.985         NaN      F  Dollars   \n",
      "15    BDCQ.SF1AA2CA  2020.03    1073.017         NaN      F  Dollars   \n",
      "16    BDCQ.SF1AA2CA  2020.06    1131.445         NaN      F  Dollars   \n",
      "17    BDCQ.SF1AA2CA  2020.09    1440.101         NaN      F  Dollars   \n",
      "18    BDCQ.SF1AA2CA  2020.12    1489.979         NaN      F  Dollars   \n",
      "19    BDCQ.SF1AA2CA  2021.03    1390.782         NaN      F  Dollars   \n",
      "20    BDCQ.SF1AA2CA  2021.06    1826.730         NaN      F  Dollars   \n",
      "21    BDCQ.SF1AA2CA  2021.09    1710.073         NaN      F  Dollars   \n",
      "22    BDCQ.SF1AA2CA  2021.12    1559.479         NaN      F  Dollars   \n",
      "23    BDCQ.SF1AA2CA  2022.03    1285.083         NaN      F  Dollars   \n",
      "24    BDCQ.SF1AA2CA  2022.06    1684.422         NaN      F  Dollars   \n",
      "25    BDCQ.SF1AA2CA  2022.09    1665.926         NaN      F  Dollars   \n",
      "26    BDCQ.SF1AA2CS  2016.06    1061.349         NaN      R  Dollars   \n",
      "27    BDCQ.SF1AA2CS  2016.09    1056.741         NaN      R  Dollars   \n",
      "\n",
      "    Magnitude                         Subject  \\\n",
      "0           6  Business Data Collection - BDC   \n",
      "1           6  Business Data Collection - BDC   \n",
      "2           6  Business Data Collection - BDC   \n",
      "3           6  Business Data Collection - BDC   \n",
      "4           6  Business Data Collection - BDC   \n",
      "5           6  Business Data Collection - BDC   \n",
      "6           6  Business Data Collection - BDC   \n",
      "7           6  Business Data Collection - BDC   \n",
      "8           6  Business Data Collection - BDC   \n",
      "9           6  Business Data Collection - BDC   \n",
      "10          6  Business Data Collection - BDC   \n",
      "11          6  Business Data Collection - BDC   \n",
      "12          6  Business Data Collection - BDC   \n",
      "13          6  Business Data Collection - BDC   \n",
      "14          6  Business Data Collection - BDC   \n",
      "15          6  Business Data Collection - BDC   \n",
      "16          6  Business Data Collection - BDC   \n",
      "17          6  Business Data Collection - BDC   \n",
      "18          6  Business Data Collection - BDC   \n",
      "19          6  Business Data Collection - BDC   \n",
      "20          6  Business Data Collection - BDC   \n",
      "21          6  Business Data Collection - BDC   \n",
      "22          6  Business Data Collection - BDC   \n",
      "23          6  Business Data Collection - BDC   \n",
      "24          6  Business Data Collection - BDC   \n",
      "25          6  Business Data Collection - BDC   \n",
      "26          6  Business Data Collection - BDC   \n",
      "27          6  Business Data Collection - BDC   \n",
      "\n",
      "                                              Group            Series_title_1  \\\n",
      "0   Industry by financial variable (NZSIOC Level 2)  Sales (operating income)   \n",
      "1   Industry by financial variable (NZSIOC Level 2)  Sales (operating income)   \n",
      "2   Industry by financial variable (NZSIOC Level 2)  Sales (operating income)   \n",
      "3   Industry by financial variable (NZSIOC Level 2)  Sales (operating income)   \n",
      "4   Industry by financial variable (NZSIOC Level 2)  Sales (operating income)   \n",
      "5   Industry by financial variable (NZSIOC Level 2)  Sales (operating income)   \n",
      "6   Industry by financial variable (NZSIOC Level 2)  Sales (operating income)   \n",
      "7   Industry by financial variable (NZSIOC Level 2)  Sales (operating income)   \n",
      "8   Industry by financial variable (NZSIOC Level 2)  Sales (operating income)   \n",
      "9   Industry by financial variable (NZSIOC Level 2)  Sales (operating income)   \n",
      "10  Industry by financial variable (NZSIOC Level 2)  Sales (operating income)   \n",
      "11  Industry by financial variable (NZSIOC Level 2)  Sales (operating income)   \n",
      "12  Industry by financial variable (NZSIOC Level 2)  Sales (operating income)   \n",
      "13  Industry by financial variable (NZSIOC Level 2)  Sales (operating income)   \n",
      "14  Industry by financial variable (NZSIOC Level 2)  Sales (operating income)   \n",
      "15  Industry by financial variable (NZSIOC Level 2)  Sales (operating income)   \n",
      "16  Industry by financial variable (NZSIOC Level 2)  Sales (operating income)   \n",
      "17  Industry by financial variable (NZSIOC Level 2)  Sales (operating income)   \n",
      "18  Industry by financial variable (NZSIOC Level 2)  Sales (operating income)   \n",
      "19  Industry by financial variable (NZSIOC Level 2)  Sales (operating income)   \n",
      "20  Industry by financial variable (NZSIOC Level 2)  Sales (operating income)   \n",
      "21  Industry by financial variable (NZSIOC Level 2)  Sales (operating income)   \n",
      "22  Industry by financial variable (NZSIOC Level 2)  Sales (operating income)   \n",
      "23  Industry by financial variable (NZSIOC Level 2)  Sales (operating income)   \n",
      "24  Industry by financial variable (NZSIOC Level 2)  Sales (operating income)   \n",
      "25  Industry by financial variable (NZSIOC Level 2)  Sales (operating income)   \n",
      "26  Industry by financial variable (NZSIOC Level 2)  Sales (operating income)   \n",
      "27  Industry by financial variable (NZSIOC Level 2)  Sales (operating income)   \n",
      "\n",
      "          Series_title_2  Series_title_3       Series_title_4  Series_title_5  \n",
      "0   Forestry and Logging  Current prices           Unadjusted             NaN  \n",
      "1   Forestry and Logging  Current prices           Unadjusted             NaN  \n",
      "2   Forestry and Logging  Current prices           Unadjusted             NaN  \n",
      "3   Forestry and Logging  Current prices           Unadjusted             NaN  \n",
      "4   Forestry and Logging  Current prices           Unadjusted             NaN  \n",
      "5   Forestry and Logging  Current prices           Unadjusted             NaN  \n",
      "6   Forestry and Logging  Current prices           Unadjusted             NaN  \n",
      "7   Forestry and Logging  Current prices           Unadjusted             NaN  \n",
      "8   Forestry and Logging  Current prices           Unadjusted             NaN  \n",
      "9   Forestry and Logging  Current prices           Unadjusted             NaN  \n",
      "10  Forestry and Logging  Current prices           Unadjusted             NaN  \n",
      "11  Forestry and Logging  Current prices           Unadjusted             NaN  \n",
      "12  Forestry and Logging  Current prices           Unadjusted             NaN  \n",
      "13  Forestry and Logging  Current prices           Unadjusted             NaN  \n",
      "14  Forestry and Logging  Current prices           Unadjusted             NaN  \n",
      "15  Forestry and Logging  Current prices           Unadjusted             NaN  \n",
      "16  Forestry and Logging  Current prices           Unadjusted             NaN  \n",
      "17  Forestry and Logging  Current prices           Unadjusted             NaN  \n",
      "18  Forestry and Logging  Current prices           Unadjusted             NaN  \n",
      "19  Forestry and Logging  Current prices           Unadjusted             NaN  \n",
      "20  Forestry and Logging  Current prices           Unadjusted             NaN  \n",
      "21  Forestry and Logging  Current prices           Unadjusted             NaN  \n",
      "22  Forestry and Logging  Current prices           Unadjusted             NaN  \n",
      "23  Forestry and Logging  Current prices           Unadjusted             NaN  \n",
      "24  Forestry and Logging  Current prices           Unadjusted             NaN  \n",
      "25  Forestry and Logging  Current prices           Unadjusted             NaN  \n",
      "26  Forestry and Logging  Current prices  Seasonally adjusted             NaN  \n",
      "27  Forestry and Logging  Current prices  Seasonally adjusted             NaN  \n"
     ]
    }
   ],
   "source": [
    "import pandas as pd\n",
    "df=pd.read_csv(\"C:\\\\Users\\\\satish\\\\Desktop\\\\business-financial-data-september-2022-quarter.csv\")\n",
    "print(df)"
   ]
  },
  {
   "cell_type": "code",
   "execution_count": 4,
   "id": "63adf7d2",
   "metadata": {},
   "outputs": [
    {
     "ename": "TypeError",
     "evalue": "'function' object is not subscriptable",
     "output_type": "error",
     "traceback": [
      "\u001b[1;31m---------------------------------------------------------------------------\u001b[0m",
      "\u001b[1;31mTypeError\u001b[0m                                 Traceback (most recent call last)",
      "\u001b[1;32m~\\AppData\\Local\\Temp\\ipykernel_13512\\3964884930.py\u001b[0m in \u001b[0;36m<module>\u001b[1;34m\u001b[0m\n\u001b[0;32m     17\u001b[0m \u001b[0mdf2\u001b[0m\u001b[1;33m=\u001b[0m\u001b[0mpd\u001b[0m\u001b[1;33m.\u001b[0m\u001b[0mDataFrame\u001b[0m\u001b[1;33m(\u001b[0m\u001b[0mmydataset\u001b[0m\u001b[1;33m)\u001b[0m\u001b[1;33m\u001b[0m\u001b[1;33m\u001b[0m\u001b[0m\n\u001b[0;32m     18\u001b[0m \u001b[0mframes\u001b[0m\u001b[1;33m=\u001b[0m\u001b[1;33m[\u001b[0m\u001b[0mdf1\u001b[0m\u001b[1;33m,\u001b[0m\u001b[0mdf2\u001b[0m\u001b[1;33m]\u001b[0m\u001b[1;33m\u001b[0m\u001b[1;33m\u001b[0m\u001b[0m\n\u001b[1;32m---> 19\u001b[1;33m \u001b[0mcon\u001b[0m\u001b[1;33m=\u001b[0m\u001b[0mpd\u001b[0m\u001b[1;33m.\u001b[0m\u001b[0mconcat\u001b[0m\u001b[1;33m[\u001b[0m\u001b[0mframes\u001b[0m\u001b[1;33m]\u001b[0m\u001b[1;33m\u001b[0m\u001b[1;33m\u001b[0m\u001b[0m\n\u001b[0m\u001b[0;32m     20\u001b[0m \u001b[0mprint\u001b[0m\u001b[1;33m(\u001b[0m\u001b[0mcon\u001b[0m\u001b[1;33m)\u001b[0m\u001b[1;33m\u001b[0m\u001b[1;33m\u001b[0m\u001b[0m\n",
      "\u001b[1;31mTypeError\u001b[0m: 'function' object is not subscriptable"
     ]
    }
   ],
   "source": [
    "import pandas as pd\n",
    "mydataset=({\n",
    "    'cars':[\"BMW\",\"Volvo\",\"Ford\"],\n",
    "    'passings':[3,2,2],\n",
    "    'color' : [\"orange\", \"yellow\",\"Red\"],\n",
    "     'cricket': [\"bat\", \"ball\", \"Batsman\"],\n",
    "    'stadium':[\"Gachibowli\",\"Mumbai\",\"Kolkota\"],\n",
    "    'Players' :[\"Sachin\", \"Yusuf\",\"Harbajan\"],\n",
    "    'emptyrows': [\"Null\",\"Null\",\"Null\"]\n",
    "})\n",
    "mydataset1=({\n",
    "    'cricket': [\"bat\", \"ball\", \"Batsman\"],\n",
    "    'stadium':[\"Gachibowli\",\"Mumbai\",\"Kolkota\"],\n",
    "    'Players' :[\"Sachin\", \"Yusuf\",\"Harbajan\"]\n",
    "})\n",
    "df1=pd.DataFrame(mydataset1)\n",
    "df2=pd.DataFrame(mydataset)\n",
    "frames=[df1,df2]\n",
    "con=pd.concat[frames]\n",
    "print(con)\n"
   ]
  },
  {
   "cell_type": "code",
   "execution_count": 5,
   "id": "74a81350",
   "metadata": {},
   "outputs": [
    {
     "name": "stdout",
     "output_type": "stream",
     "text": [
      "    cars  passings   color  cricket     stadium   Players emptyrows\n",
      "0    BMW       3.0  orange      bat  Gachibowli    Sachin      Null\n",
      "1  Volvo       2.0  yellow     ball      Mumbai     Yusuf      Null\n",
      "2   Ford       2.0     Red  Batsman     Kolkota  Harbajan      Null\n",
      "0    NaN       NaN     NaN      bat  Gachibowli    Sachin       NaN\n",
      "1    NaN       NaN     NaN     ball      Mumbai     Yusuf       NaN\n",
      "2    NaN       NaN     NaN  Batsman     Kolkota  Harbajan       NaN\n"
     ]
    }
   ],
   "source": [
    "import pandas as pd\n",
    "df1 = pd.DataFrame({\n",
    "    'cars':[\"BMW\",\"Volvo\",\"Ford\"],\n",
    "    'passings':[3,2,2],\n",
    "    'color' : [\"orange\", \"yellow\",\"Red\"],\n",
    "     'cricket': [\"bat\", \"ball\", \"Batsman\"],\n",
    "    'stadium':[\"Gachibowli\",\"Mumbai\",\"Kolkota\"],\n",
    "    'Players' :[\"Sachin\", \"Yusuf\",\"Harbajan\"],\n",
    "    'emptyrows': [\"Null\",\"Null\",\"Null\"]\n",
    "})\n",
    "df2 = pd.DataFrame({\n",
    "    'cricket': [\"bat\", \"ball\", \"Batsman\"],\n",
    "    'stadium':[\"Gachibowli\",\"Mumbai\",\"Kolkota\"],\n",
    "    'Players' :[\"Sachin\", \"Yusuf\",\"Harbajan\"]\n",
    "}) \n",
    "frames = [df1, df2] \n",
    "result = pd.concat(frames)\n",
    "print(result)"
   ]
  },
  {
   "cell_type": "code",
   "execution_count": 6,
   "id": "8849f629",
   "metadata": {},
   "outputs": [
    {
     "ename": "ValueError",
     "evalue": "columns overlap but no suffix specified: Index(['cricket', 'stadium', 'Players'], dtype='object')",
     "output_type": "error",
     "traceback": [
      "\u001b[1;31m---------------------------------------------------------------------------\u001b[0m",
      "\u001b[1;31mValueError\u001b[0m                                Traceback (most recent call last)",
      "\u001b[1;32m~\\AppData\\Local\\Temp\\ipykernel_13512\\567856367.py\u001b[0m in \u001b[0;36m<module>\u001b[1;34m\u001b[0m\n\u001b[0;32m     14\u001b[0m     \u001b[1;34m'Players'\u001b[0m \u001b[1;33m:\u001b[0m\u001b[1;33m[\u001b[0m\u001b[1;34m\"Sachin\"\u001b[0m\u001b[1;33m,\u001b[0m \u001b[1;34m\"Yusuf\"\u001b[0m\u001b[1;33m,\u001b[0m\u001b[1;34m\"Harbajan\"\u001b[0m\u001b[1;33m]\u001b[0m\u001b[1;33m\u001b[0m\u001b[1;33m\u001b[0m\u001b[0m\n\u001b[0;32m     15\u001b[0m }) \n\u001b[1;32m---> 16\u001b[1;33m \u001b[0mframes\u001b[0m\u001b[1;33m=\u001b[0m\u001b[0mdf1\u001b[0m\u001b[1;33m.\u001b[0m\u001b[0mjoin\u001b[0m\u001b[1;33m(\u001b[0m\u001b[0mdf2\u001b[0m\u001b[1;33m)\u001b[0m\u001b[1;33m\u001b[0m\u001b[1;33m\u001b[0m\u001b[0m\n\u001b[0m\u001b[0;32m     17\u001b[0m \u001b[0mprint\u001b[0m\u001b[1;33m(\u001b[0m\u001b[0mframes\u001b[0m\u001b[1;33m)\u001b[0m\u001b[1;33m\u001b[0m\u001b[1;33m\u001b[0m\u001b[0m\n",
      "\u001b[1;32m~\\Anaconda3\\lib\\site-packages\\pandas\\core\\frame.py\u001b[0m in \u001b[0;36mjoin\u001b[1;34m(self, other, on, how, lsuffix, rsuffix, sort)\u001b[0m\n\u001b[0;32m   9261\u001b[0m         \u001b[1;36m5\u001b[0m  \u001b[0mK1\u001b[0m  \u001b[0mA5\u001b[0m   \u001b[0mB1\u001b[0m\u001b[1;33m\u001b[0m\u001b[1;33m\u001b[0m\u001b[0m\n\u001b[0;32m   9262\u001b[0m         \"\"\"\n\u001b[1;32m-> 9263\u001b[1;33m         return self._join_compat(\n\u001b[0m\u001b[0;32m   9264\u001b[0m             \u001b[0mother\u001b[0m\u001b[1;33m,\u001b[0m \u001b[0mon\u001b[0m\u001b[1;33m=\u001b[0m\u001b[0mon\u001b[0m\u001b[1;33m,\u001b[0m \u001b[0mhow\u001b[0m\u001b[1;33m=\u001b[0m\u001b[0mhow\u001b[0m\u001b[1;33m,\u001b[0m \u001b[0mlsuffix\u001b[0m\u001b[1;33m=\u001b[0m\u001b[0mlsuffix\u001b[0m\u001b[1;33m,\u001b[0m \u001b[0mrsuffix\u001b[0m\u001b[1;33m=\u001b[0m\u001b[0mrsuffix\u001b[0m\u001b[1;33m,\u001b[0m \u001b[0msort\u001b[0m\u001b[1;33m=\u001b[0m\u001b[0msort\u001b[0m\u001b[1;33m\u001b[0m\u001b[1;33m\u001b[0m\u001b[0m\n\u001b[0;32m   9265\u001b[0m         )\n",
      "\u001b[1;32m~\\Anaconda3\\lib\\site-packages\\pandas\\core\\frame.py\u001b[0m in \u001b[0;36m_join_compat\u001b[1;34m(self, other, on, how, lsuffix, rsuffix, sort)\u001b[0m\n\u001b[0;32m   9292\u001b[0m                     \u001b[0msort\u001b[0m\u001b[1;33m=\u001b[0m\u001b[0msort\u001b[0m\u001b[1;33m,\u001b[0m\u001b[1;33m\u001b[0m\u001b[1;33m\u001b[0m\u001b[0m\n\u001b[0;32m   9293\u001b[0m                 )\n\u001b[1;32m-> 9294\u001b[1;33m             return merge(\n\u001b[0m\u001b[0;32m   9295\u001b[0m                 \u001b[0mself\u001b[0m\u001b[1;33m,\u001b[0m\u001b[1;33m\u001b[0m\u001b[1;33m\u001b[0m\u001b[0m\n\u001b[0;32m   9296\u001b[0m                 \u001b[0mother\u001b[0m\u001b[1;33m,\u001b[0m\u001b[1;33m\u001b[0m\u001b[1;33m\u001b[0m\u001b[0m\n",
      "\u001b[1;32m~\\Anaconda3\\lib\\site-packages\\pandas\\core\\reshape\\merge.py\u001b[0m in \u001b[0;36mmerge\u001b[1;34m(left, right, how, on, left_on, right_on, left_index, right_index, sort, suffixes, copy, indicator, validate)\u001b[0m\n\u001b[0;32m    120\u001b[0m         \u001b[0mvalidate\u001b[0m\u001b[1;33m=\u001b[0m\u001b[0mvalidate\u001b[0m\u001b[1;33m,\u001b[0m\u001b[1;33m\u001b[0m\u001b[1;33m\u001b[0m\u001b[0m\n\u001b[0;32m    121\u001b[0m     )\n\u001b[1;32m--> 122\u001b[1;33m     \u001b[1;32mreturn\u001b[0m \u001b[0mop\u001b[0m\u001b[1;33m.\u001b[0m\u001b[0mget_result\u001b[0m\u001b[1;33m(\u001b[0m\u001b[1;33m)\u001b[0m\u001b[1;33m\u001b[0m\u001b[1;33m\u001b[0m\u001b[0m\n\u001b[0m\u001b[0;32m    123\u001b[0m \u001b[1;33m\u001b[0m\u001b[0m\n\u001b[0;32m    124\u001b[0m \u001b[1;33m\u001b[0m\u001b[0m\n",
      "\u001b[1;32m~\\Anaconda3\\lib\\site-packages\\pandas\\core\\reshape\\merge.py\u001b[0m in \u001b[0;36mget_result\u001b[1;34m(self)\u001b[0m\n\u001b[0;32m    716\u001b[0m         \u001b[0mjoin_index\u001b[0m\u001b[1;33m,\u001b[0m \u001b[0mleft_indexer\u001b[0m\u001b[1;33m,\u001b[0m \u001b[0mright_indexer\u001b[0m \u001b[1;33m=\u001b[0m \u001b[0mself\u001b[0m\u001b[1;33m.\u001b[0m\u001b[0m_get_join_info\u001b[0m\u001b[1;33m(\u001b[0m\u001b[1;33m)\u001b[0m\u001b[1;33m\u001b[0m\u001b[1;33m\u001b[0m\u001b[0m\n\u001b[0;32m    717\u001b[0m \u001b[1;33m\u001b[0m\u001b[0m\n\u001b[1;32m--> 718\u001b[1;33m         llabels, rlabels = _items_overlap_with_suffix(\n\u001b[0m\u001b[0;32m    719\u001b[0m             \u001b[0mself\u001b[0m\u001b[1;33m.\u001b[0m\u001b[0mleft\u001b[0m\u001b[1;33m.\u001b[0m\u001b[0m_info_axis\u001b[0m\u001b[1;33m,\u001b[0m \u001b[0mself\u001b[0m\u001b[1;33m.\u001b[0m\u001b[0mright\u001b[0m\u001b[1;33m.\u001b[0m\u001b[0m_info_axis\u001b[0m\u001b[1;33m,\u001b[0m \u001b[0mself\u001b[0m\u001b[1;33m.\u001b[0m\u001b[0msuffixes\u001b[0m\u001b[1;33m\u001b[0m\u001b[1;33m\u001b[0m\u001b[0m\n\u001b[0;32m    720\u001b[0m         )\n",
      "\u001b[1;32m~\\Anaconda3\\lib\\site-packages\\pandas\\core\\reshape\\merge.py\u001b[0m in \u001b[0;36m_items_overlap_with_suffix\u001b[1;34m(left, right, suffixes)\u001b[0m\n\u001b[0;32m   2315\u001b[0m \u001b[1;33m\u001b[0m\u001b[0m\n\u001b[0;32m   2316\u001b[0m     \u001b[1;32mif\u001b[0m \u001b[1;32mnot\u001b[0m \u001b[0mlsuffix\u001b[0m \u001b[1;32mand\u001b[0m \u001b[1;32mnot\u001b[0m \u001b[0mrsuffix\u001b[0m\u001b[1;33m:\u001b[0m\u001b[1;33m\u001b[0m\u001b[1;33m\u001b[0m\u001b[0m\n\u001b[1;32m-> 2317\u001b[1;33m         \u001b[1;32mraise\u001b[0m \u001b[0mValueError\u001b[0m\u001b[1;33m(\u001b[0m\u001b[1;34mf\"columns overlap but no suffix specified: {to_rename}\"\u001b[0m\u001b[1;33m)\u001b[0m\u001b[1;33m\u001b[0m\u001b[1;33m\u001b[0m\u001b[0m\n\u001b[0m\u001b[0;32m   2318\u001b[0m \u001b[1;33m\u001b[0m\u001b[0m\n\u001b[0;32m   2319\u001b[0m     \u001b[1;32mdef\u001b[0m \u001b[0mrenamer\u001b[0m\u001b[1;33m(\u001b[0m\u001b[0mx\u001b[0m\u001b[1;33m,\u001b[0m \u001b[0msuffix\u001b[0m\u001b[1;33m)\u001b[0m\u001b[1;33m:\u001b[0m\u001b[1;33m\u001b[0m\u001b[1;33m\u001b[0m\u001b[0m\n",
      "\u001b[1;31mValueError\u001b[0m: columns overlap but no suffix specified: Index(['cricket', 'stadium', 'Players'], dtype='object')"
     ]
    }
   ],
   "source": [
    "import pandas as pd\n",
    "df1 = pd.DataFrame({\n",
    "    'cars':[\"BMW\",\"Volvo\",\"Ford\"],\n",
    "    'color' : [\"orange\", \"yellow\",\"Red\"],\n",
    "     'cricket': [\"bat\", \"ball\", \"Batsman\"]\n",
    "})\n",
    "df2 = pd.DataFrame({\n",
    "    'cricket': [\"bat\", \"ball\", \"Batsman\"],\n",
    "    'stadium':[\"Gachibowli\",\"Mumbai\",\"Kolkota\"],\n",
    "    'Players' :[\"Sachin\", \"Yusuf\",\"Harbajan\"]\n",
    "}) \n",
    "frames=df1.join(df2)\n",
    "print(frames)\n"
   ]
  },
  {
   "cell_type": "code",
   "execution_count": 7,
   "id": "cdea206c",
   "metadata": {},
   "outputs": [
    {
     "ename": "ValueError",
     "evalue": "columns overlap but no suffix specified: Index(['cricket'], dtype='object')",
     "output_type": "error",
     "traceback": [
      "\u001b[1;31m---------------------------------------------------------------------------\u001b[0m",
      "\u001b[1;31mValueError\u001b[0m                                Traceback (most recent call last)",
      "\u001b[1;32m~\\AppData\\Local\\Temp\\ipykernel_13512\\3490403312.py\u001b[0m in \u001b[0;36m<module>\u001b[1;34m\u001b[0m\n\u001b[0;32m     10\u001b[0m     \u001b[1;34m'Players'\u001b[0m \u001b[1;33m:\u001b[0m\u001b[1;33m[\u001b[0m\u001b[1;34m\"Sachin\"\u001b[0m\u001b[1;33m,\u001b[0m \u001b[1;34m\"Yusuf\"\u001b[0m\u001b[1;33m,\u001b[0m\u001b[1;34m\"Harbajan\"\u001b[0m\u001b[1;33m]\u001b[0m\u001b[1;33m\u001b[0m\u001b[1;33m\u001b[0m\u001b[0m\n\u001b[0;32m     11\u001b[0m }) \n\u001b[1;32m---> 12\u001b[1;33m \u001b[0mframes\u001b[0m\u001b[1;33m=\u001b[0m\u001b[0mdf1\u001b[0m\u001b[1;33m.\u001b[0m\u001b[0mjoin\u001b[0m\u001b[1;33m(\u001b[0m\u001b[0mdf2\u001b[0m\u001b[1;33m)\u001b[0m\u001b[1;33m\u001b[0m\u001b[1;33m\u001b[0m\u001b[0m\n\u001b[0m\u001b[0;32m     13\u001b[0m \u001b[0mprint\u001b[0m\u001b[1;33m(\u001b[0m\u001b[0mframes\u001b[0m\u001b[1;33m)\u001b[0m\u001b[1;33m\u001b[0m\u001b[1;33m\u001b[0m\u001b[0m\n",
      "\u001b[1;32m~\\Anaconda3\\lib\\site-packages\\pandas\\core\\frame.py\u001b[0m in \u001b[0;36mjoin\u001b[1;34m(self, other, on, how, lsuffix, rsuffix, sort)\u001b[0m\n\u001b[0;32m   9261\u001b[0m         \u001b[1;36m5\u001b[0m  \u001b[0mK1\u001b[0m  \u001b[0mA5\u001b[0m   \u001b[0mB1\u001b[0m\u001b[1;33m\u001b[0m\u001b[1;33m\u001b[0m\u001b[0m\n\u001b[0;32m   9262\u001b[0m         \"\"\"\n\u001b[1;32m-> 9263\u001b[1;33m         return self._join_compat(\n\u001b[0m\u001b[0;32m   9264\u001b[0m             \u001b[0mother\u001b[0m\u001b[1;33m,\u001b[0m \u001b[0mon\u001b[0m\u001b[1;33m=\u001b[0m\u001b[0mon\u001b[0m\u001b[1;33m,\u001b[0m \u001b[0mhow\u001b[0m\u001b[1;33m=\u001b[0m\u001b[0mhow\u001b[0m\u001b[1;33m,\u001b[0m \u001b[0mlsuffix\u001b[0m\u001b[1;33m=\u001b[0m\u001b[0mlsuffix\u001b[0m\u001b[1;33m,\u001b[0m \u001b[0mrsuffix\u001b[0m\u001b[1;33m=\u001b[0m\u001b[0mrsuffix\u001b[0m\u001b[1;33m,\u001b[0m \u001b[0msort\u001b[0m\u001b[1;33m=\u001b[0m\u001b[0msort\u001b[0m\u001b[1;33m\u001b[0m\u001b[1;33m\u001b[0m\u001b[0m\n\u001b[0;32m   9265\u001b[0m         )\n",
      "\u001b[1;32m~\\Anaconda3\\lib\\site-packages\\pandas\\core\\frame.py\u001b[0m in \u001b[0;36m_join_compat\u001b[1;34m(self, other, on, how, lsuffix, rsuffix, sort)\u001b[0m\n\u001b[0;32m   9292\u001b[0m                     \u001b[0msort\u001b[0m\u001b[1;33m=\u001b[0m\u001b[0msort\u001b[0m\u001b[1;33m,\u001b[0m\u001b[1;33m\u001b[0m\u001b[1;33m\u001b[0m\u001b[0m\n\u001b[0;32m   9293\u001b[0m                 )\n\u001b[1;32m-> 9294\u001b[1;33m             return merge(\n\u001b[0m\u001b[0;32m   9295\u001b[0m                 \u001b[0mself\u001b[0m\u001b[1;33m,\u001b[0m\u001b[1;33m\u001b[0m\u001b[1;33m\u001b[0m\u001b[0m\n\u001b[0;32m   9296\u001b[0m                 \u001b[0mother\u001b[0m\u001b[1;33m,\u001b[0m\u001b[1;33m\u001b[0m\u001b[1;33m\u001b[0m\u001b[0m\n",
      "\u001b[1;32m~\\Anaconda3\\lib\\site-packages\\pandas\\core\\reshape\\merge.py\u001b[0m in \u001b[0;36mmerge\u001b[1;34m(left, right, how, on, left_on, right_on, left_index, right_index, sort, suffixes, copy, indicator, validate)\u001b[0m\n\u001b[0;32m    120\u001b[0m         \u001b[0mvalidate\u001b[0m\u001b[1;33m=\u001b[0m\u001b[0mvalidate\u001b[0m\u001b[1;33m,\u001b[0m\u001b[1;33m\u001b[0m\u001b[1;33m\u001b[0m\u001b[0m\n\u001b[0;32m    121\u001b[0m     )\n\u001b[1;32m--> 122\u001b[1;33m     \u001b[1;32mreturn\u001b[0m \u001b[0mop\u001b[0m\u001b[1;33m.\u001b[0m\u001b[0mget_result\u001b[0m\u001b[1;33m(\u001b[0m\u001b[1;33m)\u001b[0m\u001b[1;33m\u001b[0m\u001b[1;33m\u001b[0m\u001b[0m\n\u001b[0m\u001b[0;32m    123\u001b[0m \u001b[1;33m\u001b[0m\u001b[0m\n\u001b[0;32m    124\u001b[0m \u001b[1;33m\u001b[0m\u001b[0m\n",
      "\u001b[1;32m~\\Anaconda3\\lib\\site-packages\\pandas\\core\\reshape\\merge.py\u001b[0m in \u001b[0;36mget_result\u001b[1;34m(self)\u001b[0m\n\u001b[0;32m    716\u001b[0m         \u001b[0mjoin_index\u001b[0m\u001b[1;33m,\u001b[0m \u001b[0mleft_indexer\u001b[0m\u001b[1;33m,\u001b[0m \u001b[0mright_indexer\u001b[0m \u001b[1;33m=\u001b[0m \u001b[0mself\u001b[0m\u001b[1;33m.\u001b[0m\u001b[0m_get_join_info\u001b[0m\u001b[1;33m(\u001b[0m\u001b[1;33m)\u001b[0m\u001b[1;33m\u001b[0m\u001b[1;33m\u001b[0m\u001b[0m\n\u001b[0;32m    717\u001b[0m \u001b[1;33m\u001b[0m\u001b[0m\n\u001b[1;32m--> 718\u001b[1;33m         llabels, rlabels = _items_overlap_with_suffix(\n\u001b[0m\u001b[0;32m    719\u001b[0m             \u001b[0mself\u001b[0m\u001b[1;33m.\u001b[0m\u001b[0mleft\u001b[0m\u001b[1;33m.\u001b[0m\u001b[0m_info_axis\u001b[0m\u001b[1;33m,\u001b[0m \u001b[0mself\u001b[0m\u001b[1;33m.\u001b[0m\u001b[0mright\u001b[0m\u001b[1;33m.\u001b[0m\u001b[0m_info_axis\u001b[0m\u001b[1;33m,\u001b[0m \u001b[0mself\u001b[0m\u001b[1;33m.\u001b[0m\u001b[0msuffixes\u001b[0m\u001b[1;33m\u001b[0m\u001b[1;33m\u001b[0m\u001b[0m\n\u001b[0;32m    720\u001b[0m         )\n",
      "\u001b[1;32m~\\Anaconda3\\lib\\site-packages\\pandas\\core\\reshape\\merge.py\u001b[0m in \u001b[0;36m_items_overlap_with_suffix\u001b[1;34m(left, right, suffixes)\u001b[0m\n\u001b[0;32m   2315\u001b[0m \u001b[1;33m\u001b[0m\u001b[0m\n\u001b[0;32m   2316\u001b[0m     \u001b[1;32mif\u001b[0m \u001b[1;32mnot\u001b[0m \u001b[0mlsuffix\u001b[0m \u001b[1;32mand\u001b[0m \u001b[1;32mnot\u001b[0m \u001b[0mrsuffix\u001b[0m\u001b[1;33m:\u001b[0m\u001b[1;33m\u001b[0m\u001b[1;33m\u001b[0m\u001b[0m\n\u001b[1;32m-> 2317\u001b[1;33m         \u001b[1;32mraise\u001b[0m \u001b[0mValueError\u001b[0m\u001b[1;33m(\u001b[0m\u001b[1;34mf\"columns overlap but no suffix specified: {to_rename}\"\u001b[0m\u001b[1;33m)\u001b[0m\u001b[1;33m\u001b[0m\u001b[1;33m\u001b[0m\u001b[0m\n\u001b[0m\u001b[0;32m   2318\u001b[0m \u001b[1;33m\u001b[0m\u001b[0m\n\u001b[0;32m   2319\u001b[0m     \u001b[1;32mdef\u001b[0m \u001b[0mrenamer\u001b[0m\u001b[1;33m(\u001b[0m\u001b[0mx\u001b[0m\u001b[1;33m,\u001b[0m \u001b[0msuffix\u001b[0m\u001b[1;33m)\u001b[0m\u001b[1;33m:\u001b[0m\u001b[1;33m\u001b[0m\u001b[1;33m\u001b[0m\u001b[0m\n",
      "\u001b[1;31mValueError\u001b[0m: columns overlap but no suffix specified: Index(['cricket'], dtype='object')"
     ]
    }
   ],
   "source": [
    "import pandas as pd\n",
    "df1 = pd.DataFrame({\n",
    "    'cars':[\"BMW\",\"Volvo\",\"Ford\"],\n",
    "    'color' : [\"orange\", \"yellow\",\"Red\"],\n",
    "     'cricket': [\"bat\", \"ball\", \"Batsman\"]\n",
    "})\n",
    "df2 = pd.DataFrame({\n",
    "    'cricket': [\"bat\", \"ball\", \"Batsman\"],\n",
    "    'stadium':[\"Gachibowli\",\"Mumbai\",\"Kolkota\"],\n",
    "    'Players' :[\"Sachin\", \"Yusuf\",\"Harbajan\"]\n",
    "}) \n",
    "frames=df1.join(df2)\n",
    "print(frames)\n"
   ]
  },
  {
   "cell_type": "code",
   "execution_count": 8,
   "id": "fa6aa2fc",
   "metadata": {},
   "outputs": [
    {
     "ename": "SyntaxError",
     "evalue": "invalid syntax (3730505791.py, line 3)",
     "output_type": "error",
     "traceback": [
      "\u001b[1;36m  File \u001b[1;32m\"C:\\Users\\satish\\AppData\\Local\\Temp\\ipykernel_13512\\3730505791.py\"\u001b[1;36m, line \u001b[1;32m3\u001b[0m\n\u001b[1;33m    'Types': \"Length\",\"Width\",\"Bredth\"]}\u001b[0m\n\u001b[1;37m           ^\u001b[0m\n\u001b[1;31mSyntaxError\u001b[0m\u001b[1;31m:\u001b[0m invalid syntax\n"
     ]
    }
   ],
   "source": [
    "import pandas as pd\n",
    "mydata1={'colours':[ \"RED\",\"COLOUR\",\"GREEN\"\n",
    "        'Types': \"Length\",\"Width\",\"Bredth\"]}\n",
    "mydata2={'Brands' :[ \"Titan\", \"Fastrack\", \"Noise\"]}\n",
    "df=pd.DataFrame(mydata1)\n",
    "df1=pd.DataFrame(mydata2)\n",
    "myvar=df.join(df1)"
   ]
  },
  {
   "cell_type": "code",
   "execution_count": 2,
   "id": "e6ad0c34",
   "metadata": {},
   "outputs": [
    {
     "name": "stdout",
     "output_type": "stream",
     "text": [
      "  colours   Types    Brands\n",
      "0     RED  Length     Titan\n",
      "1  COLOUR   Width  Fastrack\n",
      "2   GREEN  Bredth     Noise\n"
     ]
    }
   ],
   "source": [
    "import pandas as pd\n",
    "mydata1={'colours':[ \"RED\",\"COLOUR\",\"GREEN\"],\n",
    "        'Types': [\"Length\",\"Width\",\"Bredth\"]}\n",
    "mydata2={'Brands' :[ \"Titan\", \"Fastrack\", \"Noise\"]}\n",
    "df=pd.DataFrame(mydata1)\n",
    "df1=pd.DataFrame(mydata2)\n",
    "myvar=df.join(df1)\n",
    "print(myvar)"
   ]
  },
  {
   "cell_type": "code",
   "execution_count": 13,
   "id": "257bb742",
   "metadata": {},
   "outputs": [],
   "source": [
    "import pandas as pd\n",
    "mydata1={'colours':[ \"RED\",\"COLOUR\",\"GREEN\"],\n",
    "        'Types': [\"Length\",\"Width\",\"Bredth\"]}\n",
    "mydata2={'Brands' :[ \"Titan\", \"Fastrack\", \"Noise\"]}\n",
    "df=pd.DataFrame(mydata1)\n",
    "df1=pd.DataFrame(mydata2)\n",
    "myvar=df.join(df1)"
   ]
  },
  {
   "cell_type": "code",
   "execution_count": 14,
   "id": "212380db",
   "metadata": {},
   "outputs": [],
   "source": [
    "import pandas as pd\n",
    "mydata1={'colours':[ \"RED\",\"COLOUR\",\"GREEN\"],\n",
    "        'Types': [\"Length\",\"Width\",\"Bredth\"]}\n",
    "mydata2={'Brands' :[ \"Titan\", \"Fastrack\", \"Noise\"]}\n",
    "df=pd.DataFrame(mydata1)\n",
    "df1=pd.DataFrame(mydata2)\n",
    "myvar=df.join(df1)"
   ]
  },
  {
   "cell_type": "code",
   "execution_count": 15,
   "id": "72ee5f36",
   "metadata": {},
   "outputs": [
    {
     "name": "stdout",
     "output_type": "stream",
     "text": [
      "    name  age  qualified\n",
      "0  Sally   50       True\n",
      "1   Mary   40      False\n",
      "2   John   30      False\n"
     ]
    }
   ],
   "source": [
    "import pandas as pd\n",
    "\n",
    "data1 = {\n",
    "  \"name\": [\"Sally\", \"Mary\", \"John\"],\n",
    "  \"age\": [50, 40, 30]\n",
    "}\n",
    "\n",
    "data2 = {\n",
    "  \"qualified\": [True, False, False]\n",
    "}\n",
    "\n",
    "df1 = pd.DataFrame(data1)\n",
    "df2 = pd.DataFrame(data2)\n",
    "\n",
    "newdf = df1.join(df2)\n",
    "\n",
    "print(newdf)"
   ]
  },
  {
   "cell_type": "code",
   "execution_count": 16,
   "id": "90163b21",
   "metadata": {},
   "outputs": [
    {
     "name": "stdout",
     "output_type": "stream",
     "text": [
      "  colours   Types    Brands\n",
      "0     RED  Length     Titan\n",
      "1  COLOUR   Width  Fastrack\n",
      "2   GREEN  Bredth     Noise\n"
     ]
    }
   ],
   "source": [
    "import pandas as pd\n",
    "mydata1={'colours':[ \"RED\",\"COLOUR\",\"GREEN\"],\n",
    "        'Types': [\"Length\",\"Width\",\"Bredth\"]}\n",
    "mydata2={'Brands' :[ \"Titan\", \"Fastrack\", \"Noise\"]}\n",
    "df=pd.DataFrame(mydata1)\n",
    "df1=pd.DataFrame(mydata2)\n",
    "myvar=df.join(df1)\n",
    "print(myvar)"
   ]
  },
  {
   "cell_type": "code",
   "execution_count": 17,
   "id": "a4ebfefb",
   "metadata": {},
   "outputs": [
    {
     "ename": "AttributeError",
     "evalue": "'DataFrame' object has no attribute 'concat'",
     "output_type": "error",
     "traceback": [
      "\u001b[1;31m---------------------------------------------------------------------------\u001b[0m",
      "\u001b[1;31mAttributeError\u001b[0m                            Traceback (most recent call last)",
      "\u001b[1;32m~\\AppData\\Local\\Temp\\ipykernel_13512\\313601658.py\u001b[0m in \u001b[0;36m<module>\u001b[1;34m\u001b[0m\n\u001b[0;32m      5\u001b[0m \u001b[0mdf\u001b[0m\u001b[1;33m=\u001b[0m\u001b[0mpd\u001b[0m\u001b[1;33m.\u001b[0m\u001b[0mDataFrame\u001b[0m\u001b[1;33m(\u001b[0m\u001b[0mmydata1\u001b[0m\u001b[1;33m)\u001b[0m\u001b[1;33m\u001b[0m\u001b[1;33m\u001b[0m\u001b[0m\n\u001b[0;32m      6\u001b[0m \u001b[0mdf1\u001b[0m\u001b[1;33m=\u001b[0m\u001b[0mpd\u001b[0m\u001b[1;33m.\u001b[0m\u001b[0mDataFrame\u001b[0m\u001b[1;33m(\u001b[0m\u001b[0mmydata2\u001b[0m\u001b[1;33m)\u001b[0m\u001b[1;33m\u001b[0m\u001b[1;33m\u001b[0m\u001b[0m\n\u001b[1;32m----> 7\u001b[1;33m \u001b[0mmyvar\u001b[0m\u001b[1;33m=\u001b[0m\u001b[0mdf\u001b[0m\u001b[1;33m.\u001b[0m\u001b[0mconcat\u001b[0m\u001b[1;33m(\u001b[0m\u001b[0mdf2\u001b[0m\u001b[1;33m)\u001b[0m\u001b[1;33m\u001b[0m\u001b[1;33m\u001b[0m\u001b[0m\n\u001b[0m\u001b[0;32m      8\u001b[0m \u001b[0mprint\u001b[0m\u001b[1;33m(\u001b[0m\u001b[0mmyvar\u001b[0m\u001b[1;33m)\u001b[0m\u001b[1;33m\u001b[0m\u001b[1;33m\u001b[0m\u001b[0m\n",
      "\u001b[1;32m~\\Anaconda3\\lib\\site-packages\\pandas\\core\\generic.py\u001b[0m in \u001b[0;36m__getattr__\u001b[1;34m(self, name)\u001b[0m\n\u001b[0;32m   5573\u001b[0m         ):\n\u001b[0;32m   5574\u001b[0m             \u001b[1;32mreturn\u001b[0m \u001b[0mself\u001b[0m\u001b[1;33m[\u001b[0m\u001b[0mname\u001b[0m\u001b[1;33m]\u001b[0m\u001b[1;33m\u001b[0m\u001b[1;33m\u001b[0m\u001b[0m\n\u001b[1;32m-> 5575\u001b[1;33m         \u001b[1;32mreturn\u001b[0m \u001b[0mobject\u001b[0m\u001b[1;33m.\u001b[0m\u001b[0m__getattribute__\u001b[0m\u001b[1;33m(\u001b[0m\u001b[0mself\u001b[0m\u001b[1;33m,\u001b[0m \u001b[0mname\u001b[0m\u001b[1;33m)\u001b[0m\u001b[1;33m\u001b[0m\u001b[1;33m\u001b[0m\u001b[0m\n\u001b[0m\u001b[0;32m   5576\u001b[0m \u001b[1;33m\u001b[0m\u001b[0m\n\u001b[0;32m   5577\u001b[0m     \u001b[1;32mdef\u001b[0m \u001b[0m__setattr__\u001b[0m\u001b[1;33m(\u001b[0m\u001b[0mself\u001b[0m\u001b[1;33m,\u001b[0m \u001b[0mname\u001b[0m\u001b[1;33m:\u001b[0m \u001b[0mstr\u001b[0m\u001b[1;33m,\u001b[0m \u001b[0mvalue\u001b[0m\u001b[1;33m)\u001b[0m \u001b[1;33m->\u001b[0m \u001b[1;32mNone\u001b[0m\u001b[1;33m:\u001b[0m\u001b[1;33m\u001b[0m\u001b[1;33m\u001b[0m\u001b[0m\n",
      "\u001b[1;31mAttributeError\u001b[0m: 'DataFrame' object has no attribute 'concat'"
     ]
    }
   ],
   "source": [
    "import pandas as pd\n",
    "mydata1={'colours':[ \"RED\",\"COLOUR\",\"GREEN\"],\n",
    "        'Types': [\"Length\",\"Width\",\"Bredth\"]}\n",
    "mydata2={'Brands' :[ \"Titan\", \"Fastrack\", \"Noise\"]}\n",
    "df=pd.DataFrame(mydata1)\n",
    "df1=pd.DataFrame(mydata2)\n",
    "myvar=df.concat(df2)\n",
    "print(myvar)"
   ]
  },
  {
   "cell_type": "code",
   "execution_count": 18,
   "id": "3e83769b",
   "metadata": {},
   "outputs": [
    {
     "name": "stdout",
     "output_type": "stream",
     "text": [
      "          values\n",
      "students        \n",
      "Ramu        20.0\n",
      "kumar      202.0\n",
      "satish      10.0\n"
     ]
    }
   ],
   "source": [
    "import pandas as pd\n",
    "df={'values':[10,202,20],\n",
    "   'students':[\"satish\",\"kumar\", \"Ramu\"]}\n",
    "myvar=pd.DataFrame(df)\n",
    "print(myvar.groupby([\"students\"]).mean())"
   ]
  },
  {
   "cell_type": "code",
   "execution_count": 21,
   "id": "7941b942",
   "metadata": {},
   "outputs": [
    {
     "name": "stdout",
     "output_type": "stream",
     "text": [
      "  colours Types    Brands\n",
      "0    BLUE   NaN     Titan\n",
      "1  YELLOW   NaN  Fastrack\n",
      "2   BLACK   NaN     Noise\n"
     ]
    }
   ],
   "source": [
    "import pandas as pd\n",
    "mydata1={'colours':[ \"RED\",\"COLOUR\",\"GREEN\"],\n",
    "        'Types': [\"Length\",\"Width\",\"Bredth\"]}\n",
    "mydata2={'Brands' :[ \"Titan\", \"Fastrack\", \"Noise\"],\n",
    "         'colours':[ \"BLUE\",\"YELLOW\",\"BLACK\"]\n",
    "        }\n",
    "df=pd.DataFrame(mydata1)\n",
    "df1=pd.DataFrame(mydata2)\n",
    "myvar=df.merge(df1,how='right')\n",
    "print(myvar)"
   ]
  },
  {
   "cell_type": "code",
   "execution_count": 22,
   "id": "58450664",
   "metadata": {},
   "outputs": [
    {
     "name": "stdout",
     "output_type": "stream",
     "text": [
      "  colours   Types    Brands\n",
      "0     RED  Length       NaN\n",
      "1  COLOUR   Width       NaN\n",
      "2   GREEN  Bredth       NaN\n",
      "0    BLUE     NaN     Titan\n",
      "1  YELLOW     NaN  Fastrack\n",
      "2   BLACK     NaN     Noise\n"
     ]
    },
    {
     "name": "stderr",
     "output_type": "stream",
     "text": [
      "C:\\Users\\satish\\AppData\\Local\\Temp\\ipykernel_13512\\2750167160.py:9: FutureWarning: The frame.append method is deprecated and will be removed from pandas in a future version. Use pandas.concat instead.\n",
      "  myvar=df.append(df1)\n"
     ]
    }
   ],
   "source": [
    "import pandas as pd\n",
    "mydata1={'colours':[ \"RED\",\"COLOUR\",\"GREEN\"],\n",
    "        'Types': [\"Length\",\"Width\",\"Bredth\"]}\n",
    "mydata2={'Brands' :[ \"Titan\", \"Fastrack\", \"Noise\"],\n",
    "         'colours':[ \"BLUE\",\"YELLOW\",\"BLACK\"]\n",
    "        }\n",
    "df=pd.DataFrame(mydata1)\n",
    "df1=pd.DataFrame(mydata2)\n",
    "myvar=df.append(df1)\n",
    "print(myvar)"
   ]
  },
  {
   "cell_type": "code",
   "execution_count": 23,
   "id": "8ff94a11",
   "metadata": {},
   "outputs": [
    {
     "name": "stdout",
     "output_type": "stream",
     "text": [
      "[1 2 3 5 4]\n"
     ]
    }
   ],
   "source": [
    "import numpy as np\n",
    "arr=np.array([1,2,3,5,4])\n",
    "print(arr)"
   ]
  },
  {
   "cell_type": "code",
   "execution_count": 25,
   "id": "cbe88ba5",
   "metadata": {},
   "outputs": [
    {
     "name": "stdout",
     "output_type": "stream",
     "text": [
      "[[ 1  2  3  4]\n",
      " [ 1  2  3 43]]\n"
     ]
    }
   ],
   "source": [
    "import numpy as np\n",
    "arr=np.array([[1,2,3,4],[1,2,3,43]])\n",
    "print(arr)"
   ]
  },
  {
   "cell_type": "code",
   "execution_count": 27,
   "id": "65a7db97",
   "metadata": {},
   "outputs": [
    {
     "name": "stdout",
     "output_type": "stream",
     "text": [
      "[[list([1, 2, 3, 4]) list([1, 2, 3, 43])]\n",
      " [list([3, 4, 5, 5]) list([3, 4, 56])]]\n"
     ]
    },
    {
     "name": "stderr",
     "output_type": "stream",
     "text": [
      "C:\\Users\\satish\\AppData\\Local\\Temp\\ipykernel_13512\\1642688770.py:2: VisibleDeprecationWarning: Creating an ndarray from ragged nested sequences (which is a list-or-tuple of lists-or-tuples-or ndarrays with different lengths or shapes) is deprecated. If you meant to do this, you must specify 'dtype=object' when creating the ndarray.\n",
      "  arr=np.array([[[1,2,3,4],[1,2,3,43]],[[3,4,5,5],[3,4,56]]])\n"
     ]
    }
   ],
   "source": [
    "import numpy as np\n",
    "arr=np.array([[[1,2,3,4],[1,2,3,43]],[[3,4,5,5],[3,4,56]]])\n",
    "print(arr)"
   ]
  },
  {
   "cell_type": "code",
   "execution_count": 28,
   "id": "93f9d1e7",
   "metadata": {},
   "outputs": [
    {
     "name": "stdout",
     "output_type": "stream",
     "text": [
      "1\n"
     ]
    }
   ],
   "source": [
    "import numpy as np\n",
    "arr=np.array([[1,2,3],[2,3,4]])\n",
    "print(arr.ndim)"
   ]
  },
  {
   "cell_type": "code",
   "execution_count": 29,
   "id": "9cdabb54",
   "metadata": {},
   "outputs": [
    {
     "name": "stdout",
     "output_type": "stream",
     "text": [
      "2\n"
     ]
    }
   ],
   "source": [
    "import numpy as np\n",
    "arr=np.array([[1,2,3],[2,3,4]])\n",
    "print(arr.ndim)"
   ]
  },
  {
   "cell_type": "code",
   "execution_count": 31,
   "id": "cbf584ce",
   "metadata": {},
   "outputs": [
    {
     "name": "stdout",
     "output_type": "stream",
     "text": [
      "6\n",
      "[[[[[[1 2 3]\n",
      "     [2 3 4]]]]]]\n"
     ]
    }
   ],
   "source": [
    "import numpy as np\n",
    "arr=np.array([[1,2,3],[2,3,4]],ndmin=6)\n",
    "print(arr.ndim)\n",
    "print(arr)"
   ]
  },
  {
   "cell_type": "code",
   "execution_count": 32,
   "id": "5ec65897",
   "metadata": {},
   "outputs": [
    {
     "name": "stdout",
     "output_type": "stream",
     "text": [
      "[1 2 3]\n"
     ]
    }
   ],
   "source": [
    "import numpy as np\n",
    "arr=np.array([[1,2,3],[2,3,4]])\n",
    "print(arr[0])"
   ]
  },
  {
   "cell_type": "code",
   "execution_count": 35,
   "id": "c1eef384",
   "metadata": {},
   "outputs": [
    {
     "name": "stdout",
     "output_type": "stream",
     "text": [
      "[1 2]\n"
     ]
    }
   ],
   "source": [
    "import numpy as np\n",
    "arr=np.array([1,2,3,4,5])\n",
    "print(arr[0:2])"
   ]
  },
  {
   "cell_type": "code",
   "execution_count": 37,
   "id": "0b0a0a88",
   "metadata": {},
   "outputs": [
    {
     "name": "stdout",
     "output_type": "stream",
     "text": [
      "[1 2 3 2 3 5]\n"
     ]
    }
   ],
   "source": [
    "import numpy as np\n",
    "arr=np.array([1,2,3])\n",
    "arr1=np.array([2,3,5])\n",
    "myvar=np.concatenate((arr,arr1))\n",
    "print(myvar)"
   ]
  },
  {
   "cell_type": "code",
   "execution_count": 41,
   "id": "902bccfd",
   "metadata": {},
   "outputs": [
    {
     "name": "stdout",
     "output_type": "stream",
     "text": [
      "[array([1, 2]), array([32,  3]), array([4])]\n"
     ]
    }
   ],
   "source": [
    "import numpy as np\n",
    "arr=np.array([1,2,32,3,4])\n",
    "newarr=np.array_split(arr,3)\n",
    "print(newarr)"
   ]
  },
  {
   "cell_type": "code",
   "execution_count": 42,
   "id": "16e1a94f",
   "metadata": {},
   "outputs": [
    {
     "name": "stdout",
     "output_type": "stream",
     "text": [
      "(array([2], dtype=int64),)\n"
     ]
    }
   ],
   "source": [
    "import numpy as np\n",
    "arr=np.array([1,2,32,3,4])\n",
    "newarr=np.where(arr==32)\n",
    "print(newarr)"
   ]
  },
  {
   "cell_type": "code",
   "execution_count": 43,
   "id": "f03b6cf5",
   "metadata": {},
   "outputs": [
    {
     "name": "stdout",
     "output_type": "stream",
     "text": [
      "[1 2 3 4 5 6 7 8 9]\n"
     ]
    }
   ],
   "source": [
    "import numpy as np\n",
    "arr=np.array([9,8,7,6,5,4,3,2,1])\n",
    "print(np.sort(arr))"
   ]
  },
  {
   "cell_type": "code",
   "execution_count": 44,
   "id": "c729344f",
   "metadata": {},
   "outputs": [
    {
     "name": "stdout",
     "output_type": "stream",
     "text": [
      "[9 7 6]\n"
     ]
    }
   ],
   "source": [
    "import numpy as np\n",
    "arr=np.array([9,8,7,6,5,4,3,2,1])\n",
    "x=[True, False,True,True,False,False,False,False,False]\n",
    "newarr=arr[x]\n",
    "print(newarr)"
   ]
  },
  {
   "cell_type": "code",
   "execution_count": 50,
   "id": "130f4551",
   "metadata": {},
   "outputs": [
    {
     "name": "stdout",
     "output_type": "stream",
     "text": [
      "0\n",
      "1\n",
      "2\n",
      "3\n",
      "4\n"
     ]
    }
   ],
   "source": [
    "import numpy as np\n",
    "arr=np.array([9,8,7,6,5,4,3,2,1])\n",
    "x=range(5)\n",
    "for arr in x:\n",
    "  print(arr)"
   ]
  },
  {
   "cell_type": "code",
   "execution_count": 52,
   "id": "e9753b83",
   "metadata": {},
   "outputs": [
    {
     "name": "stdout",
     "output_type": "stream",
     "text": [
      "     Age  Gender    TB   DB  Alkphos  Sgpt  Sgot   TP  ALB    AG  LiverPatient\n",
      "0     65  Female   0.7  0.1      187    16    18  6.8  3.3  0.90             1\n",
      "1     62    Male  10.9  5.5      699    64   100  7.5  3.2  0.74             1\n",
      "2     62    Male   7.3  4.1      490    60    68  7.0  3.3  0.89             1\n",
      "3     58    Male   1.0  0.4      182    14    20  6.8  3.4  1.00             1\n",
      "4     72    Male   3.9  2.0      195    27    59  7.3  2.4  0.40             1\n",
      "..   ...     ...   ...  ...      ...   ...   ...  ...  ...   ...           ...\n",
      "578   60    Male   0.5  0.1      500    20    34  5.9  1.6  0.37             2\n",
      "579   40    Male   0.6  0.1       98    35    31  6.0  3.2  1.10             1\n",
      "580   52    Male   0.8  0.2      245    48    49  6.4  3.2  1.00             1\n",
      "581   31    Male   1.3  0.5      184    29    32  6.8  3.4  1.00             1\n",
      "582   38    Male   1.0  0.3      216    21    24  7.3  4.4  1.50             2\n",
      "\n",
      "[583 rows x 11 columns]\n"
     ]
    }
   ],
   "source": [
    "import pandas as pd\n",
    "df=pd.read_csv(\"Desktop\\\\Indian Liver Patient.csv\")\n",
    "print(df)"
   ]
  },
  {
   "cell_type": "code",
   "execution_count": 53,
   "id": "c79a9d0e",
   "metadata": {},
   "outputs": [
    {
     "name": "stdout",
     "output_type": "stream",
     "text": [
      "     Age  Gender    TB   DB  Alkphos  Sgpt  Sgot   TP  ALB    AG  LiverPatient\n",
      "0     65  Female   0.7  0.1      187    16    18  6.8  3.3  0.90             1\n",
      "1     62    Male  10.9  5.5      699    64   100  7.5  3.2  0.74             1\n",
      "2     62    Male   7.3  4.1      490    60    68  7.0  3.3  0.89             1\n",
      "3     58    Male   1.0  0.4      182    14    20  6.8  3.4  1.00             1\n",
      "4     72    Male   3.9  2.0      195    27    59  7.3  2.4  0.40             1\n",
      "..   ...     ...   ...  ...      ...   ...   ...  ...  ...   ...           ...\n",
      "578   60    Male   0.5  0.1      500    20    34  5.9  1.6  0.37             2\n",
      "579   40    Male   0.6  0.1       98    35    31  6.0  3.2  1.10             1\n",
      "580   52    Male   0.8  0.2      245    48    49  6.4  3.2  1.00             1\n",
      "581   31    Male   1.3  0.5      184    29    32  6.8  3.4  1.00             1\n",
      "582   38    Male   1.0  0.3      216    21    24  7.3  4.4  1.50             2\n",
      "\n",
      "[579 rows x 11 columns]\n"
     ]
    }
   ],
   "source": [
    "dfresult=df.dropna()\n",
    "print(dfresult)"
   ]
  },
  {
   "cell_type": "code",
   "execution_count": 54,
   "id": "0a2ad132",
   "metadata": {},
   "outputs": [
    {
     "data": {
      "text/plain": [
       "Age             0\n",
       "Gender          0\n",
       "TB              0\n",
       "DB              0\n",
       "Alkphos         0\n",
       "Sgpt            0\n",
       "Sgot            0\n",
       "TP              0\n",
       "ALB             0\n",
       "AG              4\n",
       "LiverPatient    0\n",
       "dtype: int64"
      ]
     },
     "execution_count": 54,
     "metadata": {},
     "output_type": "execute_result"
    }
   ],
   "source": [
    " df.isnull().sum()"
   ]
  },
  {
   "cell_type": "code",
   "execution_count": 56,
   "id": "ab75f080",
   "metadata": {},
   "outputs": [],
   "source": [
    "df[\"AG\"].fillna(1,inplace=True)"
   ]
  },
  {
   "cell_type": "code",
   "execution_count": 57,
   "id": "19edacc8",
   "metadata": {},
   "outputs": [
    {
     "name": "stdout",
     "output_type": "stream",
     "text": [
      "     Age  Gender    TB   DB  Alkphos  Sgpt  Sgot   TP  ALB    AG  LiverPatient\n",
      "0     65  Female   0.7  0.1      187    16    18  6.8  3.3  0.90             1\n",
      "1     62    Male  10.9  5.5      699    64   100  7.5  3.2  0.74             1\n",
      "2     62    Male   7.3  4.1      490    60    68  7.0  3.3  0.89             1\n",
      "3     58    Male   1.0  0.4      182    14    20  6.8  3.4  1.00             1\n",
      "4     72    Male   3.9  2.0      195    27    59  7.3  2.4  0.40             1\n",
      "..   ...     ...   ...  ...      ...   ...   ...  ...  ...   ...           ...\n",
      "578   60    Male   0.5  0.1      500    20    34  5.9  1.6  0.37             2\n",
      "579   40    Male   0.6  0.1       98    35    31  6.0  3.2  1.10             1\n",
      "580   52    Male   0.8  0.2      245    48    49  6.4  3.2  1.00             1\n",
      "581   31    Male   1.3  0.5      184    29    32  6.8  3.4  1.00             1\n",
      "582   38    Male   1.0  0.3      216    21    24  7.3  4.4  1.50             2\n",
      "\n",
      "[583 rows x 11 columns]\n"
     ]
    }
   ],
   "source": [
    "print(df)\n"
   ]
  },
  {
   "cell_type": "code",
   "execution_count": 58,
   "id": "76f56b40",
   "metadata": {},
   "outputs": [
    {
     "ename": "AttributeError",
     "evalue": "'DataFrame' object has no attribute 'dropana'",
     "output_type": "error",
     "traceback": [
      "\u001b[1;31m---------------------------------------------------------------------------\u001b[0m",
      "\u001b[1;31mAttributeError\u001b[0m                            Traceback (most recent call last)",
      "\u001b[1;32m~\\AppData\\Local\\Temp\\ipykernel_13512\\2219807263.py\u001b[0m in \u001b[0;36m<module>\u001b[1;34m\u001b[0m\n\u001b[1;32m----> 1\u001b[1;33m \u001b[0mmyvar\u001b[0m\u001b[1;33m=\u001b[0m\u001b[0mdf\u001b[0m\u001b[1;33m.\u001b[0m\u001b[0mdropana\u001b[0m\u001b[1;33m(\u001b[0m\u001b[1;33m)\u001b[0m\u001b[1;33m\u001b[0m\u001b[1;33m\u001b[0m\u001b[0m\n\u001b[0m\u001b[0;32m      2\u001b[0m \u001b[0mprint\u001b[0m\u001b[1;33m(\u001b[0m\u001b[0mmyvar\u001b[0m\u001b[1;33m)\u001b[0m\u001b[1;33m\u001b[0m\u001b[1;33m\u001b[0m\u001b[0m\n",
      "\u001b[1;32m~\\Anaconda3\\lib\\site-packages\\pandas\\core\\generic.py\u001b[0m in \u001b[0;36m__getattr__\u001b[1;34m(self, name)\u001b[0m\n\u001b[0;32m   5573\u001b[0m         ):\n\u001b[0;32m   5574\u001b[0m             \u001b[1;32mreturn\u001b[0m \u001b[0mself\u001b[0m\u001b[1;33m[\u001b[0m\u001b[0mname\u001b[0m\u001b[1;33m]\u001b[0m\u001b[1;33m\u001b[0m\u001b[1;33m\u001b[0m\u001b[0m\n\u001b[1;32m-> 5575\u001b[1;33m         \u001b[1;32mreturn\u001b[0m \u001b[0mobject\u001b[0m\u001b[1;33m.\u001b[0m\u001b[0m__getattribute__\u001b[0m\u001b[1;33m(\u001b[0m\u001b[0mself\u001b[0m\u001b[1;33m,\u001b[0m \u001b[0mname\u001b[0m\u001b[1;33m)\u001b[0m\u001b[1;33m\u001b[0m\u001b[1;33m\u001b[0m\u001b[0m\n\u001b[0m\u001b[0;32m   5576\u001b[0m \u001b[1;33m\u001b[0m\u001b[0m\n\u001b[0;32m   5577\u001b[0m     \u001b[1;32mdef\u001b[0m \u001b[0m__setattr__\u001b[0m\u001b[1;33m(\u001b[0m\u001b[0mself\u001b[0m\u001b[1;33m,\u001b[0m \u001b[0mname\u001b[0m\u001b[1;33m:\u001b[0m \u001b[0mstr\u001b[0m\u001b[1;33m,\u001b[0m \u001b[0mvalue\u001b[0m\u001b[1;33m)\u001b[0m \u001b[1;33m->\u001b[0m \u001b[1;32mNone\u001b[0m\u001b[1;33m:\u001b[0m\u001b[1;33m\u001b[0m\u001b[1;33m\u001b[0m\u001b[0m\n",
      "\u001b[1;31mAttributeError\u001b[0m: 'DataFrame' object has no attribute 'dropana'"
     ]
    }
   ],
   "source": [
    "myvar=df.dropana()\n",
    "print(myvar)"
   ]
  },
  {
   "cell_type": "code",
   "execution_count": 59,
   "id": "5e1ea3bc",
   "metadata": {},
   "outputs": [
    {
     "data": {
      "text/plain": [
       "Age             0\n",
       "Gender          0\n",
       "TB              0\n",
       "DB              0\n",
       "Alkphos         0\n",
       "Sgpt            0\n",
       "Sgot            0\n",
       "TP              0\n",
       "ALB             0\n",
       "AG              0\n",
       "LiverPatient    0\n",
       "dtype: int64"
      ]
     },
     "execution_count": 59,
     "metadata": {},
     "output_type": "execute_result"
    }
   ],
   "source": [
    "df.isnull().sum()"
   ]
  },
  {
   "cell_type": "code",
   "execution_count": 61,
   "id": "9cb15e44",
   "metadata": {},
   "outputs": [
    {
     "ename": "NameError",
     "evalue": "name 'sns' is not defined",
     "output_type": "error",
     "traceback": [
      "\u001b[1;31m---------------------------------------------------------------------------\u001b[0m",
      "\u001b[1;31mNameError\u001b[0m                                 Traceback (most recent call last)",
      "\u001b[1;32m~\\AppData\\Local\\Temp\\ipykernel_13512\\4025730700.py\u001b[0m in \u001b[0;36m<module>\u001b[1;34m\u001b[0m\n\u001b[0;32m      1\u001b[0m \u001b[1;32mimport\u001b[0m \u001b[0mpandas\u001b[0m \u001b[1;32mas\u001b[0m \u001b[0mpd\u001b[0m\u001b[1;33m\u001b[0m\u001b[1;33m\u001b[0m\u001b[0m\n\u001b[0;32m      2\u001b[0m \u001b[0mdf\u001b[0m\u001b[1;33m=\u001b[0m\u001b[0mpd\u001b[0m\u001b[1;33m.\u001b[0m\u001b[0mread_csv\u001b[0m\u001b[1;33m(\u001b[0m\u001b[1;34m\"Desktop\\\\Indian Liver Patient.csv\"\u001b[0m\u001b[1;33m)\u001b[0m\u001b[1;33m\u001b[0m\u001b[1;33m\u001b[0m\u001b[0m\n\u001b[1;32m----> 3\u001b[1;33m \u001b[0msns\u001b[0m\u001b[1;33m.\u001b[0m\u001b[0mheatmap\u001b[0m\u001b[1;33m(\u001b[0m\u001b[0mdf\u001b[0m\u001b[1;33m.\u001b[0m\u001b[0misnull\u001b[0m\u001b[1;33m(\u001b[0m\u001b[1;33m)\u001b[0m\u001b[1;33m,\u001b[0m\u001b[0myticklabels\u001b[0m\u001b[1;33m=\u001b[0m\u001b[1;32mFalse\u001b[0m\u001b[1;33m)\u001b[0m\u001b[1;33m\u001b[0m\u001b[1;33m\u001b[0m\u001b[0m\n\u001b[0m",
      "\u001b[1;31mNameError\u001b[0m: name 'sns' is not defined"
     ]
    }
   ],
   "source": [
    "import pandas as pd\n",
    "df=pd.read_csv(\"Desktop\\\\Indian Liver Patient.csv\")\n",
    "sns.heatmap(df.isnull(),yticklabels=False)"
   ]
  },
  {
   "cell_type": "code",
   "execution_count": 63,
   "id": "b0de7d03",
   "metadata": {},
   "outputs": [
    {
     "name": "stdout",
     "output_type": "stream",
     "text": [
      "[4 3 2 1]\n"
     ]
    }
   ],
   "source": [
    "import numpy as np\n",
    "arr=np.array([1,2,3,4])\n",
    "reversearr=arr[: :-1]\n",
    "print(reversearr)"
   ]
  },
  {
   "cell_type": "code",
   "execution_count": 72,
   "id": "d975947f",
   "metadata": {},
   "outputs": [
    {
     "name": "stdout",
     "output_type": "stream",
     "text": [
      "[[1110 1158 1206]\n",
      " [1317 1374 1431]\n",
      " [1524 1590 1656]]\n"
     ]
    }
   ],
   "source": [
    "import numpy as np\n",
    "df1 = np.arange(15,24).reshape(3,3)\n",
    "df2=np.arange(20,29).reshape(3,3)\n",
    "prod=df1.dot(df2)\n",
    "print(prod)\n",
    "\n",
    "\n"
   ]
  },
  {
   "cell_type": "code",
   "execution_count": 73,
   "id": "ffc0194c",
   "metadata": {},
   "outputs": [
    {
     "ename": "AttributeError",
     "evalue": "'numpy.ndarray' object has no attribute 'concatenate'",
     "output_type": "error",
     "traceback": [
      "\u001b[1;31m---------------------------------------------------------------------------\u001b[0m",
      "\u001b[1;31mAttributeError\u001b[0m                            Traceback (most recent call last)",
      "\u001b[1;32m~\\AppData\\Local\\Temp\\ipykernel_13512\\3800437368.py\u001b[0m in \u001b[0;36m<module>\u001b[1;34m\u001b[0m\n\u001b[0;32m      2\u001b[0m \u001b[0marr\u001b[0m\u001b[1;33m=\u001b[0m\u001b[0mnp\u001b[0m\u001b[1;33m.\u001b[0m\u001b[0marray\u001b[0m\u001b[1;33m(\u001b[0m\u001b[1;33m[\u001b[0m\u001b[1;36m1\u001b[0m\u001b[1;33m,\u001b[0m\u001b[1;36m2\u001b[0m\u001b[1;33m,\u001b[0m\u001b[1;36m3\u001b[0m\u001b[1;33m,\u001b[0m\u001b[1;36m4\u001b[0m\u001b[1;33m]\u001b[0m\u001b[1;33m)\u001b[0m\u001b[1;33m\u001b[0m\u001b[1;33m\u001b[0m\u001b[0m\n\u001b[0;32m      3\u001b[0m \u001b[0marr1\u001b[0m\u001b[1;33m=\u001b[0m\u001b[0mnp\u001b[0m\u001b[1;33m.\u001b[0m\u001b[0marray\u001b[0m\u001b[1;33m(\u001b[0m\u001b[1;33m[\u001b[0m\u001b[1;36m5\u001b[0m\u001b[1;33m,\u001b[0m\u001b[1;36m6\u001b[0m\u001b[1;33m,\u001b[0m\u001b[1;36m7\u001b[0m\u001b[1;33m,\u001b[0m\u001b[1;36m8\u001b[0m\u001b[1;33m]\u001b[0m\u001b[1;33m)\u001b[0m\u001b[1;33m\u001b[0m\u001b[1;33m\u001b[0m\u001b[0m\n\u001b[1;32m----> 4\u001b[1;33m \u001b[0mcon\u001b[0m\u001b[1;33m=\u001b[0m\u001b[0marr\u001b[0m\u001b[1;33m.\u001b[0m\u001b[0mconcatenate\u001b[0m\u001b[1;33m(\u001b[0m\u001b[0marr1\u001b[0m\u001b[1;33m)\u001b[0m\u001b[1;33m\u001b[0m\u001b[1;33m\u001b[0m\u001b[0m\n\u001b[0m\u001b[0;32m      5\u001b[0m \u001b[0mprint\u001b[0m\u001b[1;33m(\u001b[0m\u001b[0mcon\u001b[0m\u001b[1;33m)\u001b[0m\u001b[1;33m\u001b[0m\u001b[1;33m\u001b[0m\u001b[0m\n",
      "\u001b[1;31mAttributeError\u001b[0m: 'numpy.ndarray' object has no attribute 'concatenate'"
     ]
    }
   ],
   "source": [
    "import numpy as np\n",
    "arr=np.array([1,2,3,4])\n",
    "arr1=np.array([5,6,7,8])\n",
    "con=arr.concatenate(arr1)\n",
    "print(con)"
   ]
  },
  {
   "cell_type": "code",
   "execution_count": 1,
   "id": "263d2c26",
   "metadata": {},
   "outputs": [
    {
     "name": "stdout",
     "output_type": "stream",
     "text": [
      "       longitude  latitude  housing_median_age  total_rooms  total_bedrooms  \\\n",
      "0        -122.23     37.88                41.0        880.0           129.0   \n",
      "1        -122.22     37.86                21.0       7099.0          1106.0   \n",
      "2        -122.24     37.85                52.0       1467.0           190.0   \n",
      "3        -122.25     37.85                52.0       1274.0           235.0   \n",
      "4        -122.25     37.85                52.0       1627.0           280.0   \n",
      "...          ...       ...                 ...          ...             ...   \n",
      "20635    -121.09     39.48                25.0       1665.0           374.0   \n",
      "20636    -121.21     39.49                18.0        697.0           150.0   \n",
      "20637    -121.22     39.43                17.0       2254.0           485.0   \n",
      "20638    -121.32     39.43                18.0       1860.0           409.0   \n",
      "20639    -121.24     39.37                16.0       2785.0           616.0   \n",
      "\n",
      "       population  households  median_income  median_house_value  \\\n",
      "0           322.0       126.0         8.3252            452600.0   \n",
      "1          2401.0      1138.0         8.3014            358500.0   \n",
      "2           496.0       177.0         7.2574            352100.0   \n",
      "3           558.0       219.0         5.6431            341300.0   \n",
      "4           565.0       259.0         3.8462            342200.0   \n",
      "...           ...         ...            ...                 ...   \n",
      "20635       845.0       330.0         1.5603             78100.0   \n",
      "20636       356.0       114.0         2.5568             77100.0   \n",
      "20637      1007.0       433.0         1.7000             92300.0   \n",
      "20638       741.0       349.0         1.8672             84700.0   \n",
      "20639      1387.0       530.0         2.3886             89400.0   \n",
      "\n",
      "      ocean_proximity  \n",
      "0            NEAR BAY  \n",
      "1            NEAR BAY  \n",
      "2            NEAR BAY  \n",
      "3            NEAR BAY  \n",
      "4            NEAR BAY  \n",
      "...               ...  \n",
      "20635          INLAND  \n",
      "20636          INLAND  \n",
      "20637          INLAND  \n",
      "20638          INLAND  \n",
      "20639          INLAND  \n",
      "\n",
      "[20640 rows x 10 columns]\n"
     ]
    }
   ],
   "source": [
    "import pandas as pd\n",
    "df=pd.read_csv(\"C:\\\\Users\\\\satish\\\\Documents\\\\Downloads\\\\housing.csv\")\n",
    "print(df)"
   ]
  },
  {
   "cell_type": "code",
   "execution_count": 2,
   "id": "27bb2d28",
   "metadata": {
    "scrolled": true
   },
   "outputs": [
    {
     "data": {
      "text/plain": [
       "longitude               0\n",
       "latitude                0\n",
       "housing_median_age      0\n",
       "total_rooms             0\n",
       "total_bedrooms        207\n",
       "population              0\n",
       "households              0\n",
       "median_income           0\n",
       "median_house_value      0\n",
       "ocean_proximity         0\n",
       "dtype: int64"
      ]
     },
     "execution_count": 2,
     "metadata": {},
     "output_type": "execute_result"
    }
   ],
   "source": [
    "df.isnull().sum()\n"
   ]
  },
  {
   "cell_type": "code",
   "execution_count": 6,
   "id": "83b6b02c",
   "metadata": {},
   "outputs": [
    {
     "name": "stdout",
     "output_type": "stream",
     "text": [
      "2012-01-15 00:00:00\n"
     ]
    }
   ],
   "source": [
    "import datetime\n",
    "from datetime import datetime\n",
    "print(datetime(2012, 1,15))"
   ]
  },
  {
   "cell_type": "code",
   "execution_count": 7,
   "id": "4dbd5a4e",
   "metadata": {},
   "outputs": [
    {
     "name": "stdout",
     "output_type": "stream",
     "text": [
      "2012-01-15 09:20:00\n"
     ]
    }
   ],
   "source": [
    "print(datetime(2012,1,15,9,20))"
   ]
  },
  {
   "cell_type": "code",
   "execution_count": 8,
   "id": "c916a055",
   "metadata": {},
   "outputs": [
    {
     "name": "stdout",
     "output_type": "stream",
     "text": [
      "2023-03-05 23:28:41.065165\n"
     ]
    }
   ],
   "source": [
    "print((datetime.now()))"
   ]
  },
  {
   "cell_type": "code",
   "execution_count": 9,
   "id": "a7b3e0c6",
   "metadata": {},
   "outputs": [
    {
     "name": "stdout",
     "output_type": "stream",
     "text": [
      "2012-01-15\n"
     ]
    }
   ],
   "source": [
    "print((datetime.date(datetime(2012,1,15))))"
   ]
  },
  {
   "cell_type": "code",
   "execution_count": 10,
   "id": "c40a67d5",
   "metadata": {},
   "outputs": [
    {
     "name": "stdout",
     "output_type": "stream",
     "text": [
      "2023-03-05\n"
     ]
    }
   ],
   "source": [
    "print((datetime.now().date()))"
   ]
  },
  {
   "cell_type": "code",
   "execution_count": 11,
   "id": "00699bc0",
   "metadata": {},
   "outputs": [
    {
     "name": "stdout",
     "output_type": "stream",
     "text": [
      "09:20:00\n"
     ]
    }
   ],
   "source": [
    "print((datetime.time(datetime(2012,1,15,9,20))))"
   ]
  },
  {
   "cell_type": "code",
   "execution_count": 12,
   "id": "a8fcaf07",
   "metadata": {},
   "outputs": [
    {
     "name": "stdout",
     "output_type": "stream",
     "text": [
      "23:32:36.348629\n"
     ]
    }
   ],
   "source": [
    "print((datetime.now().time()))"
   ]
  },
  {
   "cell_type": "code",
   "execution_count": 14,
   "id": "f1d0a37e",
   "metadata": {},
   "outputs": [
    {
     "name": "stdout",
     "output_type": "stream",
     "text": [
      "DatetimeIndex(['2000-01-01', '2000-01-02', '2000-01-03', '2000-01-04',\n",
      "               '2000-01-05', '2000-01-06', '2000-01-07'],\n",
      "              dtype='datetime64[ns]', freq='D')\n"
     ]
    }
   ],
   "source": [
    "dates=pd.date_range('1,1,2000',periods=7)\n",
    "print(dates)"
   ]
  },
  {
   "cell_type": "code",
   "execution_count": 17,
   "id": "ab357e0c",
   "metadata": {},
   "outputs": [
    {
     "name": "stdout",
     "output_type": "stream",
     "text": [
      "2000-01-02\n"
     ]
    }
   ],
   "source": [
    "print((datetime.date(datetime(2000,1,2))))"
   ]
  },
  {
   "cell_type": "code",
   "execution_count": 22,
   "id": "21a09de4",
   "metadata": {},
   "outputs": [
    {
     "name": "stdout",
     "output_type": "stream",
     "text": [
      "current date 2023-03-05 00:00:00\n",
      "Tomorrow 2023-03-06 00:00:00\n",
      "yesterday 2023-03-04 00:00:00\n",
      "DatetimeIndex(['2000-01-01'], dtype='datetime64[ns]', freq='D')\n"
     ]
    }
   ],
   "source": [
    "today=datetime(2023,3,5)\n",
    "print(\"current date\",today)\n",
    "tomorrow=today+pd.Timedelta(days=1)\n",
    "print(\"Tomorrow\",tomorrow)\n",
    "yesterday=today-pd.Timedelta(days=1)\n",
    "print(\"yesterday\",yesterday)\n",
    "dates=pd.date_range('1,1,2000',)\n",
    "print(dates)"
   ]
  },
  {
   "cell_type": "code",
   "execution_count": 25,
   "id": "9e30d105",
   "metadata": {},
   "outputs": [
    {
     "name": "stdout",
     "output_type": "stream",
     "text": [
      "2023-03-05   -1.193071\n",
      "2023-03-06   -1.042537\n",
      "dtype: float64\n"
     ]
    }
   ],
   "source": [
    "import numpy as np\n",
    "dates=[datetime(2023,3,5),datetime(2023,3,6)]\n",
    "times_series=pd.Series(np.random.randn(2),dates)\n",
    "print(times_series)"
   ]
  },
  {
   "cell_type": "code",
   "execution_count": 26,
   "id": "d9ec233d",
   "metadata": {},
   "outputs": [
    {
     "data": {
      "text/plain": [
       "<property at 0x2424c671e50>"
      ]
     },
     "execution_count": 26,
     "metadata": {},
     "output_type": "execute_result"
    }
   ],
   "source": [
    "pd.Series.dt.year"
   ]
  },
  {
   "cell_type": "code",
   "execution_count": 27,
   "id": "c9c50369",
   "metadata": {},
   "outputs": [],
   "source": [
    "date11=pd.Series.dt.year"
   ]
  },
  {
   "cell_type": "code",
   "execution_count": 29,
   "id": "e153f643",
   "metadata": {},
   "outputs": [
    {
     "name": "stdout",
     "output_type": "stream",
     "text": [
      "<property object at 0x000002424C671E50>\n"
     ]
    }
   ],
   "source": [
    "print(date)"
   ]
  },
  {
   "cell_type": "code",
   "execution_count": 30,
   "id": "20345246",
   "metadata": {},
   "outputs": [
    {
     "name": "stdout",
     "output_type": "stream",
     "text": [
      "2023-03-06 00:01:54.695066\n"
     ]
    }
   ],
   "source": [
    "print(datetime.now())"
   ]
  },
  {
   "cell_type": "code",
   "execution_count": 33,
   "id": "8669928b",
   "metadata": {},
   "outputs": [
    {
     "name": "stdout",
     "output_type": "stream",
     "text": [
      "2023-02-24 00:02:51.382330\n"
     ]
    }
   ],
   "source": [
    "print(datetime.now()-pd.Timedelta(days=10))"
   ]
  },
  {
   "cell_type": "code",
   "execution_count": 35,
   "id": "cb813931",
   "metadata": {},
   "outputs": [
    {
     "name": "stdout",
     "output_type": "stream",
     "text": [
      "Month of March:\n",
      "0    2023-03-05\n",
      "1    2023-03-06\n",
      "2    2023-03-07\n",
      "3    2023-03-08\n",
      "4    2023-03-09\n",
      "5    2023-03-10\n",
      "6    2023-03-11\n",
      "7    2023-03-12\n",
      "8    2023-03-13\n",
      "9    2023-03-14\n",
      "10   2023-03-15\n",
      "11   2023-03-16\n",
      "12   2023-03-17\n",
      "13   2023-03-18\n",
      "14   2023-03-19\n",
      "15   2023-03-20\n",
      "16   2023-03-21\n",
      "17   2023-03-22\n",
      "18   2023-03-23\n",
      "19   2023-03-24\n",
      "20   2023-03-25\n",
      "21   2023-03-26\n",
      "22   2023-03-27\n",
      "23   2023-03-28\n",
      "24   2023-03-29\n",
      "25   2023-03-30\n",
      "26   2023-03-31\n",
      "27   2023-04-01\n",
      "28   2023-04-02\n",
      "29   2023-04-03\n",
      "30   2023-04-04\n",
      "dtype: datetime64[ns]\n"
     ]
    }
   ],
   "source": [
    "dates=pd.Series(pd.date_range('3,5,2023',periods=31,freq='D'))\n",
    "print(\"Month of March:\")\n",
    "print(dates)"
   ]
  },
  {
   "cell_type": "code",
   "execution_count": 131,
   "id": "8d82823c",
   "metadata": {},
   "outputs": [
    {
     "name": "stdout",
     "output_type": "stream",
     "text": [
      "2023-06-02 00:00:00\n",
      "2023-05-03 00:00:00\n",
      "30\n",
      "0\n"
     ]
    }
   ],
   "source": [
    "dates=pd.Series(pd.date_range('5,3,2023', periods=31,freq=\"D\"))\n",
    "print(dates.max())\n",
    "print(dates.min())\n",
    "print(dates.idxmax())\n",
    "print(dates.idxmin())"
   ]
  },
  {
   "cell_type": "code",
   "execution_count": 47,
   "id": "7c816931",
   "metadata": {},
   "outputs": [],
   "source": [
    "dates=pd.Series(pd.date_range('5,3,2023', periods=10))"
   ]
  },
  {
   "cell_type": "code",
   "execution_count": 48,
   "id": "919c15c6",
   "metadata": {
    "scrolled": true
   },
   "outputs": [
    {
     "name": "stdout",
     "output_type": "stream",
     "text": [
      "0   2023-05-03\n",
      "1   2023-05-04\n",
      "2   2023-05-05\n",
      "3   2023-05-06\n",
      "4   2023-05-07\n",
      "5   2023-05-08\n",
      "6   2023-05-09\n",
      "7   2023-05-10\n",
      "8   2023-05-11\n",
      "9   2023-05-12\n",
      "dtype: datetime64[ns]\n"
     ]
    }
   ],
   "source": [
    "print(dates)"
   ]
  },
  {
   "cell_type": "code",
   "execution_count": 49,
   "id": "ee676ad6",
   "metadata": {
    "scrolled": true
   },
   "outputs": [
    {
     "name": "stdout",
     "output_type": "stream",
     "text": [
      "         names        date\n",
      "0  satishkumar  05-03-2023\n",
      "1          hii  06-03-2023\n",
      "2        bolna  07-03-2023\n",
      "3           to  08-03-2023\n",
      "4         ramu  09-03-2023\n"
     ]
    }
   ],
   "source": [
    "df=pd.DataFrame({'names': [\"satishkumar\",\"hii\", 'bolna', \"to\",\"ramu\"],\n",
    "                'date': [\"05-03-2023\",\"06-03-2023\",\"07-03-2023\",\"08-03-2023\",\"09-03-2023\"]})\n",
    "print(df)"
   ]
  },
  {
   "cell_type": "code",
   "execution_count": 53,
   "id": "97d18b2e",
   "metadata": {
    "scrolled": true
   },
   "outputs": [
    {
     "name": "stdout",
     "output_type": "stream",
     "text": [
      "                 names\n",
      "date date             \n",
      "2023 5     satishkumar\n",
      "     6             hii\n",
      "     7           bolna\n",
      "     8              to\n",
      "     9            ramu\n"
     ]
    }
   ],
   "source": [
    "df['date']=pd.to_datetime(df['date'])\n",
    "result=df.groupby([df['date'].dt.year,df['date'].dt.month]).agg({\"names\":sum})\n",
    "print(result)"
   ]
  },
  {
   "cell_type": "code",
   "execution_count": 54,
   "id": "327618da",
   "metadata": {},
   "outputs": [
    {
     "name": "stdout",
     "output_type": "stream",
     "text": [
      "       longitude  latitude  housing_median_age  total_rooms  total_bedrooms  \\\n",
      "0        -122.23     37.88                41.0        880.0           129.0   \n",
      "1        -122.22     37.86                21.0       7099.0          1106.0   \n",
      "2        -122.24     37.85                52.0       1467.0           190.0   \n",
      "3        -122.25     37.85                52.0       1274.0           235.0   \n",
      "4        -122.25     37.85                52.0       1627.0           280.0   \n",
      "...          ...       ...                 ...          ...             ...   \n",
      "20635    -121.09     39.48                25.0       1665.0           374.0   \n",
      "20636    -121.21     39.49                18.0        697.0           150.0   \n",
      "20637    -121.22     39.43                17.0       2254.0           485.0   \n",
      "20638    -121.32     39.43                18.0       1860.0           409.0   \n",
      "20639    -121.24     39.37                16.0       2785.0           616.0   \n",
      "\n",
      "       population  households  median_income  median_house_value  \\\n",
      "0           322.0       126.0         8.3252            452600.0   \n",
      "1          2401.0      1138.0         8.3014            358500.0   \n",
      "2           496.0       177.0         7.2574            352100.0   \n",
      "3           558.0       219.0         5.6431            341300.0   \n",
      "4           565.0       259.0         3.8462            342200.0   \n",
      "...           ...         ...            ...                 ...   \n",
      "20635       845.0       330.0         1.5603             78100.0   \n",
      "20636       356.0       114.0         2.5568             77100.0   \n",
      "20637      1007.0       433.0         1.7000             92300.0   \n",
      "20638       741.0       349.0         1.8672             84700.0   \n",
      "20639      1387.0       530.0         2.3886             89400.0   \n",
      "\n",
      "      ocean_proximity  \n",
      "0            NEAR BAY  \n",
      "1            NEAR BAY  \n",
      "2            NEAR BAY  \n",
      "3            NEAR BAY  \n",
      "4            NEAR BAY  \n",
      "...               ...  \n",
      "20635          INLAND  \n",
      "20636          INLAND  \n",
      "20637          INLAND  \n",
      "20638          INLAND  \n",
      "20639          INLAND  \n",
      "\n",
      "[20640 rows x 10 columns]\n"
     ]
    }
   ],
   "source": [
    "import pandas as pd\n",
    "df=pd.read_csv(\"C:\\\\Users\\\\satish\\\\Documents\\\\Downloads\\\\housing.csv\")\n",
    "print(df)\n"
   ]
  },
  {
   "cell_type": "code",
   "execution_count": 55,
   "id": "2c13828d",
   "metadata": {},
   "outputs": [
    {
     "data": {
      "text/plain": [
       "(20640, 10)"
      ]
     },
     "execution_count": 55,
     "metadata": {},
     "output_type": "execute_result"
    }
   ],
   "source": [
    "df.shape"
   ]
  },
  {
   "cell_type": "code",
   "execution_count": 57,
   "id": "27b39a29",
   "metadata": {},
   "outputs": [
    {
     "name": "stdout",
     "output_type": "stream",
     "text": [
      "<class 'pandas.core.frame.DataFrame'>\n",
      "RangeIndex: 20640 entries, 0 to 20639\n",
      "Data columns (total 10 columns):\n",
      " #   Column              Non-Null Count  Dtype  \n",
      "---  ------              --------------  -----  \n",
      " 0   longitude           20640 non-null  float64\n",
      " 1   latitude            20640 non-null  float64\n",
      " 2   housing_median_age  20640 non-null  float64\n",
      " 3   total_rooms         20640 non-null  float64\n",
      " 4   total_bedrooms      20433 non-null  float64\n",
      " 5   population          20640 non-null  float64\n",
      " 6   households          20640 non-null  float64\n",
      " 7   median_income       20640 non-null  float64\n",
      " 8   median_house_value  20640 non-null  float64\n",
      " 9   ocean_proximity     20640 non-null  object \n",
      "dtypes: float64(9), object(1)\n",
      "memory usage: 1.6+ MB\n"
     ]
    }
   ],
   "source": [
    "df.info()"
   ]
  },
  {
   "cell_type": "code",
   "execution_count": 58,
   "id": "d0f4c266",
   "metadata": {},
   "outputs": [
    {
     "data": {
      "text/plain": [
       "longitude               0\n",
       "latitude                0\n",
       "housing_median_age      0\n",
       "total_rooms             0\n",
       "total_bedrooms        207\n",
       "population              0\n",
       "households              0\n",
       "median_income           0\n",
       "median_house_value      0\n",
       "ocean_proximity         0\n",
       "dtype: int64"
      ]
     },
     "execution_count": 58,
     "metadata": {},
     "output_type": "execute_result"
    }
   ],
   "source": [
    "df.isnull().sum()"
   ]
  },
  {
   "cell_type": "code",
   "execution_count": 62,
   "id": "c6e6411b",
   "metadata": {},
   "outputs": [],
   "source": [
    "df=pd.read_csv(\"C:\\\\Users\\\\satish\\\\Desktop\\\\Python\\\\Book1.csv\")"
   ]
  },
  {
   "cell_type": "code",
   "execution_count": 63,
   "id": "583e4cd3",
   "metadata": {},
   "outputs": [
    {
     "name": "stdout",
     "output_type": "stream",
     "text": [
      "       ord_no  purch_amt    ord_date  customer_id  salesman_id\n",
      "0   0    70001     150.50  05-10-2012         3001...         \n",
      "1   1    70009     270.65  09-10-2012         3001...         \n",
      "2   2    70002      65.26  05-10-2012         3005...         \n",
      "3   3    70004     110.50  08-17-2012         3001...         \n",
      "4   4    70007     948.50  10-09-2012         3005...         \n",
      "5   5    70005    2400.60  07-27-2012         3001...         \n",
      "6   6    70008    5760.00  10-09-2012         3005...         \n",
      "7   7    70010    1983.43  10-10-2012         3001...         \n",
      "8   8    70003    2480.40  10-10-2012         3005...         \n",
      "9   9    70012     250.45  06-17-2012         3001...         \n",
      "10  10   70011      75.29  07-08-2012         3005...         \n",
      "11  11   70013    3045.60  04-25-2012         3005...         \n"
     ]
    }
   ],
   "source": [
    "print(df)"
   ]
  },
  {
   "cell_type": "code",
   "execution_count": 66,
   "id": "d22c262a",
   "metadata": {},
   "outputs": [],
   "source": [
    "df=pd.read_csv(\"C:\\\\Users\\\\satish\\\\Desktop\\\\csv files\\\\Book2.csv\")"
   ]
  },
  {
   "cell_type": "code",
   "execution_count": 67,
   "id": "37b78b36",
   "metadata": {},
   "outputs": [
    {
     "name": "stdout",
     "output_type": "stream",
     "text": [
      "    ord_no  purch_amt    ord_date  customer_id  salesman_id\n",
      "0    70001     150.50   5/10/2012         3001         5002\n",
      "1    70009     270.65   9/10/2012         3001         5005\n",
      "2    70002      65.26   5/10/2012         3005         5001\n",
      "3    70004     110.50   8/17/2012         3001         5003\n",
      "4    70007     948.50   10/9/2012         3005         5002\n",
      "5    70005    2400.60   7/27/2012         3001         5001\n",
      "6    70008    5760.00   10/9/2012         3005         5001\n",
      "7    70010    1983.43  10/10/2012         3001         5006\n",
      "8    70003    2480.40  10/10/2012         3005         5003\n",
      "9    70012     250.45   6/17/2012         3001         5002\n",
      "10   70011      75.29    7/8/2012         3005         5007\n",
      "11   70013    3045.60   4/25/2012         3005         5001\n"
     ]
    }
   ],
   "source": [
    "print(df)"
   ]
  },
  {
   "cell_type": "code",
   "execution_count": 68,
   "id": "a3ed9674",
   "metadata": {
    "scrolled": true
   },
   "outputs": [
    {
     "name": "stdout",
     "output_type": "stream",
     "text": [
      "                   purch_amt\n",
      "ord_date ord_date           \n",
      "2012     4           3045.60\n",
      "         5            215.76\n",
      "         6            250.45\n",
      "         7           2475.89\n",
      "         8            110.50\n",
      "         9            270.65\n",
      "         10         11172.33\n"
     ]
    }
   ],
   "source": [
    "df['ord_date']=pd.to_datetime(df['ord_date'])\n",
    "result=df.groupby([df['ord_date'].dt.year,df['ord_date'].dt.month]).agg({\"purch_amt\":sum})\n",
    "print(result)"
   ]
  },
  {
   "cell_type": "code",
   "execution_count": 70,
   "id": "906743b9",
   "metadata": {},
   "outputs": [],
   "source": [
    "result1=df['purch_amt'].sum()"
   ]
  },
  {
   "cell_type": "code",
   "execution_count": 71,
   "id": "5803d2f7",
   "metadata": {},
   "outputs": [
    {
     "name": "stdout",
     "output_type": "stream",
     "text": [
      "17541.18\n"
     ]
    }
   ],
   "source": [
    "print(result1)"
   ]
  },
  {
   "cell_type": "code",
   "execution_count": 73,
   "id": "2261d115",
   "metadata": {},
   "outputs": [],
   "source": [
    "df=pd.read_csv(r\"C:\\Users\\satish\\Desktop\\csv files\\Book3.csv\")"
   ]
  },
  {
   "cell_type": "code",
   "execution_count": 74,
   "id": "12298537",
   "metadata": {},
   "outputs": [
    {
     "name": "stdout",
     "output_type": "stream",
     "text": [
      "    X   Y   Z\n",
      "0  10  10  22\n",
      "1  10  15  20\n",
      "2  10  11  18\n",
      "3  20  20  20\n",
      "4  30  21  13\n",
      "5  30  12  10\n",
      "6  10  14   0\n"
     ]
    }
   ],
   "source": [
    "print(df)"
   ]
  },
  {
   "cell_type": "code",
   "execution_count": 80,
   "id": "17e8094e",
   "metadata": {},
   "outputs": [
    {
     "ename": "AttributeError",
     "evalue": "module 'pandas' has no attribute 'to_DataFrame'",
     "output_type": "error",
     "traceback": [
      "\u001b[1;31m---------------------------------------------------------------------------\u001b[0m",
      "\u001b[1;31mAttributeError\u001b[0m                            Traceback (most recent call last)",
      "\u001b[1;32m~\\AppData\\Local\\Temp\\ipykernel_17652\\274288110.py\u001b[0m in \u001b[0;36m<module>\u001b[1;34m\u001b[0m\n\u001b[1;32m----> 1\u001b[1;33m \u001b[0mdf1\u001b[0m\u001b[1;33m=\u001b[0m\u001b[0mpd\u001b[0m\u001b[1;33m.\u001b[0m\u001b[0mto_DataFrame\u001b[0m\u001b[1;33m(\u001b[0m\u001b[0mdf\u001b[0m\u001b[1;33m)\u001b[0m\u001b[1;33m\u001b[0m\u001b[1;33m\u001b[0m\u001b[0m\n\u001b[0m\u001b[0;32m      2\u001b[0m \u001b[0mresult\u001b[0m\u001b[1;33m=\u001b[0m\u001b[0mdf\u001b[0m\u001b[1;33m.\u001b[0m\u001b[0mgroupby\u001b[0m\u001b[1;33m(\u001b[0m\u001b[1;33m{\u001b[0m\u001b[0mdf\u001b[0m\u001b[1;33m[\u001b[0m\u001b[1;34m'X'\u001b[0m\u001b[1;33m]\u001b[0m\u001b[1;33m,\u001b[0m\u001b[0mdf\u001b[0m\u001b[1;33m[\u001b[0m\u001b[1;34m'Y'\u001b[0m\u001b[1;33m]\u001b[0m\u001b[1;33m,\u001b[0m\u001b[0mdf\u001b[0m\u001b[1;33m[\u001b[0m\u001b[1;34m'Z'\u001b[0m\u001b[1;33m]\u001b[0m\u001b[1;33m}\u001b[0m\u001b[1;33m)\u001b[0m\u001b[1;33m\u001b[0m\u001b[1;33m\u001b[0m\u001b[0m\n",
      "\u001b[1;32m~\\Anaconda3\\lib\\site-packages\\pandas\\__init__.py\u001b[0m in \u001b[0;36m__getattr__\u001b[1;34m(name)\u001b[0m\n\u001b[0;32m    259\u001b[0m         \u001b[1;32mreturn\u001b[0m \u001b[0m_SparseArray\u001b[0m\u001b[1;33m\u001b[0m\u001b[1;33m\u001b[0m\u001b[0m\n\u001b[0;32m    260\u001b[0m \u001b[1;33m\u001b[0m\u001b[0m\n\u001b[1;32m--> 261\u001b[1;33m     \u001b[1;32mraise\u001b[0m \u001b[0mAttributeError\u001b[0m\u001b[1;33m(\u001b[0m\u001b[1;34mf\"module 'pandas' has no attribute '{name}'\"\u001b[0m\u001b[1;33m)\u001b[0m\u001b[1;33m\u001b[0m\u001b[1;33m\u001b[0m\u001b[0m\n\u001b[0m\u001b[0;32m    262\u001b[0m \u001b[1;33m\u001b[0m\u001b[0m\n\u001b[0;32m    263\u001b[0m \u001b[1;33m\u001b[0m\u001b[0m\n",
      "\u001b[1;31mAttributeError\u001b[0m: module 'pandas' has no attribute 'to_DataFrame'"
     ]
    }
   ],
   "source": [
    "df1=pd.to_DataFrame(df)\n",
    "result=df.groupby({df['X'],df['Y'],df['Z']})"
   ]
  },
  {
   "cell_type": "code",
   "execution_count": 81,
   "id": "2a80df8e",
   "metadata": {},
   "outputs": [],
   "source": [
    "df1=pd.DataFrame(df)"
   ]
  },
  {
   "cell_type": "code",
   "execution_count": 82,
   "id": "b302e40c",
   "metadata": {},
   "outputs": [
    {
     "name": "stdout",
     "output_type": "stream",
     "text": [
      "    X   Y   Z\n",
      "0  10  10  22\n",
      "1  10  15  20\n",
      "2  10  11  18\n",
      "3  20  20  20\n",
      "4  30  21  13\n",
      "5  30  12  10\n",
      "6  10  14   0\n"
     ]
    }
   ],
   "source": [
    "print(df1\n",
    "     )"
   ]
  },
  {
   "cell_type": "code",
   "execution_count": 99,
   "id": "d703c5c9",
   "metadata": {},
   "outputs": [
    {
     "name": "stdout",
     "output_type": "stream",
     "text": [
      "                   Y                Z\n",
      "X                                    \n",
      "10  [10, 15, 11, 14]  [22, 20, 18, 0]\n",
      "20              [20]             [20]\n",
      "30          [21, 12]         [13, 10]\n"
     ]
    }
   ],
   "source": [
    "df2 = df.groupby('X').aggregate(lambda tdf: tdf.unique().tolist())\n",
    "print (df2)"
   ]
  },
  {
   "cell_type": "code",
   "execution_count": 104,
   "id": "f76598c9",
   "metadata": {},
   "outputs": [],
   "source": [
    "df=pd.read_csv(r\"C:\\Users\\satish\\Desktop\\csv files\\Book4.csv\")"
   ]
  },
  {
   "cell_type": "code",
   "execution_count": 105,
   "id": "3bc9f8b1",
   "metadata": {},
   "outputs": [
    {
     "name": "stdout",
     "output_type": "stream",
     "text": [
      "   id value\n",
      "0   1     a\n",
      "1   1     a\n",
      "2   2     b\n",
      "3   3  None\n",
      "4   3     a\n",
      "5   4     a\n",
      "6   4  None\n",
      "7   4     b\n"
     ]
    }
   ],
   "source": [
    "print(df)"
   ]
  },
  {
   "cell_type": "code",
   "execution_count": 106,
   "id": "0809fed1",
   "metadata": {},
   "outputs": [],
   "source": [
    "df1=pd.DataFrame(df)"
   ]
  },
  {
   "cell_type": "code",
   "execution_count": 108,
   "id": "654c7c35",
   "metadata": {},
   "outputs": [
    {
     "name": "stdout",
     "output_type": "stream",
     "text": [
      "   id value\n",
      "0   1     a\n",
      "1   1     a\n",
      "2   2     b\n",
      "3   3  None\n",
      "4   3     a\n",
      "5   4     a\n",
      "6   4  None\n",
      "7   4     b\n"
     ]
    }
   ],
   "source": [
    "print(df1)"
   ]
  },
  {
   "cell_type": "code",
   "execution_count": 113,
   "id": "503cbd0b",
   "metadata": {},
   "outputs": [
    {
     "data": {
      "text/plain": [
       "id       0\n",
       "value    0\n",
       "dtype: int64"
      ]
     },
     "execution_count": 113,
     "metadata": {},
     "output_type": "execute_result"
    }
   ],
   "source": [
    "df.isnull().sum()"
   ]
  },
  {
   "cell_type": "code",
   "execution_count": 129,
   "id": "bb91b3ea",
   "metadata": {},
   "outputs": [],
   "source": [
    "df=pd.unique(df[['value','id']].values.ravel())"
   ]
  },
  {
   "cell_type": "code",
   "execution_count": 130,
   "id": "29d00421",
   "metadata": {},
   "outputs": [
    {
     "name": "stdout",
     "output_type": "stream",
     "text": [
      "['a' 1 'b' 2 'None' 3 4]\n"
     ]
    }
   ],
   "source": [
    "print(df)"
   ]
  },
  {
   "cell_type": "code",
   "execution_count": 152,
   "id": "4f500ee9",
   "metadata": {},
   "outputs": [
    {
     "ename": "SyntaxError",
     "evalue": "'break' outside loop (1188966453.py, line 5)",
     "output_type": "error",
     "traceback": [
      "\u001b[1;36m  File \u001b[1;32m\"C:\\Users\\satish\\AppData\\Local\\Temp\\ipykernel_17652\\1188966453.py\"\u001b[1;36m, line \u001b[1;32m5\u001b[0m\n\u001b[1;33m    break\u001b[0m\n\u001b[1;37m    ^\u001b[0m\n\u001b[1;31mSyntaxError\u001b[0m\u001b[1;31m:\u001b[0m 'break' outside loop\n"
     ]
    }
   ],
   "source": [
    "a=10;\n",
    "if(a<10):\n",
    "    print(a)\n",
    "elif(i==5):\n",
    "    break\n"
   ]
  },
  {
   "cell_type": "code",
   "execution_count": 23,
   "id": "5b154d6e",
   "metadata": {},
   "outputs": [
    {
     "name": "stdout",
     "output_type": "stream",
     "text": [
      " \n",
      "*  \n",
      "* *  \n",
      "* * *  \n",
      "* * * *  \n",
      "* * * * *  \n",
      "* * * * * * \n",
      "* * * * * \n",
      "* * * * \n",
      "* * * \n",
      "* * \n",
      "* \n"
     ]
    }
   ],
   "source": [
    "for i in range(6):\n",
    "    for j in range(i):\n",
    "       print(\"*\", end=\" \")\n",
    "    print(\" \")  \n",
    "for i in range(6):\n",
    "    for j in range(6-i):\n",
    "        print(\"*\", end=\" \")\n",
    "    print(\"\")    "
   ]
  },
  {
   "cell_type": "code",
   "execution_count": 29,
   "id": "e0149658",
   "metadata": {},
   "outputs": [
    {
     "name": "stdout",
     "output_type": "stream",
     "text": [
      "0\n",
      "1\n",
      "2\n",
      "4\n",
      "5\n"
     ]
    }
   ],
   "source": [
    "for i in range(0,7):\n",
    "    if(i==3 or i==6):\n",
    "        continue\n",
    "    print(i)"
   ]
  },
  {
   "cell_type": "code",
   "execution_count": 33,
   "id": "54a336e5",
   "metadata": {
    "scrolled": true
   },
   "outputs": [
    {
     "name": "stdout",
     "output_type": "stream",
     "text": [
      "1\n",
      "2\n",
      "Fizz\n",
      "3\n",
      "4\n",
      "Buzz\n",
      "5\n",
      "Fizz\n",
      "6\n",
      "7\n",
      "8\n",
      "Fizz\n",
      "9\n",
      "Buzz\n",
      "10\n",
      "11\n",
      "Fizz\n",
      "12\n",
      "13\n",
      "14\n",
      "Fizz\n",
      "FizzBuzz\n",
      "15\n",
      "16\n",
      "17\n",
      "Fizz\n",
      "18\n",
      "19\n",
      "Buzz\n",
      "20\n",
      "Fizz\n",
      "21\n",
      "22\n",
      "23\n",
      "Fizz\n",
      "24\n",
      "Buzz\n",
      "25\n",
      "26\n",
      "Fizz\n",
      "27\n",
      "28\n",
      "29\n",
      "Fizz\n",
      "FizzBuzz\n",
      "30\n",
      "31\n",
      "32\n",
      "Fizz\n",
      "33\n",
      "34\n",
      "Buzz\n",
      "35\n",
      "Fizz\n",
      "36\n",
      "37\n",
      "38\n",
      "Fizz\n",
      "39\n",
      "Buzz\n",
      "40\n",
      "41\n",
      "Fizz\n",
      "42\n",
      "43\n",
      "44\n",
      "Fizz\n",
      "FizzBuzz\n",
      "45\n",
      "46\n",
      "47\n",
      "Fizz\n",
      "48\n",
      "49\n"
     ]
    }
   ],
   "source": [
    "for i in range(1,50):\n",
    "    if(i%3==0):\n",
    "        print(\"Fizz\")\n",
    "        if(i%3==0 and i%5==0):\n",
    "            print(\"FizzBuzz\")\n",
    "    elif(i%5==0):\n",
    "        print(\"Buzz\")\n",
    "        if(i%3==0 and i%5==0):\n",
    "            print(\"FizzBuzz\")\n",
    "    \n",
    "    print(i)"
   ]
  },
  {
   "cell_type": "code",
   "execution_count": 76,
   "id": "9b1331c5",
   "metadata": {},
   "outputs": [
    {
     "name": "stdout",
     "output_type": "stream",
     "text": [
      "3\n",
      "4\n",
      "[[0, 0, 0, 0], [0, 1, 2, 3], [0, 2, 4, 6]]\n",
      " \n"
     ]
    }
   ],
   "source": [
    "m=int(input())\n",
    "n=int(input())\n",
    "l=[]\n",
    "matrix=[]\n",
    "for i in range(m):\n",
    "    l1=[]\n",
    "    for j in range(n):\n",
    "        a=int(i)*int(j)\n",
    "        l1.append(a)\n",
    "    l.append(l1)\n",
    "print(l)\n",
    "print(\" \")\n",
    "\n",
    "        \n",
    "\n",
    "                "
   ]
  },
  {
   "cell_type": "code",
   "execution_count": null,
   "id": "5d60181e",
   "metadata": {},
   "outputs": [],
   "source": [
    "n=int(input())\n",
    "for i in range(1,11):\n",
    "    print(n,\"*\",i,\"=\",n*i)\n",
    "    "
   ]
  },
  {
   "cell_type": "code",
   "execution_count": 15,
   "id": "537cb421",
   "metadata": {},
   "outputs": [
    {
     "ename": "KeyboardInterrupt",
     "evalue": "Interrupted by user",
     "output_type": "error",
     "traceback": [
      "\u001b[1;31m---------------------------------------------------------------------------\u001b[0m",
      "\u001b[1;31mKeyboardInterrupt\u001b[0m                         Traceback (most recent call last)",
      "\u001b[1;32m~\\AppData\\Local\\Temp\\ipykernel_2396\\1426136488.py\u001b[0m in \u001b[0;36m<module>\u001b[1;34m\u001b[0m\n\u001b[1;32m----> 1\u001b[1;33m \u001b[0mn\u001b[0m\u001b[1;33m=\u001b[0m\u001b[0mint\u001b[0m\u001b[1;33m(\u001b[0m\u001b[0minput\u001b[0m\u001b[1;33m(\u001b[0m\u001b[1;33m)\u001b[0m\u001b[1;33m)\u001b[0m\u001b[1;33m\u001b[0m\u001b[1;33m\u001b[0m\u001b[0m\n\u001b[0m\u001b[0;32m      2\u001b[0m \u001b[1;32mfor\u001b[0m \u001b[0mi\u001b[0m \u001b[1;32min\u001b[0m \u001b[0mrange\u001b[0m\u001b[1;33m(\u001b[0m\u001b[1;36m1\u001b[0m\u001b[1;33m,\u001b[0m\u001b[1;36m11\u001b[0m\u001b[1;33m)\u001b[0m\u001b[1;33m:\u001b[0m\u001b[1;33m\u001b[0m\u001b[1;33m\u001b[0m\u001b[0m\n\u001b[0;32m      3\u001b[0m     \u001b[0mprint\u001b[0m\u001b[1;33m(\u001b[0m\u001b[0mn\u001b[0m\u001b[1;33m,\u001b[0m\u001b[1;34m\"*\"\u001b[0m\u001b[1;33m,\u001b[0m\u001b[0mi\u001b[0m\u001b[1;33m,\u001b[0m\u001b[1;34m\"=\"\u001b[0m\u001b[1;33m,\u001b[0m\u001b[0mn\u001b[0m\u001b[1;33m*\u001b[0m\u001b[0mi\u001b[0m\u001b[1;33m)\u001b[0m\u001b[1;33m\u001b[0m\u001b[1;33m\u001b[0m\u001b[0m\n",
      "\u001b[1;32m~\\Anaconda3\\lib\\site-packages\\ipykernel\\kernelbase.py\u001b[0m in \u001b[0;36mraw_input\u001b[1;34m(self, prompt)\u001b[0m\n\u001b[0;32m   1175\u001b[0m                 \u001b[1;34m\"raw_input was called, but this frontend does not support input requests.\"\u001b[0m\u001b[1;33m\u001b[0m\u001b[1;33m\u001b[0m\u001b[0m\n\u001b[0;32m   1176\u001b[0m             )\n\u001b[1;32m-> 1177\u001b[1;33m         return self._input_request(\n\u001b[0m\u001b[0;32m   1178\u001b[0m             \u001b[0mstr\u001b[0m\u001b[1;33m(\u001b[0m\u001b[0mprompt\u001b[0m\u001b[1;33m)\u001b[0m\u001b[1;33m,\u001b[0m\u001b[1;33m\u001b[0m\u001b[1;33m\u001b[0m\u001b[0m\n\u001b[0;32m   1179\u001b[0m             \u001b[0mself\u001b[0m\u001b[1;33m.\u001b[0m\u001b[0m_parent_ident\u001b[0m\u001b[1;33m[\u001b[0m\u001b[1;34m\"shell\"\u001b[0m\u001b[1;33m]\u001b[0m\u001b[1;33m,\u001b[0m\u001b[1;33m\u001b[0m\u001b[1;33m\u001b[0m\u001b[0m\n",
      "\u001b[1;32m~\\Anaconda3\\lib\\site-packages\\ipykernel\\kernelbase.py\u001b[0m in \u001b[0;36m_input_request\u001b[1;34m(self, prompt, ident, parent, password)\u001b[0m\n\u001b[0;32m   1217\u001b[0m             \u001b[1;32mexcept\u001b[0m \u001b[0mKeyboardInterrupt\u001b[0m\u001b[1;33m:\u001b[0m\u001b[1;33m\u001b[0m\u001b[1;33m\u001b[0m\u001b[0m\n\u001b[0;32m   1218\u001b[0m                 \u001b[1;31m# re-raise KeyboardInterrupt, to truncate traceback\u001b[0m\u001b[1;33m\u001b[0m\u001b[1;33m\u001b[0m\u001b[0m\n\u001b[1;32m-> 1219\u001b[1;33m                 \u001b[1;32mraise\u001b[0m \u001b[0mKeyboardInterrupt\u001b[0m\u001b[1;33m(\u001b[0m\u001b[1;34m\"Interrupted by user\"\u001b[0m\u001b[1;33m)\u001b[0m \u001b[1;32mfrom\u001b[0m \u001b[1;32mNone\u001b[0m\u001b[1;33m\u001b[0m\u001b[1;33m\u001b[0m\u001b[0m\n\u001b[0m\u001b[0;32m   1220\u001b[0m             \u001b[1;32mexcept\u001b[0m \u001b[0mException\u001b[0m\u001b[1;33m:\u001b[0m\u001b[1;33m\u001b[0m\u001b[1;33m\u001b[0m\u001b[0m\n\u001b[0;32m   1221\u001b[0m                 \u001b[0mself\u001b[0m\u001b[1;33m.\u001b[0m\u001b[0mlog\u001b[0m\u001b[1;33m.\u001b[0m\u001b[0mwarning\u001b[0m\u001b[1;33m(\u001b[0m\u001b[1;34m\"Invalid Message:\"\u001b[0m\u001b[1;33m,\u001b[0m \u001b[0mexc_info\u001b[0m\u001b[1;33m=\u001b[0m\u001b[1;32mTrue\u001b[0m\u001b[1;33m)\u001b[0m\u001b[1;33m\u001b[0m\u001b[1;33m\u001b[0m\u001b[0m\n",
      "\u001b[1;31mKeyboardInterrupt\u001b[0m: Interrupted by user"
     ]
    }
   ],
   "source": [
    "n=int(input())\n",
    "for i in range(1,11):\n",
    "    print(n,\"*\",i,\"=\",n*i)"
   ]
  },
  {
   "cell_type": "code",
   "execution_count": 79,
   "id": "549759c9",
   "metadata": {},
   "outputs": [
    {
     "name": "stdout",
     "output_type": "stream",
     "text": [
      " \n",
      " \n",
      "*  \n",
      "* *  \n",
      "* * *  \n",
      "* * * *  \n"
     ]
    }
   ],
   "source": [
    "for i in range(6):\n",
    "    for j in range():\n",
    "        print(\"*\",end=\" \")\n",
    "    print(\" \")    "
   ]
  },
  {
   "cell_type": "code",
   "execution_count": 90,
   "id": "b74da6d8",
   "metadata": {},
   "outputs": [
    {
     "ename": "IndentationError",
     "evalue": "expected an indented block (840920391.py, line 4)",
     "output_type": "error",
     "traceback": [
      "\u001b[1;36m  File \u001b[1;32m\"C:\\Users\\satish\\AppData\\Local\\Temp\\ipykernel_9008\\840920391.py\"\u001b[1;36m, line \u001b[1;32m4\u001b[0m\n\u001b[1;33m    my_function(6)\u001b[0m\n\u001b[1;37m                          ^\u001b[0m\n\u001b[1;31mIndentationError\u001b[0m\u001b[1;31m:\u001b[0m expected an indented block\n"
     ]
    }
   ],
   "source": [
    "def my_function(n):\n",
    "    if(n==5):\n",
    "       \n",
    "my_function(6)        "
   ]
  },
  {
   "cell_type": "code",
   "execution_count": 19,
   "id": "55ce1b16",
   "metadata": {},
   "outputs": [
    {
     "name": "stdout",
     "output_type": "stream",
     "text": [
      "2\n",
      "4\n",
      "6\n",
      "8\n",
      "10\n",
      "12\n",
      "14\n",
      "16\n",
      "18\n",
      "20\n",
      "22\n",
      "24\n",
      "26\n",
      "28\n",
      "30\n",
      "32\n",
      "34\n",
      "36\n",
      "38\n",
      "40\n",
      "42\n",
      "44\n",
      "46\n",
      "48\n",
      "50\n",
      "52\n",
      "54\n",
      "56\n",
      "58\n",
      "60\n",
      "62\n",
      "64\n",
      "66\n",
      "68\n",
      "70\n",
      "72\n",
      "74\n",
      "76\n",
      "78\n",
      "80\n",
      "82\n",
      "84\n",
      "86\n",
      "88\n",
      "90\n",
      "92\n",
      "94\n",
      "96\n",
      "98\n",
      "100\n"
     ]
    }
   ],
   "source": [
    "i = 1\n",
    "while i <= 100:\n",
    "    if(i % 2 == 0):\n",
    "        print(i)\n",
    "    i = i + 1\n",
    "         \n"
   ]
  },
  {
   "cell_type": "code",
   "execution_count": 23,
   "id": "fbcdd609",
   "metadata": {},
   "outputs": [
    {
     "name": "stdout",
     "output_type": "stream",
     "text": [
      "1\n",
      "3\n",
      "6\n",
      "10\n",
      "15\n",
      "21\n",
      "28\n",
      "36\n",
      "45\n",
      "55\n",
      "66\n",
      "78\n",
      "91\n",
      "105\n",
      "120\n",
      "136\n",
      "153\n",
      "171\n",
      "190\n",
      "210\n",
      "231\n",
      "253\n",
      "276\n",
      "300\n",
      "325\n",
      "351\n",
      "378\n",
      "406\n",
      "435\n",
      "465\n",
      "496\n",
      "528\n",
      "561\n",
      "595\n",
      "630\n",
      "666\n",
      "703\n",
      "741\n",
      "780\n",
      "820\n",
      "861\n",
      "903\n",
      "946\n",
      "990\n",
      "1035\n",
      "1081\n",
      "1128\n",
      "1176\n",
      "1225\n",
      "1275\n",
      "1326\n",
      "1378\n",
      "1431\n",
      "1485\n",
      "1540\n",
      "1596\n",
      "1653\n",
      "1711\n",
      "1770\n",
      "1830\n",
      "1891\n",
      "1953\n",
      "2016\n",
      "2080\n",
      "2145\n",
      "2211\n",
      "2278\n",
      "2346\n",
      "2415\n",
      "2485\n",
      "2556\n",
      "2628\n",
      "2701\n",
      "2775\n",
      "2850\n",
      "2926\n",
      "3003\n",
      "3081\n",
      "3160\n",
      "3240\n",
      "3321\n",
      "3403\n",
      "3486\n",
      "3570\n",
      "3655\n",
      "3741\n",
      "3828\n",
      "3916\n",
      "4005\n",
      "4095\n",
      "4186\n",
      "4278\n",
      "4371\n",
      "4465\n",
      "4560\n",
      "4656\n",
      "4753\n",
      "4851\n",
      "4950\n",
      "5050\n"
     ]
    }
   ],
   "source": [
    "i=1\n",
    "count=0\n",
    "while i<=100:\n",
    "    count+=i\n",
    "    print(count)\n",
    "    i+=1\n",
    "    \n",
    "       "
   ]
  },
  {
   "cell_type": "code",
   "execution_count": 63,
   "id": "ad9e3983",
   "metadata": {},
   "outputs": [
    {
     "name": "stdout",
     "output_type": "stream",
     "text": [
      "5\n",
      "120\n"
     ]
    }
   ],
   "source": [
    "a=int(input())\n",
    "fact=1\n",
    "while(a>0): \n",
    "    fact=fact*a\n",
    "    a-=1\n",
    "print(fact)    \n",
    "    \n",
    "    "
   ]
  },
  {
   "cell_type": "code",
   "execution_count": 50,
   "id": "28cbc4e5",
   "metadata": {},
   "outputs": [
    {
     "name": "stdout",
     "output_type": "stream",
     "text": [
      "79845\n"
     ]
    }
   ],
   "source": [
    "a=54897\n",
    "ans=0\n",
    "while(a>0):\n",
    "    rem=a%10\n",
    "    a=a//10\n",
    "    ans=ans*10+rem\n",
    "print(ans)"
   ]
  },
  {
   "cell_type": "code",
   "execution_count": 142,
   "id": "e2c521b3",
   "metadata": {},
   "outputs": [
    {
     "name": "stdout",
     "output_type": "stream",
     "text": [
      "3000\n"
     ]
    }
   ],
   "source": [
    "a=[10,20,1001,3000,1,10]\n",
    "i=0\n",
    "max=a[0]\n",
    "while(i<len(a)):\n",
    "    if(a[i]>max):\n",
    "        max=a[i]\n",
    "    i+=1    \n",
    "print(max)\n",
    "\n",
    "    \n",
    "             \n",
    "        "
   ]
  },
  {
   "cell_type": "code",
   "execution_count": 137,
   "id": "70d7d508",
   "metadata": {},
   "outputs": [
    {
     "name": "stdout",
     "output_type": "stream",
     "text": [
      "100\n"
     ]
    }
   ],
   "source": [
    "a=[10,20,30,40]\n",
    "i=0\n",
    "sum=0\n",
    "while(i<len(a)):\n",
    "    sum=sum+a[i]\n",
    "    i+=1\n",
    "print(sum)    \n",
    "    "
   ]
  },
  {
   "cell_type": "code",
   "execution_count": 194,
   "id": "c954b0e7",
   "metadata": {},
   "outputs": [
    {
     "name": "stdout",
     "output_type": "stream",
     "text": [
      "given number is palindrome\n"
     ]
    }
   ],
   "source": [
    "a=16461\n",
    "temp=a\n",
    "ans=0\n",
    "while(a>0): \n",
    "    rem=a%10\n",
    "    ans=ans*10+rem\n",
    "    a=a//10   \n",
    "if(temp==ans):\n",
    "    print(\"given number is palindrome\")   \n",
    "else:\n",
    "    Print(\"given number is not palindrome\")\n"
   ]
  },
  {
   "cell_type": "code",
   "execution_count": 184,
   "id": "8b5f9a91",
   "metadata": {},
   "outputs": [
    {
     "name": "stdout",
     "output_type": "stream",
     "text": [
      "321\n",
      "palindrome\n"
     ]
    }
   ],
   "source": [
    "n=123\n",
    "s=str(n)\n",
    "sum=\"\"\n",
    "for i in s:\n",
    "    sum=(i)+sum\n",
    "print(sum)\n",
    "a=int(sum)\n",
    "if(a and n):\n",
    "    print(\"palindrome\")\n",
    "else:\n",
    "    print(\"not\")\n",
    "    \n"
   ]
  },
  {
   "cell_type": "code",
   "execution_count": 218,
   "id": "e75cc66d",
   "metadata": {
    "scrolled": true
   },
   "outputs": [
    {
     "name": "stdout",
     "output_type": "stream",
     "text": [
      "17\n",
      " not prime\n"
     ]
    }
   ],
   "source": [
    "n=int(input())\n",
    "c=2\n",
    "while(c<n):\n",
    "    if(n%c==0):\n",
    "        print(\"not prime\")\n",
    "    c+=1    \n",
    "if(c>n):\n",
    "    print(\"prime\")\n",
    "else:\n",
    "    print(\" not prime\")\n",
    "            \n",
    "   "
   ]
  },
  {
   "cell_type": "code",
   "execution_count": 247,
   "id": "dc736d26",
   "metadata": {},
   "outputs": [
    {
     "name": "stdout",
     "output_type": "stream",
     "text": [
      "17\n",
      " prime\n"
     ]
    }
   ],
   "source": [
    "n=int(input())\n",
    "c=2\n",
    "while(c*c<n):\n",
    "    if(n%c==0):\n",
    "        print(\"not prime\")\n",
    "    c+=1    \n",
    "if(c*c>n):\n",
    "    print(\" prime\")\n",
    "else:\n",
    "    print( \"not prime\")"
   ]
  },
  {
   "cell_type": "code",
   "execution_count": 239,
   "id": "0f32c0ab",
   "metadata": {},
   "outputs": [
    {
     "name": "stdout",
     "output_type": "stream",
     "text": [
      "5\n",
      "1\n",
      "1\n",
      "2\n",
      "3\n",
      "5\n"
     ]
    }
   ],
   "source": [
    "n=int(input())\n",
    "a=0\n",
    "b=1\n",
    "while(b<=n):\n",
    "    print(b)\n",
    "    temp=a+b\n",
    "    a=b\n",
    "    b=temp\n",
    "    \n",
    "   \n",
    "    \n",
    "    \n",
    "    \n",
    "    "
   ]
  },
  {
   "cell_type": "code",
   "execution_count": 244,
   "id": "3f8a69d3",
   "metadata": {},
   "outputs": [
    {
     "name": "stdout",
     "output_type": "stream",
     "text": [
      "5\n"
     ]
    }
   ],
   "source": [
    "a=13335\n",
    "count=0\n",
    "while(a>0):\n",
    "    rem=a%10\n",
    "    a=a//10 \n",
    "    count+=1\n",
    "print(count)\n",
    "    "
   ]
  },
  {
   "cell_type": "code",
   "execution_count": 282,
   "id": "c4127a1e",
   "metadata": {},
   "outputs": [
    {
     "ename": "SyntaxError",
     "evalue": "invalid syntax (3321279686.py, line 3)",
     "output_type": "error",
     "traceback": [
      "\u001b[1;36m  File \u001b[1;32m\"C:\\Users\\satish\\AppData\\Local\\Temp\\ipykernel_2396\\3321279686.py\"\u001b[1;36m, line \u001b[1;32m3\u001b[0m\n\u001b[1;33m    if (row==0 or row==3 or row==6) and (col>0 and col<4)or(col==0 and (row>0 or row<3 or row=6)) or (col==4 and row>3 and row<5) :\u001b[0m\n\u001b[1;37m                                                                                             ^\u001b[0m\n\u001b[1;31mSyntaxError\u001b[0m\u001b[1;31m:\u001b[0m invalid syntax\n"
     ]
    }
   ],
   "source": [
    "for row in range(7):\n",
    "    for col in range(5):\n",
    "        if (row==0 or row==3 or row==6) and (col>0 and col<4)or(col==0 and (row>0 or row<3 or row=6)) or (col==4 and row>3 and row<5) :\n",
    "            print(\"*\",end=\" \")\n",
    "        else:\n",
    "            print(end=\" \")\n",
    "    print(\" \")    "
   ]
  },
  {
   "cell_type": "code",
   "execution_count": 280,
   "id": "dea301ab",
   "metadata": {
    "scrolled": true
   },
   "outputs": [
    {
     "name": "stdout",
     "output_type": "stream",
     "text": [
      "  **** \n",
      "  *     \n",
      "  *     \n",
      "   ***  \n",
      "      * \n",
      "      * \n",
      "  ****  \n",
      " \n"
     ]
    }
   ],
   "source": [
    "str=\"\";    \n",
    "for Row in range(0,7):    \n",
    "    for Col in range(0,7):     \n",
    "        if (((Row == 0 or Row == 3 or Row == 6) and Col > 1 and Col < 5) or (Col == 1 and (Row == 1 or Row == 2 or Row == 6)) or (Col == 5 and (Row == 0 or Row == 4 or Row == 5))):  \n",
    "            str=str+\"*\"    \n",
    "        else:      \n",
    "            str=str+\" \"    \n",
    "    str=str+\"\\n \"    \n",
    "print(str);    "
   ]
  },
  {
   "cell_type": "code",
   "execution_count": 2,
   "id": "3e5027bb",
   "metadata": {
    "scrolled": true
   },
   "outputs": [
    {
     "name": "stdout",
     "output_type": "stream",
     "text": [
      "0\n",
      "1\n",
      "2\n",
      "3\n",
      "4\n",
      "5\n",
      "6\n",
      "7\n",
      "8\n",
      "9\n",
      "10\n"
     ]
    }
   ],
   "source": [
    "for i in range(11):\n",
    "    print(i)"
   ]
  },
  {
   "cell_type": "code",
   "execution_count": 4,
   "id": "1bbf690b",
   "metadata": {},
   "outputs": [
    {
     "name": "stdout",
     "output_type": "stream",
     "text": [
      "6 * 0 = 0\n",
      "6 * 1 = 6\n",
      "6 * 2 = 12\n",
      "6 * 3 = 18\n",
      "6 * 4 = 24\n",
      "6 * 5 = 30\n",
      "6 * 6 = 36\n",
      "6 * 7 = 42\n",
      "6 * 8 = 48\n",
      "6 * 9 = 54\n",
      "6 * 10 = 60\n"
     ]
    }
   ],
   "source": [
    "n=6\n",
    "for i in range(11):\n",
    "    print(n,\"*\",i,\"=\",n*i)"
   ]
  },
  {
   "cell_type": "code",
   "execution_count": 12,
   "id": "13aab79f",
   "metadata": {},
   "outputs": [
    {
     "name": "stdout",
     "output_type": "stream",
     "text": [
      "satish\n",
      "kumar\n",
      "ramu\n",
      "vijay\n"
     ]
    }
   ],
   "source": [
    "names=[\"satish\",\"kumar\",\"ramu\",\"vijay\"]\n",
    "for i in range(len(names)):\n",
    "    print(name[i])"
   ]
  },
  {
   "cell_type": "code",
   "execution_count": 21,
   "id": "d676104d",
   "metadata": {},
   "outputs": [
    {
     "name": "stdout",
     "output_type": "stream",
     "text": [
      " 30 days \n",
      " 28 days\n",
      " 31 days \n",
      " 30 days \n"
     ]
    }
   ],
   "source": [
    "month=['january','february','march','april']\n",
    "for i in range(len(month)):\n",
    "    if(month[i]=='january'):\n",
    "        print(\" 30 days \")\n",
    "    elif(month[i]=='february'):\n",
    "        print(\" 28 days\")\n",
    "    elif(month[i]=='march'):\n",
    "        print(\" 31 days \")\n",
    "    else:\n",
    "        print(\" 30 days \")\n",
    "        \n"
   ]
  },
  {
   "cell_type": "code",
   "execution_count": 64,
   "id": "7117f03b",
   "metadata": {
    "scrolled": true
   },
   "outputs": [
    {
     "name": "stdout",
     "output_type": "stream",
     "text": [
      "6 5 4 3 2 1  \n",
      "5 4 3 2 1  \n",
      "4 3 2 1  \n",
      "3 2 1  \n",
      "2 1  \n",
      "1  \n"
     ]
    }
   ],
   "source": [
    "\n",
    "for i in range(6):\n",
    "    for j in range (6-i):\n",
    "        print(4-i-j+2,end=\" \")\n",
    "    print(\" \")"
   ]
  },
  {
   "cell_type": "code",
   "execution_count": 45,
   "id": "d0950b22",
   "metadata": {},
   "outputs": [
    {
     "name": "stdout",
     "output_type": "stream",
     "text": [
      "112\n",
      "1110000\n"
     ]
    }
   ],
   "source": [
    "n=int(input())\n",
    "s=''\n",
    "for i in range(n):\n",
    "    i=n%2\n",
    "    s=str(i)+s\n",
    "    n=n//2\n",
    "    if n==0:\n",
    "        break\n",
    "print(s)\n",
    "        "
   ]
  },
  {
   "cell_type": "code",
   "execution_count": 66,
   "id": "1209873f",
   "metadata": {},
   "outputs": [
    {
     "name": "stdout",
     "output_type": "stream",
     "text": [
      "-10\n",
      "-9\n",
      "-8\n",
      "-7\n",
      "-6\n",
      "-5\n",
      "-4\n",
      "-3\n",
      "-2\n",
      "-1\n"
     ]
    }
   ],
   "source": [
    "for i in range(-10,0):\n",
    "    print(i)"
   ]
  },
  {
   "cell_type": "code",
   "execution_count": 97,
   "id": "46e8a255",
   "metadata": {},
   "outputs": [
    {
     "ename": "SyntaxError",
     "evalue": "invalid syntax (2471584782.py, line 6)",
     "output_type": "error",
     "traceback": [
      "\u001b[1;36m  File \u001b[1;32m\"C:\\Users\\satish\\AppData\\Local\\Temp\\ipykernel_6752\\2471584782.py\"\u001b[1;36m, line \u001b[1;32m6\u001b[0m\n\u001b[1;33m    print(x[])\u001b[0m\n\u001b[1;37m    ^\u001b[0m\n\u001b[1;31mSyntaxError\u001b[0m\u001b[1;31m:\u001b[0m invalid syntax\n"
     ]
    }
   ],
   "source": [
    "x=[]\n",
    "n=[20,\"python\",33.98]\n",
    "for i in range(len(n)):\n",
    "    print(type(n[i]))\n",
    "    x.append(type(n[i])\n",
    "print()"
   ]
  },
  {
   "cell_type": "code",
   "execution_count": 90,
   "id": "f848e2b9",
   "metadata": {},
   "outputs": [
    {
     "name": "stdout",
     "output_type": "stream",
     "text": [
      "5\n",
      " \n",
      " \n",
      " \n",
      " \n",
      " \n",
      " \n",
      " \n",
      "*  \n",
      "*  \n",
      "*  \n",
      "*  \n",
      " \n",
      "* *  \n",
      "* *  \n",
      "* *  \n",
      " \n",
      "* * *  \n",
      "* * *  \n",
      " \n",
      "* * * *  \n"
     ]
    }
   ],
   "source": [
    "n=int(input())\n",
    "for row in range(n):\n",
    "    if(row>n):\n",
    "        totalcolsinrow=n-row\n",
    "    else:\n",
    "        totalcolsinrow=row\n",
    "    s=n-totalcolsinrow\n",
    "    for k in range(s):\n",
    "        print(\" \")   \n",
    "         for col in range(totalcolsinrow):\n",
    "                 print(\"*\",end=\" \")\n",
    "                \n",
    "    print(\" \")\n",
    "        "
   ]
  },
  {
   "cell_type": "code",
   "execution_count": 125,
   "id": "23ff076a",
   "metadata": {},
   "outputs": [
    {
     "name": "stdout",
     "output_type": "stream",
     "text": [
      "             *   \n",
      "           *   *   \n",
      "         *   *   *   \n",
      "       *   *   *   *   \n",
      "     *   *   *   *   *   \n",
      "   *   *   *   *   *   *   \n"
     ]
    }
   ],
   "source": [
    "for i in range(6):\n",
    "    for j in range(i,6):\n",
    "        print(\" \",end=\" \")\n",
    "    for j in range(i+1):\n",
    "        print(\" * \",end=\" \")\n",
    "    print(\" \") "
   ]
  },
  {
   "cell_type": "code",
   "execution_count": 103,
   "id": "e2b1767c",
   "metadata": {
    "scrolled": true
   },
   "outputs": [
    {
     "name": "stdout",
     "output_type": "stream",
     "text": [
      "1452  =  <class 'int'>\n",
      "11.23  =  <class 'float'>\n",
      "(1+2j)  =  <class 'complex'>\n",
      "True  =  <class 'bool'>\n",
      "w3resource  =  <class 'str'>\n",
      "(0, -1)  =  <class 'tuple'>\n",
      "[5, 12]  =  <class 'list'>\n",
      "{'class': 'V', 'secrion': 'A'}  =  <class 'dict'>\n"
     ]
    }
   ],
   "source": [
    "datalist=[1452,11.23,1+2j,True,'w3resource',(0,-1),[5,12],{\"class\":'V',\"secrion\":'A'}]\n",
    "for i in range(len(datalist)):\n",
    "    print(datalist[i],\" = \", type(datalist[i]))"
   ]
  },
  {
   "cell_type": "code",
   "execution_count": 130,
   "id": "25c123af",
   "metadata": {},
   "outputs": [
    {
     "name": "stdout",
     "output_type": "stream",
     "text": [
      "10\n",
      "[1, 0, 1, 0]\n",
      "1 0 1 0 "
     ]
    }
   ],
   "source": [
    "n=int(input())\n",
    "l=[]\n",
    "for i in range(n):\n",
    "    i=n%2\n",
    "    l.append(i)  \n",
    "    n=n//2\n",
    "    if(n==0):\n",
    "        break\n",
    "l.reverse()\n",
    "print(l)\n",
    "for i in l:\n",
    "    print(i,end=\" \")"
   ]
  },
  {
   "cell_type": "code",
   "execution_count": 133,
   "id": "b4691a1f",
   "metadata": {},
   "outputs": [
    {
     "name": "stdout",
     "output_type": "stream",
     "text": [
      "15\n"
     ]
    }
   ],
   "source": []
  },
  {
   "cell_type": "code",
   "execution_count": 146,
   "id": "33467480",
   "metadata": {
    "scrolled": true
   },
   "outputs": [
    {
     "name": "stdout",
     "output_type": "stream",
     "text": [
      "enter how many numbers do you want print\n",
      "2\n",
      "enter element you want store in list\n",
      "22\n",
      "enter element you want store in list\n",
      "44\n",
      "[22, 44]\n",
      "66\n"
     ]
    }
   ],
   "source": [
    "def evensum():\n",
    "    sum=0\n",
    "    list=[]\n",
    "    print(\"enter how many numbers do you want print\")\n",
    "    n=int(input())\n",
    "    for i in range(n):\n",
    "        print(\"enter element you want store in list\")\n",
    "        n=int(input())\n",
    "        list.append(n)\n",
    "    print(list)\n",
    "    for j in range(len(list)):\n",
    "        if(list[j]%2==0):\n",
    "            sum=sum+list[j]\n",
    "        else:\n",
    "            continue\n",
    "    print(sum)\n",
    "        \n",
    "evensum()"
   ]
  },
  {
   "cell_type": "code",
   "execution_count": 152,
   "id": "930dcdfe",
   "metadata": {},
   "outputs": [
    {
     "name": "stdout",
     "output_type": "stream",
     "text": [
      "cba\n"
     ]
    },
    {
     "data": {
      "text/plain": [
       "False"
      ]
     },
     "execution_count": 152,
     "metadata": {},
     "output_type": "execute_result"
    }
   ],
   "source": [
    "def palindrome(string):    \n",
    "    sum=\"\"\n",
    "    for i in string:\n",
    "        sum=(i)+sum\n",
    "    print(sum)\n",
    "    a=sum\n",
    "    if(string==a):\n",
    "        return True\n",
    "    else:\n",
    "        return False\n",
    "palindrome(\"abc\")\n",
    "    \n",
    "    "
   ]
  },
  {
   "cell_type": "code",
   "execution_count": 160,
   "id": "ce13fcf5",
   "metadata": {},
   "outputs": [
    {
     "name": "stdout",
     "output_type": "stream",
     "text": [
      "enter how many numbers do you want print\n",
      "4\n",
      "enter element you want store in list\n",
      "22\n",
      "enter element you want store in list\n",
      "44\n",
      "enter element you want store in list\n",
      "33\n",
      "enter element you want store in list\n",
      "77\n",
      "[22, 44, 33, 77]\n",
      "11\n",
      "0\n"
     ]
    }
   ],
   "source": [
    "def deff():\n",
    "    sum=0\n",
    "    list=[]\n",
    "    print(\"enter how many numbers do you want print\")\n",
    "    n=int(input())\n",
    "    for i in range(n):\n",
    "        print(\"enter element you want store in list\")\n",
    "        n=int(input())\n",
    "        list.append(n)\n",
    "    print(list)\n",
    "    for j in range(len(list)-1):\n",
    "        max=0\n",
    "        if(list[j]>list[j+1]):\n",
    "            max=list[j]-list[j+1]\n",
    "            print(max)\n",
    "        else:\n",
    "            continue\n",
    "    print(max)\n",
    "deff()\n",
    "        "
   ]
  },
  {
   "cell_type": "code",
   "execution_count": 162,
   "id": "53c56494",
   "metadata": {},
   "outputs": [
    {
     "name": "stdout",
     "output_type": "stream",
     "text": [
      "enter how many numbers do you want print\n",
      "4\n",
      "enter element you want store in list\n",
      "22\n",
      "enter element you want store in list\n",
      "44\n",
      "enter element you want store in list\n",
      "44\n",
      "enter element you want store in list\n",
      "33\n",
      "[22, 44, 44, 33]\n",
      "88\n"
     ]
    }
   ],
   "source": [
    "\n",
    "def deff(a,b):\n",
    "    sum=0\n",
    "    list=[]\n",
    "    print(\"enter how many numbers do you want print\")\n",
    "    n=int(input())\n",
    "    for i in range(n):\n",
    "        print(\"enter element you want store in list\")\n",
    "        n=int(input())\n",
    "        list.append(n)\n",
    "    print(list)\n",
    "    max=list[a]+list[b]\n",
    "    print(max)\n",
    "deff(1,2)"
   ]
  },
  {
   "cell_type": "code",
   "execution_count": 215,
   "id": "51655f23",
   "metadata": {},
   "outputs": [
    {
     "name": "stdout",
     "output_type": "stream",
     "text": [
      "enter how many numbers do you want print\n",
      "2\n",
      "enter element you want store in list\n",
      "44\n",
      "enter element you want store in list\n",
      "33\n",
      "[44, 33]\n"
     ]
    },
    {
     "ename": "TypeError",
     "evalue": "object of type 'type' has no len()",
     "output_type": "error",
     "traceback": [
      "\u001b[1;31m---------------------------------------------------------------------------\u001b[0m",
      "\u001b[1;31mTypeError\u001b[0m                                 Traceback (most recent call last)",
      "\u001b[1;32m~\\AppData\\Local\\Temp\\ipykernel_6752\\1878590146.py\u001b[0m in \u001b[0;36m<module>\u001b[1;34m\u001b[0m\n\u001b[0;32m     30\u001b[0m     \u001b[0mprint\u001b[0m\u001b[1;33m(\u001b[0m\u001b[0mmin1\u001b[0m\u001b[1;33m)\u001b[0m\u001b[1;33m\u001b[0m\u001b[1;33m\u001b[0m\u001b[0m\n\u001b[0;32m     31\u001b[0m \u001b[1;33m\u001b[0m\u001b[0m\n\u001b[1;32m---> 32\u001b[1;33m \u001b[0mlnlists\u001b[0m\u001b[1;33m(\u001b[0m\u001b[1;33m)\u001b[0m\u001b[1;33m\u001b[0m\u001b[1;33m\u001b[0m\u001b[0m\n\u001b[0m",
      "\u001b[1;32m~\\AppData\\Local\\Temp\\ipykernel_6752\\1878590146.py\u001b[0m in \u001b[0;36mlnlists\u001b[1;34m()\u001b[0m\n\u001b[0;32m      9\u001b[0m         \u001b[0mlist\u001b[0m\u001b[1;33m.\u001b[0m\u001b[0mappend\u001b[0m\u001b[1;33m(\u001b[0m\u001b[0mn\u001b[0m\u001b[1;33m)\u001b[0m\u001b[1;33m\u001b[0m\u001b[1;33m\u001b[0m\u001b[0m\n\u001b[0;32m     10\u001b[0m     \u001b[0mprint\u001b[0m\u001b[1;33m(\u001b[0m\u001b[0mlist\u001b[0m\u001b[1;33m)\u001b[0m\u001b[1;33m\u001b[0m\u001b[1;33m\u001b[0m\u001b[0m\n\u001b[1;32m---> 11\u001b[1;33m     \u001b[0ma\u001b[0m\u001b[1;33m=\u001b[0m\u001b[0mmax1\u001b[0m\u001b[1;33m(\u001b[0m\u001b[0mlist\u001b[0m\u001b[1;33m)\u001b[0m\u001b[1;33m\u001b[0m\u001b[1;33m\u001b[0m\u001b[0m\n\u001b[0m\u001b[0;32m     12\u001b[0m     \u001b[0mb\u001b[0m\u001b[1;33m=\u001b[0m\u001b[0mmin1\u001b[0m\u001b[1;33m(\u001b[0m\u001b[0mlist\u001b[0m\u001b[1;33m)\u001b[0m\u001b[1;33m\u001b[0m\u001b[1;33m\u001b[0m\u001b[0m\n\u001b[0;32m     13\u001b[0m     \u001b[0mc\u001b[0m\u001b[1;33m=\u001b[0m\u001b[0ma\u001b[0m\u001b[1;33m-\u001b[0m\u001b[0mb\u001b[0m\u001b[1;33m\u001b[0m\u001b[1;33m\u001b[0m\u001b[0m\n",
      "\u001b[1;32m~\\AppData\\Local\\Temp\\ipykernel_6752\\3821758608.py\u001b[0m in \u001b[0;36mmax1\u001b[1;34m(l)\u001b[0m\n\u001b[0;32m     13\u001b[0m     \u001b[0mi\u001b[0m\u001b[1;33m=\u001b[0m\u001b[1;36m0\u001b[0m\u001b[1;33m\u001b[0m\u001b[1;33m\u001b[0m\u001b[0m\n\u001b[0;32m     14\u001b[0m     \u001b[0mmax\u001b[0m\u001b[1;33m=\u001b[0m\u001b[0mlist\u001b[0m\u001b[1;33m[\u001b[0m\u001b[1;36m0\u001b[0m\u001b[1;33m]\u001b[0m\u001b[1;33m\u001b[0m\u001b[1;33m\u001b[0m\u001b[0m\n\u001b[1;32m---> 15\u001b[1;33m     \u001b[1;32mwhile\u001b[0m\u001b[1;33m(\u001b[0m\u001b[0mi\u001b[0m\u001b[1;33m<\u001b[0m\u001b[0mlen\u001b[0m\u001b[1;33m(\u001b[0m\u001b[0mlist\u001b[0m\u001b[1;33m)\u001b[0m\u001b[1;33m)\u001b[0m\u001b[1;33m:\u001b[0m\u001b[1;33m\u001b[0m\u001b[1;33m\u001b[0m\u001b[0m\n\u001b[0m\u001b[0;32m     16\u001b[0m         \u001b[1;32mif\u001b[0m\u001b[1;33m(\u001b[0m\u001b[0mlist\u001b[0m\u001b[1;33m[\u001b[0m\u001b[0mi\u001b[0m\u001b[1;33m]\u001b[0m\u001b[1;33m>\u001b[0m\u001b[0mmax\u001b[0m\u001b[1;33m)\u001b[0m\u001b[1;33m:\u001b[0m\u001b[1;33m\u001b[0m\u001b[1;33m\u001b[0m\u001b[0m\n\u001b[0;32m     17\u001b[0m             \u001b[0mmax\u001b[0m\u001b[1;33m=\u001b[0m\u001b[0mlist\u001b[0m\u001b[1;33m[\u001b[0m\u001b[0mi\u001b[0m\u001b[1;33m]\u001b[0m\u001b[1;33m\u001b[0m\u001b[1;33m\u001b[0m\u001b[0m\n",
      "\u001b[1;31mTypeError\u001b[0m: object of type 'type' has no len()"
     ]
    }
   ],
   "source": [
    "\n",
    "def lnlists():\n",
    "    sum=0\n",
    "    list=[]\n",
    "    print(\"enter how many numbers do you want print\")\n",
    "    n=int(input())\n",
    "    for i in range(n):\n",
    "        print(\"enter element you want store in list\")\n",
    "        n=int(input())\n",
    "        list.append(n)\n",
    "    print(list)\n",
    "    a=max1(list)\n",
    "    b=min1(list)\n",
    "    c=a-b\n",
    "    print(c)\n",
    "def max(a):\n",
    "    list=lnlists()\n",
    "    i=0\n",
    "    max=list[0]\n",
    "    while(i<len(list)):\n",
    "        if(list[i]>max):\n",
    "            max=list[i]\n",
    "            i+=1 \n",
    "def min(b):\n",
    "    i=0\n",
    "    min1=list[0]\n",
    "    while(i<len(list)):\n",
    "        if(list[i]<min1):\n",
    "            min1=list[i]\n",
    "            i+=1\n",
    "    print(min1)\n",
    "\n",
    "lnlists()\n"
   ]
  },
  {
   "cell_type": "code",
   "execution_count": 192,
   "id": "3dbfeee6",
   "metadata": {},
   "outputs": [
    {
     "name": "stdout",
     "output_type": "stream",
     "text": [
      "enter how many string do you want print\n",
      "2\n",
      "enter element you want store in list\n",
      "ajay\n",
      "enter element you want store in list\n",
      "satish\n",
      "['ajay', 'satish']\n",
      "ajay\n"
     ]
    }
   ],
   "source": [
    "def deff():\n",
    "    sum=0\n",
    "    list=[]\n",
    "    list2=[]\n",
    "    print(\"enter how many string do you want print\")\n",
    "    n=int(input())\n",
    "    for i in range(n):\n",
    "        print(\"enter element you want store in list\")\n",
    "        n=input()\n",
    "        list.append(n)\n",
    "    print(list)\n",
    "    letter='a'\n",
    "    for i in list:\n",
    "        if(i[0]==letter):\n",
    "            print(i)\n",
    "deff()"
   ]
  },
  {
   "cell_type": "code",
   "execution_count": 201,
   "id": "b8f69113",
   "metadata": {},
   "outputs": [
    {
     "ename": "SyntaxError",
     "evalue": "invalid syntax (363090153.py, line 13)",
     "output_type": "error",
     "traceback": [
      "\u001b[1;36m  File \u001b[1;32m\"C:\\Users\\satish\\AppData\\Local\\Temp\\ipykernel_6752\\363090153.py\"\u001b[1;36m, line \u001b[1;32m13\u001b[0m\n\u001b[1;33m    if(list[i])\u001b[0m\n\u001b[1;37m               ^\u001b[0m\n\u001b[1;31mSyntaxError\u001b[0m\u001b[1;31m:\u001b[0m invalid syntax\n"
     ]
    }
   ],
   "source": [
    "def deff():\n",
    "    sum=0\n",
    "    list=[]\n",
    "    list2=[]\n",
    "    print(\"enter how many numbers do you want print\")\n",
    "    n=int(input())\n",
    "    for i in range(n):\n",
    "        print(\"enter number you want store in list\")\n",
    "        n=input()\n",
    "        list.append(n)\n",
    "    print(list)\n",
    "    for i in list:\n",
    "        if(list[i])"
   ]
  },
  {
   "cell_type": "code",
   "execution_count": 206,
   "id": "6b1fe28a",
   "metadata": {},
   "outputs": [
    {
     "name": "stdout",
     "output_type": "stream",
     "text": [
      "stsh\n"
     ]
    }
   ],
   "source": [
    "def vowel(string):\n",
    "    vowels = ['a', 'e', 'i', 'o', 'u', 'A', 'E', 'I', 'O', 'U']\n",
    "    result = \"\"\n",
    "\n",
    "    for i in range(len(string)):\n",
    "        if string[i] not in vowels:\n",
    "            result = result + string[i]\n",
    "print( result)\n",
    "vowel(\"satish \")"
   ]
  },
  {
   "cell_type": "code",
   "execution_count": 214,
   "id": "97119d97",
   "metadata": {},
   "outputs": [
    {
     "name": "stdout",
     "output_type": "stream",
     "text": [
      "enter how many numbers do you want print\n",
      "2\n",
      "enter number you want store in list\n",
      "44\n",
      "enter number you want store in list\n",
      "22\n",
      "[44, 22]\n",
      "968\n"
     ]
    }
   ],
   "source": [
    "def listprod():\n",
    "    prod=1\n",
    "    list=[]\n",
    "    list2=[]\n",
    "    print(\"enter how many numbers do you want print\")\n",
    "    n=int(input())\n",
    "    for i in range(n):\n",
    "        print(\"enter number you want store in list\")\n",
    "        n=int(input())\n",
    "        list.append(n)\n",
    "    print(list)\n",
    "    for i in range(len(list)):\n",
    "        prod=list[i]*prod\n",
    "    print(prod)\n",
    "\n",
    "listprod()       "
   ]
  },
  {
   "cell_type": "code",
   "execution_count": 242,
   "id": "586b5d2b",
   "metadata": {},
   "outputs": [
    {
     "name": "stdout",
     "output_type": "stream",
     "text": [
      "1\n",
      "2\n",
      "3\n",
      "1\n",
      "10\n",
      "1\n",
      "2\n",
      "3\n",
      "1\n",
      "10\n"
     ]
    }
   ],
   "source": [
    "def sort():\n",
    "    list=[1,2,3,1,10,0] \n",
    "    for i in range(len(list)-1):\n",
    "        if(list[i]>list[i+1]):\n",
    "            swap(list[i],list[i+1])        \n",
    "        else:\n",
    "            continue                    \n",
    "def swap(a,b):\n",
    "    temp=a\n",
    "    a=b\n",
    "    b=temp\n",
    "sort()    "
   ]
  },
  {
   "cell_type": "code",
   "execution_count": 7,
   "id": "4b123b27",
   "metadata": {
    "scrolled": true
   },
   "outputs": [
    {
     "name": "stdout",
     "output_type": "stream",
     "text": [
      "satish\n",
      "ramu\n"
     ]
    }
   ],
   "source": [
    "def function(name=\"satish\"):\n",
    "    print(name)\n",
    "function()\n",
    "function(\"ramu\")"
   ]
  },
  {
   "cell_type": "code",
   "execution_count": 12,
   "id": "855ccae2",
   "metadata": {},
   "outputs": [
    {
     "name": "stdout",
     "output_type": "stream",
     "text": [
      "satish\n"
     ]
    }
   ],
   "source": [
    "def function(*names):\n",
    "    print(names[1])\n",
    "function(\"vijay\",\"satish\",\"kumar\")"
   ]
  },
  {
   "cell_type": "code",
   "execution_count": 17,
   "id": "9b244954",
   "metadata": {},
   "outputs": [
    {
     "name": "stdout",
     "output_type": "stream",
     "text": [
      "25\n",
      "30\n",
      "35\n"
     ]
    }
   ],
   "source": [
    "def my_function(x):\n",
    "    return x*5\n",
    "print(my_function(5))\n",
    "print(my_function(6))\n",
    "print(my_function(7))\n"
   ]
  },
  {
   "cell_type": "code",
   "execution_count": 20,
   "id": "eb165d6a",
   "metadata": {},
   "outputs": [
    {
     "name": "stdout",
     "output_type": "stream",
     "text": [
      "1\n",
      "3\n",
      "6\n",
      "10\n",
      "15\n",
      "21\n"
     ]
    },
    {
     "data": {
      "text/plain": [
       "21"
      ]
     },
     "execution_count": 20,
     "metadata": {},
     "output_type": "execute_result"
    }
   ],
   "source": [
    "def tri_recursion(k):\n",
    "    if(k>0):\n",
    "        result=k+tri_recursion(k-1)\n",
    "        print(result)\n",
    "    else:\n",
    "        result=0\n",
    "    return result\n",
    "tri_recursion(6)"
   ]
  },
  {
   "cell_type": "markdown",
   "id": "7f50267e",
   "metadata": {},
   "source": [
    "1"
   ]
  },
  {
   "cell_type": "code",
   "execution_count": 37,
   "id": "a0ff5b9e",
   "metadata": {},
   "outputs": [
    {
     "name": "stdout",
     "output_type": "stream",
     "text": [
      "naveen\n",
      "18\n"
     ]
    },
    {
     "data": {
      "text/plain": [
       "True"
      ]
     },
     "execution_count": 37,
     "metadata": {},
     "output_type": "execute_result"
    }
   ],
   "source": [
    "def my_function11(name,age,value):\n",
    "    print(name)\n",
    "    print(age)\n",
    "    return (bool(value%2==0))\n",
    "my_function11('naveen',18,20)"
   ]
  },
  {
   "cell_type": "markdown",
   "id": "991d1941",
   "metadata": {},
   "source": [
    "2.\tWrite a Python program that takes any number of positional arguments and one keyword argument. The positional arguments should be strings, and the keyword argument should be an integer. The program should print out each positional argument, followed by the keyword argument multiplied by the length of the positional argument."
   ]
  },
  {
   "cell_type": "code",
   "execution_count": 42,
   "id": "7ed3c978",
   "metadata": {},
   "outputs": [
    {
     "name": "stdout",
     "output_type": "stream",
     "text": [
      "satish 60\n",
      "kumar 50\n",
      "vijay 50\n"
     ]
    }
   ],
   "source": [
    "def pos(*names,k=10):\n",
    "    for i in range(len(names)):\n",
    "        print(names[i],len(names[i])*k)\n",
    "pos(\"satish\",\"kumar\",'vijay')"
   ]
  },
  {
   "cell_type": "markdown",
   "id": "911495da",
   "metadata": {},
   "source": [
    "3.\tWrite a Python program that takes one required argument and any number of keyword arguments. The required argument should be a string, and the keyword arguments should all be integers. The program should print out the required argument, followed by the sum of all the keyword arguments."
   ]
  },
  {
   "cell_type": "code",
   "execution_count": 59,
   "id": "96f626be",
   "metadata": {},
   "outputs": [
    {
     "name": "stdout",
     "output_type": "stream",
     "text": [
      "10 satish\n",
      "30 satish\n"
     ]
    }
   ],
   "source": [
    "def key(*kw,names='satish'):\n",
    "    sum=0\n",
    "    for i in range(len(kw)):\n",
    "        sum=kw[i]+sum\n",
    "        print(sum,names)\n",
    "key(10,20)\n",
    "        "
   ]
  },
  {
   "cell_type": "markdown",
   "id": "f6ad6941",
   "metadata": {},
   "source": [
    "4.Write a Python program that takes one required argument and any number of keyword arguments. The required argument should be a string, and the keyword arguments should all be lists of integers. The program should print out the required argument, followed by the sum of all the integers in all the lists."
   ]
  },
  {
   "cell_type": "code",
   "execution_count": 110,
   "id": "f1eff017",
   "metadata": {},
   "outputs": [
    {
     "name": "stdout",
     "output_type": "stream",
     "text": [
      "(600, 'satish')\n"
     ]
    }
   ],
   "source": [
    "def returnSum(abc,name=\"satish\"):\n",
    "    \n",
    "    list = []\n",
    "    for i in range(len(abc)):\n",
    "        list.append(abc[i])\n",
    "    final = sum(list)\n",
    " \n",
    "    return final,name\n",
    "abc = [ 100, 200, 300]\n",
    "print( returnSum(abc))"
   ]
  },
  {
   "cell_type": "markdown",
   "id": "dc8966ad",
   "metadata": {},
   "source": [
    "5.5.\tWrite a Python program that takes one required argument and any number of keyword arguments. The required argument should be a string, and the keyword arguments should all be dictionaries with string keys and integer values. The program should print out the required argument, followed by the sum of all the integer values in all the dictionaries."
   ]
  },
  {
   "cell_type": "code",
   "execution_count": 111,
   "id": "8b90ef9d",
   "metadata": {},
   "outputs": [
    {
     "name": "stdout",
     "output_type": "stream",
     "text": [
      "(46, 'satish')\n"
     ]
    }
   ],
   "source": [
    "def returnsum1(dict,name=\"satish\"):\n",
    "\n",
    "    sum=0\n",
    "    for i in dict:\n",
    "        sum=sum+dict[i]\n",
    "    return sum,name\n",
    "dict = {'a': 10, 'b': 2, 'c': 34}\n",
    "print(returnsum1(dict))\n",
    "        "
   ]
  },
  {
   "cell_type": "code",
   "execution_count": null,
   "id": "4d5d87bd",
   "metadata": {},
   "outputs": [],
   "source": []
  },
  {
   "cell_type": "code",
   "execution_count": 113,
   "id": "ab20887d",
   "metadata": {},
   "outputs": [
    {
     "name": "stdout",
     "output_type": "stream",
     "text": [
      "satish\n",
      "{'age': 19, 'age1': 19}\n"
     ]
    }
   ],
   "source": [
    "def person(name,**da+ta):\n",
    "    print(name)\n",
    "    print(data)\n",
    "person('satish',age=19,age1=19)"
   ]
  },
  {
   "cell_type": "markdown",
   "id": "5f988597",
   "metadata": {},
   "source": [
    "7.Write a Python program that takes one required argument and any number of keyword arguments. The required argument should be a string, and the keyword arguments should all be lists of strings. The program should print out the required argument, followed by all the strings in all the lists, sorted alphabetically."
   ]
  },
  {
   "cell_type": "code",
   "execution_count": 120,
   "id": "f53574b4",
   "metadata": {
    "scrolled": true
   },
   "outputs": [
    {
     "data": {
      "text/plain": [
       "('name', ['keras', 'numpy', 'pandas'])"
      ]
     },
     "execution_count": 120,
     "metadata": {},
     "output_type": "execute_result"
    }
   ],
   "source": [
    "def display(a,l):\n",
    "    l.sort()\n",
    "    return a,l  \n",
    "display1(\"name\",l=[\"numpy\",\"pandas\",\"keras\"]) \n"
   ]
  },
  {
   "cell_type": "code",
   "execution_count": 125,
   "id": "90fa68da",
   "metadata": {},
   "outputs": [
    {
     "data": {
      "text/plain": [
       "('satish', {'satish': 10, 'ramu': 20})"
      ]
     },
     "execution_count": 125,
     "metadata": {},
     "output_type": "execute_result"
    }
   ],
   "source": [
    "def display(b,d):\n",
    "    dict1=list(d.keys())\n",
    "    dict1.sort()\n",
    "    return b,d\n",
    "display(\"satish\",d={'satish':10,'ramu':20})"
   ]
  },
  {
   "cell_type": "markdown",
   "id": "37bad7b4",
   "metadata": {},
   "source": [
    "\n",
    "    "
   ]
  },
  {
   "cell_type": "markdown",
   "id": "de8dd412",
   "metadata": {},
   "source": [
    "10.Write a Python program that takes two required arguments and any number of keyword arguments. The required arguments should be strings, and the keyword arguments should all be booleans. The program should print out the first argument if the first boolean is True, the second argument if the second boolean is True, and so on for all the keyword arguments."
   ]
  },
  {
   "cell_type": "code",
   "execution_count": 152,
   "id": "a365f6db",
   "metadata": {},
   "outputs": [
    {
     "name": "stdout",
     "output_type": "stream",
     "text": [
      "True\n",
      "True\n"
     ]
    },
    {
     "data": {
      "text/plain": [
       "('satish', 'kumar')"
      ]
     },
     "execution_count": 152,
     "metadata": {},
     "output_type": "execute_result"
    }
   ],
   "source": [
    "def display(a,b,c):\n",
    "    for i in range(len(c)):\n",
    "        print( bool(c[i]))\n",
    "    return a,b\n",
    "    \n",
    "display(\"satish\",\"kumar\",c=[1,1])    \n",
    "    "
   ]
  },
  {
   "cell_type": "markdown",
   "id": "a90d45c3",
   "metadata": {},
   "source": [
    "6.\tWrite a Python program that takes any number of positional arguments and one keyword argument. The positional arguments should be integers, and the keyword argument should be a function that takes one argument and returns a boolean value. The program should print out only the positional arguments for which the function returns True when called with that argument."
   ]
  },
  {
   "cell_type": "code",
   "execution_count": 208,
   "id": "e60140e5",
   "metadata": {},
   "outputs": [
    {
     "data": {
      "text/plain": [
       "(10, 20)"
      ]
     },
     "execution_count": 208,
     "metadata": {},
     "output_type": "execute_result"
    }
   ],
   "source": [
    "def display(a,b,c):\n",
    "    if c==True:\n",
    "        return a,b\n",
    "    elif c==False:\n",
    "        return a,b,c\n",
    "display(10,20,10<20)\n",
    "\n"
   ]
  },
  {
   "cell_type": "code",
   "execution_count": 159,
   "id": "64094d04",
   "metadata": {},
   "outputs": [
    {
     "data": {
      "text/plain": [
       "5"
      ]
     },
     "execution_count": 159,
     "metadata": {},
     "output_type": "execute_result"
    }
   ],
   "source": [
    "def secondlarge(l):\n",
    "    a=max(l)\n",
    "    l.remove(a)\n",
    "    b=max(l)\n",
    "    return b\n",
    "secondlarge(l=[12,3,4,5])"
   ]
  },
  {
   "cell_type": "code",
   "execution_count": 163,
   "id": "3d6dc23f",
   "metadata": {},
   "outputs": [
    {
     "data": {
      "text/plain": [
       "'satishkumar'"
      ]
     },
     "execution_count": 163,
     "metadata": {},
     "output_type": "execute_result"
    }
   ],
   "source": [
    "def largestring(a):\n",
    "    max_len = -1\n",
    "    for ele in a:\n",
    "        if len(ele) > max_len:\n",
    "            max_len = len(ele)\n",
    "            res = ele\n",
    "    return res\n",
    "    \n",
    "largestring(a=[\"satish\",\"ss\",\"kumar\",\"satishkumar\"])"
   ]
  },
  {
   "cell_type": "code",
   "execution_count": 172,
   "id": "2be5dee5",
   "metadata": {},
   "outputs": [
    {
     "data": {
      "text/plain": [
       "'19 1 20 9 19 8'"
      ]
     },
     "execution_count": 172,
     "metadata": {},
     "output_type": "execute_result"
    }
   ],
   "source": [
    "def alphabet_position(text):\n",
    "    dictt = {'a':'1','b':'2','c':'3','d':'4','e':'5','f':'6','g':'7','h':'8',\n",
    "    'i':'9','j':'10','k':'11','l':'12','m':'13','n':'14','o':'15','p':'16','q':'17',\n",
    "    'r':'18','s':'19','t':'20','u':'21','v':'22','w':'23','x':'24','y':'25','z':'26'\n",
    "    }\n",
    "    arr = []\n",
    "    new_text = text.lower()\n",
    "    for i in list(new_text):\n",
    "        for k, j in dictt.items():\n",
    "            if k == i:\n",
    "                arr.append(j)\n",
    "    return ' '.join(arr)\n",
    "alphabet_position(\"satish\")\n"
   ]
  },
  {
   "cell_type": "code",
   "execution_count": 170,
   "id": "07119ed9",
   "metadata": {},
   "outputs": [
    {
     "name": "stdout",
     "output_type": "stream",
     "text": [
      "a h i s s t\n"
     ]
    }
   ],
   "source": [
    "string=\"satish\"\n",
    "res=\" \".join(sorted(string))\n",
    "print(res)"
   ]
  },
  {
   "cell_type": "code",
   "execution_count": 180,
   "id": "3a9e78b0",
   "metadata": {},
   "outputs": [
    {
     "name": "stdout",
     "output_type": "stream",
     "text": [
      "[2, 3, 4, 5, 5, 5, 10]\n"
     ]
    },
    {
     "data": {
      "text/plain": [
       "False"
      ]
     },
     "execution_count": 180,
     "metadata": {},
     "output_type": "execute_result"
    }
   ],
   "source": [
    "def descending(a):\n",
    "    b=sorted(a)\n",
    "    print(b)\n",
    "    if(b[0]>b[1]):\n",
    "        return True\n",
    "    else:\n",
    "        return False    \n",
    "descending(a=[10,2,3,4,5,5,5])"
   ]
  },
  {
   "cell_type": "code",
   "execution_count": 182,
   "id": "75492d21",
   "metadata": {},
   "outputs": [
    {
     "name": "stdout",
     "output_type": "stream",
     "text": [
      "enter person age\n",
      "20\n",
      "person is eligible for vote\n"
     ]
    }
   ],
   "source": [
    "print(\"enter person age\")\n",
    "age=int(input())\n",
    "if(age>18):\n",
    "    print(\"person is eligible for vote\")\n",
    "else:\n",
    "    print(\"person is not eligible for vote\")"
   ]
  },
  {
   "cell_type": "code",
   "execution_count": 183,
   "id": "ccdbb912",
   "metadata": {},
   "outputs": [
    {
     "name": "stdout",
     "output_type": "stream",
     "text": [
      "4\n",
      "entered number is odd\n"
     ]
    }
   ],
   "source": [
    "n=int(input())\n",
    "if(n%2):\n",
    "    print(\"entered number is even\")\n",
    "else:\n",
    "    print(\"entered number is odd\")"
   ]
  },
  {
   "cell_type": "code",
   "execution_count": 192,
   "id": "e45fc85e",
   "metadata": {},
   "outputs": [],
   "source": [
    "days={1:\"Monday\",2:\"Tuesday\",3:\"Wednesday\",4:\"Thursday\",5:\"Friday\",6:\"Saturday\",7:\"Sunday\"}"
   ]
  },
  {
   "cell_type": "code",
   "execution_count": 202,
   "id": "029e6094",
   "metadata": {},
   "outputs": [
    {
     "name": "stdout",
     "output_type": "stream",
     "text": [
      "2\n",
      "Tuesday\n"
     ]
    }
   ],
   "source": [
    "n=int(input())\n",
    "for i in range(n+1):\n",
    "    if(n==i):\n",
    "        print(days.get(i))\n",
    "        "
   ]
  },
  {
   "cell_type": "markdown",
   "id": "ed9abf2e",
   "metadata": {},
   "source": [
    "9.Write a Python program that takes one required argument and any number of keyword arguments. The required argument should be a string, and the keyword arguments should all be lists of integers. The program should print out the required argument, followed by the largest integer in each list."
   ]
  },
  {
   "cell_type": "code",
   "execution_count": 203,
   "id": "20c69eed",
   "metadata": {},
   "outputs": [
    {
     "name": "stdout",
     "output_type": "stream",
     "text": [
      "40\n"
     ]
    },
    {
     "data": {
      "text/plain": [
       "('satish', [10, 20, 30, 40])"
      ]
     },
     "execution_count": 203,
     "metadata": {},
     "output_type": "execute_result"
    }
   ],
   "source": [
    "def display(b,l):\n",
    "    print(max(l))\n",
    "    return b,l\n",
    "display(\"satish\",l=[10,20,30,40])\n",
    "\n"
   ]
  },
  {
   "cell_type": "code",
   "execution_count": 206,
   "id": "dad5ad50",
   "metadata": {},
   "outputs": [
    {
     "ename": "NameError",
     "evalue": "name 'studentss' is not defined",
     "output_type": "error",
     "traceback": [
      "\u001b[1;31m---------------------------------------------------------------------------\u001b[0m",
      "\u001b[1;31mNameError\u001b[0m                                 Traceback (most recent call last)",
      "\u001b[1;32m~\\AppData\\Local\\Temp\\ipykernel_9176\\224862735.py\u001b[0m in \u001b[0;36m<module>\u001b[1;34m\u001b[0m\n\u001b[0;32m      4\u001b[0m \u001b[0msection\u001b[0m\u001b[1;33m=\u001b[0m\u001b[1;33m[\u001b[0m\u001b[1;34m'Div-1'\u001b[0m\u001b[1;33m,\u001b[0m\u001b[1;34m'Div-B'\u001b[0m\u001b[1;33m,\u001b[0m\u001b[1;34m'Div-c'\u001b[0m\u001b[1;33m]\u001b[0m\u001b[1;33m\u001b[0m\u001b[1;33m\u001b[0m\u001b[0m\n\u001b[0;32m      5\u001b[0m \u001b[0mstudents\u001b[0m\u001b[1;33m=\u001b[0m\u001b[1;33m[\u001b[0m\u001b[1;36m22\u001b[0m\u001b[1;33m,\u001b[0m\u001b[1;36m33\u001b[0m\u001b[1;33m,\u001b[0m\u001b[1;36m40\u001b[0m\u001b[1;33m]\u001b[0m\u001b[1;33m\u001b[0m\u001b[1;33m\u001b[0m\u001b[0m\n\u001b[1;32m----> 6\u001b[1;33m \u001b[0max\u001b[0m\u001b[1;33m.\u001b[0m\u001b[0mbar\u001b[0m\u001b[1;33m(\u001b[0m\u001b[0msection\u001b[0m\u001b[1;33m,\u001b[0m\u001b[0mstudentss\u001b[0m\u001b[1;33m)\u001b[0m\u001b[1;33m\u001b[0m\u001b[1;33m\u001b[0m\u001b[0m\n\u001b[0m\u001b[0;32m      7\u001b[0m \u001b[0mplt\u001b[0m\u001b[1;33m.\u001b[0m\u001b[0mshow\u001b[0m\u001b[1;33m(\u001b[0m\u001b[1;33m)\u001b[0m\u001b[1;33m\u001b[0m\u001b[1;33m\u001b[0m\u001b[0m\n",
      "\u001b[1;31mNameError\u001b[0m: name 'studentss' is not defined"
     ]
    },
    {
     "data": {
      "image/png": "[encoded data removed]",
      "text/plain": [
       "<Figure size 640x480 with 1 Axes>"
      ]
     },
     "metadata": {},
     "output_type": "display_data"
    }
   ],
   "source": [
    "import matplotlib.pyplot as plt\n",
    "fig=plt.figure()\n",
    "ax=fig.add_axes([0,0,1,1])\n",
    "section=['Div-1','Div-B','Div-c']\n",
    "students=[22,33,40]\n",
    "ax.bar(section,studentss)\n",
    "plt.show()"
   ]
  },
  {
   "cell_type": "markdown",
   "id": "5b8d4478",
   "metadata": {},
   "source": [
    "#Matplotlib\n"
   ]
  },
  {
   "cell_type": "code",
   "execution_count": 1,
   "id": "4b2d418f",
   "metadata": {},
   "outputs": [
    {
     "data": {
      "text/plain": [
       "[<matplotlib.lines.Line2D at 0x27438e1c820>]"
      ]
     },
     "execution_count": 1,
     "metadata": {},
     "output_type": "execute_result"
    },
    {
     "data": {
      "image/png": "[encoded data removed]",
      "text/plain": [
       "<Figure size 640x480 with 1 Axes>"
      ]
     },
     "metadata": {},
     "output_type": "display_data"
    }
   ],
   "source": [
    "import matplotlib.pyplot as plt\n",
    "x=[10,20,30]\n",
    "y=[10,20,30]\n",
    "plt.plot(x,y)"
   ]
  },
  {
   "cell_type": "code",
   "execution_count": 17,
   "id": "3abb771a",
   "metadata": {},
   "outputs": [
    {
     "data": {
      "text/plain": [
       "Text(0, 0.5, 'y-axis')"
      ]
     },
     "execution_count": 17,
     "metadata": {},
     "output_type": "execute_result"
    },
    {
     "data": {
      "image/png": "[encoded data removed]",
      "text/plain": [
       "<Figure size 640x480 with 1 Axes>"
      ]
     },
     "metadata": {},
     "output_type": "display_data"
    }
   ],
   "source": [
    "import matplotlib.pyplot as plt\n",
    "x=[10,20,30]\n",
    "y=[10,20,30]\n",
    "f1={'family':'arial','size':20,'color':'r'}\n",
    "plt.title(\"Line\",fontdict=f1)\n",
    "plt.plot(x,y,marker=\"s\",mec=\"r\",mfc=\"g\",lw=15,ls=\"dashdot\")\n",
    "plt.xlabel(\"x-axis\",fontdict=f1)\n",
    "plt.ylabel(\"y-axis\",fontdict=f1)"
   ]
  },
  {
   "cell_type": "code",
   "execution_count": 28,
   "id": "ef548ad6",
   "metadata": {},
   "outputs": [
    {
     "data": {
      "text/plain": [
       "<AxesSubplot:>"
      ]
     },
     "execution_count": 28,
     "metadata": {},
     "output_type": "execute_result"
    },
    {
     "data": {
      "image/png": "[encoded data removed]",
      "text/plain": [
       "<Figure size 640x480 with 1 Axes>"
      ]
     },
     "metadata": {},
     "output_type": "display_data"
    }
   ],
   "source": [
    "import matplotlib.pyplot as plt\n",
    "x=[10,50,30]\n",
    "y=[10,20,30]\n",
    "f1={'family':'arial','size':20,'color':'r'}\n",
    "plt.title(\"Line\",fontdict=f1)\n",
    "plt.plot(x,y,marker=\"o\",mec=\"r\",mfc=\"g\",lw=1,ls=\"solid\")\n",
    "plt.xlabel(\"x-axis\",fontdict=f1)\n",
    "plt.ylabel(\"y-axis\",fontdict=f1)\n",
    "plt.grid(axis=\"both\",color=\"r\",ls=\"dotted\")\n",
    "plt.subplot,1)"
   ]
  },
  {
   "cell_type": "code",
   "execution_count": 33,
   "id": "dae4a9bd",
   "metadata": {},
   "outputs": [
    {
     "data": {
      "text/plain": [
       "[<matplotlib.lines.Line2D at 0x2743993fd30>]"
      ]
     },
     "execution_count": 33,
     "metadata": {},
     "output_type": "execute_result"
    },
    {
     "data": {
      "image/png": "[encoded data removed]",
      "text/plain": [
       "<Figure size 640x480 with 2 Axes>"
      ]
     },
     "metadata": {},
     "output_type": "display_data"
    }
   ],
   "source": [
    "x=[10,20,30,40]\n",
    "y=[20,30,42,99]\n",
    "plt.subplot(1,2,1)\n",
    "plt.plot(x,y)\n",
    "plt.subplot(1,2,2)\n",
    "plt.plot(x,y)\n"
   ]
  },
  {
   "cell_type": "code",
   "execution_count": 41,
   "id": "1e9a2f1f",
   "metadata": {},
   "outputs": [
    {
     "data": {
      "image/png": "[encoded data removed]",
      "text/plain": [
       "<Figure size 640x480 with 1 Axes>"
      ]
     },
     "metadata": {},
     "output_type": "display_data"
    }
   ],
   "source": [
    "import matplotlib.pyplot as plt\n",
    "import numpy as np\n",
    "x=np.arange(1,5,1)\n",
    "y=x**2\n",
    "y1=x**3\n",
    "plt.plot(x,y,x,y1)\n",
    "plt.legend([\"SQUARES\",\"CUBE\"])\n",
    "plt.show()"
   ]
  },
  {
   "cell_type": "code",
   "execution_count": 62,
   "id": "7acdac81",
   "metadata": {},
   "outputs": [
    {
     "data": {
      "image/png": "[encoded data removed]",
      "text/plain": [
       "<Figure size 640x480 with 1 Axes>"
      ]
     },
     "metadata": {},
     "output_type": "display_data"
    }
   ],
   "source": [
    "import matplotlib.pyplot as plt\n",
    "import numpy as np\n",
    "x=np.arange(1,5,1)\n",
    "y=x**2\n",
    "y1=x**3\n",
    "plt.plot(x,y,label=\"SQUARES\")\n",
    "plt.plot(x,y1,label=\"CUBES\",)\n",
    "plt.legend(loc=0,framealpha=1,facecolor=\"yellow\",edgecolor=\"black\",fancybox=True,shadow=True,fontsize=10)\n",
    "plt.show()"
   ]
  },
  {
   "cell_type": "code",
   "execution_count": 75,
   "id": "26163b4c",
   "metadata": {},
   "outputs": [
    {
     "data": {
      "image/png": "[encoded data removed]",
      "text/plain": [
       "<Figure size 640x480 with 1 Axes>"
      ]
     },
     "metadata": {},
     "output_type": "display_data"
    },
    {
     "ename": "ValueError",
     "evalue": "x and y must have same first dimension, but have shapes (4,) and (11,)",
     "output_type": "error",
     "traceback": [
      "\u001b[1;31m---------------------------------------------------------------------------\u001b[0m",
      "\u001b[1;31mValueError\u001b[0m                                Traceback (most recent call last)",
      "\u001b[1;32m~\\AppData\\Local\\Temp\\ipykernel_9384\\1568836351.py\u001b[0m in \u001b[0;36m<module>\u001b[1;34m\u001b[0m\n\u001b[0;32m     10\u001b[0m \u001b[0mplt\u001b[0m\u001b[1;33m.\u001b[0m\u001b[0mshow\u001b[0m\u001b[1;33m(\u001b[0m\u001b[1;33m)\u001b[0m\u001b[1;33m\u001b[0m\u001b[1;33m\u001b[0m\u001b[0m\n\u001b[0;32m     11\u001b[0m \u001b[0mplt\u001b[0m\u001b[1;33m.\u001b[0m\u001b[0mscatter\u001b[0m\u001b[1;33m(\u001b[0m\u001b[0mx\u001b[0m\u001b[1;33m,\u001b[0m\u001b[0my1\u001b[0m\u001b[1;33m)\u001b[0m\u001b[1;33m\u001b[0m\u001b[1;33m\u001b[0m\u001b[0m\n\u001b[1;32m---> 12\u001b[1;33m \u001b[0mplt\u001b[0m\u001b[1;33m.\u001b[0m\u001b[0mplot\u001b[0m\u001b[1;33m(\u001b[0m\u001b[0my1\u001b[0m\u001b[1;33m,\u001b[0m\u001b[0my2\u001b[0m\u001b[1;33m)\u001b[0m\u001b[1;33m\u001b[0m\u001b[1;33m\u001b[0m\u001b[0m\n\u001b[0m\u001b[0;32m     13\u001b[0m \u001b[0mplt\u001b[0m\u001b[1;33m.\u001b[0m\u001b[0mshow\u001b[0m\u001b[1;33m(\u001b[0m\u001b[1;33m)\u001b[0m\u001b[1;33m\u001b[0m\u001b[1;33m\u001b[0m\u001b[0m\n",
      "\u001b[1;32m~\\Anaconda3\\lib\\site-packages\\matplotlib\\pyplot.py\u001b[0m in \u001b[0;36mplot\u001b[1;34m(scalex, scaley, data, *args, **kwargs)\u001b[0m\n\u001b[0;32m   2767\u001b[0m \u001b[1;33m@\u001b[0m\u001b[0m_copy_docstring_and_deprecators\u001b[0m\u001b[1;33m(\u001b[0m\u001b[0mAxes\u001b[0m\u001b[1;33m.\u001b[0m\u001b[0mplot\u001b[0m\u001b[1;33m)\u001b[0m\u001b[1;33m\u001b[0m\u001b[1;33m\u001b[0m\u001b[0m\n\u001b[0;32m   2768\u001b[0m \u001b[1;32mdef\u001b[0m \u001b[0mplot\u001b[0m\u001b[1;33m(\u001b[0m\u001b[1;33m*\u001b[0m\u001b[0margs\u001b[0m\u001b[1;33m,\u001b[0m \u001b[0mscalex\u001b[0m\u001b[1;33m=\u001b[0m\u001b[1;32mTrue\u001b[0m\u001b[1;33m,\u001b[0m \u001b[0mscaley\u001b[0m\u001b[1;33m=\u001b[0m\u001b[1;32mTrue\u001b[0m\u001b[1;33m,\u001b[0m \u001b[0mdata\u001b[0m\u001b[1;33m=\u001b[0m\u001b[1;32mNone\u001b[0m\u001b[1;33m,\u001b[0m \u001b[1;33m**\u001b[0m\u001b[0mkwargs\u001b[0m\u001b[1;33m)\u001b[0m\u001b[1;33m:\u001b[0m\u001b[1;33m\u001b[0m\u001b[1;33m\u001b[0m\u001b[0m\n\u001b[1;32m-> 2769\u001b[1;33m     return gca().plot(\n\u001b[0m\u001b[0;32m   2770\u001b[0m         \u001b[1;33m*\u001b[0m\u001b[0margs\u001b[0m\u001b[1;33m,\u001b[0m \u001b[0mscalex\u001b[0m\u001b[1;33m=\u001b[0m\u001b[0mscalex\u001b[0m\u001b[1;33m,\u001b[0m \u001b[0mscaley\u001b[0m\u001b[1;33m=\u001b[0m\u001b[0mscaley\u001b[0m\u001b[1;33m,\u001b[0m\u001b[1;33m\u001b[0m\u001b[1;33m\u001b[0m\u001b[0m\n\u001b[0;32m   2771\u001b[0m         **({\"data\": data} if data is not None else {}), **kwargs)\n",
      "\u001b[1;32m~\\Anaconda3\\lib\\site-packages\\matplotlib\\axes\\_axes.py\u001b[0m in \u001b[0;36mplot\u001b[1;34m(self, scalex, scaley, data, *args, **kwargs)\u001b[0m\n\u001b[0;32m   1630\u001b[0m         \"\"\"\n\u001b[0;32m   1631\u001b[0m         \u001b[0mkwargs\u001b[0m \u001b[1;33m=\u001b[0m \u001b[0mcbook\u001b[0m\u001b[1;33m.\u001b[0m\u001b[0mnormalize_kwargs\u001b[0m\u001b[1;33m(\u001b[0m\u001b[0mkwargs\u001b[0m\u001b[1;33m,\u001b[0m \u001b[0mmlines\u001b[0m\u001b[1;33m.\u001b[0m\u001b[0mLine2D\u001b[0m\u001b[1;33m)\u001b[0m\u001b[1;33m\u001b[0m\u001b[1;33m\u001b[0m\u001b[0m\n\u001b[1;32m-> 1632\u001b[1;33m         \u001b[0mlines\u001b[0m \u001b[1;33m=\u001b[0m \u001b[1;33m[\u001b[0m\u001b[1;33m*\u001b[0m\u001b[0mself\u001b[0m\u001b[1;33m.\u001b[0m\u001b[0m_get_lines\u001b[0m\u001b[1;33m(\u001b[0m\u001b[1;33m*\u001b[0m\u001b[0margs\u001b[0m\u001b[1;33m,\u001b[0m \u001b[0mdata\u001b[0m\u001b[1;33m=\u001b[0m\u001b[0mdata\u001b[0m\u001b[1;33m,\u001b[0m \u001b[1;33m**\u001b[0m\u001b[0mkwargs\u001b[0m\u001b[1;33m)\u001b[0m\u001b[1;33m]\u001b[0m\u001b[1;33m\u001b[0m\u001b[1;33m\u001b[0m\u001b[0m\n\u001b[0m\u001b[0;32m   1633\u001b[0m         \u001b[1;32mfor\u001b[0m \u001b[0mline\u001b[0m \u001b[1;32min\u001b[0m \u001b[0mlines\u001b[0m\u001b[1;33m:\u001b[0m\u001b[1;33m\u001b[0m\u001b[1;33m\u001b[0m\u001b[0m\n\u001b[0;32m   1634\u001b[0m             \u001b[0mself\u001b[0m\u001b[1;33m.\u001b[0m\u001b[0madd_line\u001b[0m\u001b[1;33m(\u001b[0m\u001b[0mline\u001b[0m\u001b[1;33m)\u001b[0m\u001b[1;33m\u001b[0m\u001b[1;33m\u001b[0m\u001b[0m\n",
      "\u001b[1;32m~\\Anaconda3\\lib\\site-packages\\matplotlib\\axes\\_base.py\u001b[0m in \u001b[0;36m__call__\u001b[1;34m(self, data, *args, **kwargs)\u001b[0m\n\u001b[0;32m    310\u001b[0m                 \u001b[0mthis\u001b[0m \u001b[1;33m+=\u001b[0m \u001b[0margs\u001b[0m\u001b[1;33m[\u001b[0m\u001b[1;36m0\u001b[0m\u001b[1;33m]\u001b[0m\u001b[1;33m,\u001b[0m\u001b[1;33m\u001b[0m\u001b[1;33m\u001b[0m\u001b[0m\n\u001b[0;32m    311\u001b[0m                 \u001b[0margs\u001b[0m \u001b[1;33m=\u001b[0m \u001b[0margs\u001b[0m\u001b[1;33m[\u001b[0m\u001b[1;36m1\u001b[0m\u001b[1;33m:\u001b[0m\u001b[1;33m]\u001b[0m\u001b[1;33m\u001b[0m\u001b[1;33m\u001b[0m\u001b[0m\n\u001b[1;32m--> 312\u001b[1;33m             \u001b[1;32myield\u001b[0m \u001b[1;32mfrom\u001b[0m \u001b[0mself\u001b[0m\u001b[1;33m.\u001b[0m\u001b[0m_plot_args\u001b[0m\u001b[1;33m(\u001b[0m\u001b[0mthis\u001b[0m\u001b[1;33m,\u001b[0m \u001b[0mkwargs\u001b[0m\u001b[1;33m)\u001b[0m\u001b[1;33m\u001b[0m\u001b[1;33m\u001b[0m\u001b[0m\n\u001b[0m\u001b[0;32m    313\u001b[0m \u001b[1;33m\u001b[0m\u001b[0m\n\u001b[0;32m    314\u001b[0m     \u001b[1;32mdef\u001b[0m \u001b[0mget_next_color\u001b[0m\u001b[1;33m(\u001b[0m\u001b[0mself\u001b[0m\u001b[1;33m)\u001b[0m\u001b[1;33m:\u001b[0m\u001b[1;33m\u001b[0m\u001b[1;33m\u001b[0m\u001b[0m\n",
      "\u001b[1;32m~\\Anaconda3\\lib\\site-packages\\matplotlib\\axes\\_base.py\u001b[0m in \u001b[0;36m_plot_args\u001b[1;34m(self, tup, kwargs, return_kwargs)\u001b[0m\n\u001b[0;32m    496\u001b[0m \u001b[1;33m\u001b[0m\u001b[0m\n\u001b[0;32m    497\u001b[0m         \u001b[1;32mif\u001b[0m \u001b[0mx\u001b[0m\u001b[1;33m.\u001b[0m\u001b[0mshape\u001b[0m\u001b[1;33m[\u001b[0m\u001b[1;36m0\u001b[0m\u001b[1;33m]\u001b[0m \u001b[1;33m!=\u001b[0m \u001b[0my\u001b[0m\u001b[1;33m.\u001b[0m\u001b[0mshape\u001b[0m\u001b[1;33m[\u001b[0m\u001b[1;36m0\u001b[0m\u001b[1;33m]\u001b[0m\u001b[1;33m:\u001b[0m\u001b[1;33m\u001b[0m\u001b[1;33m\u001b[0m\u001b[0m\n\u001b[1;32m--> 498\u001b[1;33m             raise ValueError(f\"x and y must have same first dimension, but \"\n\u001b[0m\u001b[0;32m    499\u001b[0m                              f\"have shapes {x.shape} and {y.shape}\")\n\u001b[0;32m    500\u001b[0m         \u001b[1;32mif\u001b[0m \u001b[0mx\u001b[0m\u001b[1;33m.\u001b[0m\u001b[0mndim\u001b[0m \u001b[1;33m>\u001b[0m \u001b[1;36m2\u001b[0m \u001b[1;32mor\u001b[0m \u001b[0my\u001b[0m\u001b[1;33m.\u001b[0m\u001b[0mndim\u001b[0m \u001b[1;33m>\u001b[0m \u001b[1;36m2\u001b[0m\u001b[1;33m:\u001b[0m\u001b[1;33m\u001b[0m\u001b[1;33m\u001b[0m\u001b[0m\n",
      "\u001b[1;31mValueError\u001b[0m: x and y must have same first dimension, but have shapes (4,) and (11,)"
     ]
    },
    {
     "data": {
      "image/png": "[encoded data removed]",
      "text/plain": [
       "<Figure size 640x480 with 1 Axes>"
      ]
     },
     "metadata": {},
     "output_type": "display_data"
    }
   ],
   "source": [
    "import matplotlib.pyplot as plt\n",
    "import numpy as np\n",
    "import random\n",
    "x=np.arange(1,5,1)\n",
    "y2=[1,2,3,4,5,5,6,7,7,7,7]\n",
    "random.shuffle(y2)\n",
    "y=x**2\n",
    "y1=x**3\n",
    "plt.scatter(x,y,color=\"00\",marker=\"s\",s=15,linewidth=10,alpha=1)\n",
    "plt.show()\n",
    "plt.scatter(x,y1)\n",
    "plt.plot(y1,y2)\n",
    "plt.show()\n"
   ]
  },
  {
   "cell_type": "code",
   "execution_count": 83,
   "id": "96217d2c",
   "metadata": {},
   "outputs": [
    {
     "data": {
      "text/plain": [
       "<matplotlib.collections.PathCollection at 0x2743bbf42e0>"
      ]
     },
     "execution_count": 83,
     "metadata": {},
     "output_type": "execute_result"
    },
    {
     "data": {
      "image/png": "[encoded data removed]",
      "text/plain": [
       "<Figure size 640x480 with 1 Axes>"
      ]
     },
     "metadata": {},
     "output_type": "display_data"
    }
   ],
   "source": [
    "import matplotlib.pyplot as plt\n",
    "import numpy as np\n",
    "import random\n",
    "x1=[1,2,3,4,5,5,7,8,7,7,7]\n",
    "y2=[1,2,3,4,5,5,6,7,7,7,7]\n",
    "random.shuffle(y2)\n",
    "plt.scatter(x1,y2)"
   ]
  },
  {
   "cell_type": "code",
   "execution_count": 87,
   "id": "eb193d08",
   "metadata": {},
   "outputs": [
    {
     "data": {
      "text/plain": [
       "<matplotlib.collections.PathCollection at 0x2743ad43520>"
      ]
     },
     "execution_count": 87,
     "metadata": {},
     "output_type": "execute_result"
    },
    {
     "data": {
      "image/png": "[encoded data removed]",
      "text/plain": [
       "<Figure size 640x480 with 1 Axes>"
      ]
     },
     "metadata": {},
     "output_type": "display_data"
    }
   ],
   "source": [
    "x1=[1,2,3,4,5,5,7,8,7,7,7]\n",
    "y2=[1,2,3,4,5,5,6,7,7,7,7]\n",
    "colors=[\"red\",\"green\",\"black\",\"yellow\",\"orange\",\"blue\",\"pink\",\"yellow\",\"orange\",\"blue\",\"pink\"]\n",
    "sizes=[100,200,300,400,500,100,200,400,100,200,400]\n",
    "plt.scatter(x1,y2,c=colors,s=sizes)"
   ]
  },
  {
   "cell_type": "code",
   "execution_count": 97,
   "id": "460a59a6",
   "metadata": {},
   "outputs": [
    {
     "data": {
      "text/plain": [
       "<matplotlib.colorbar.Colorbar at 0x2743b5738b0>"
      ]
     },
     "execution_count": 97,
     "metadata": {},
     "output_type": "execute_result"
    },
    {
     "data": {
      "image/png": "[encoded data removed]",
      "text/plain": [
       "<Figure size 640x480 with 2 Axes>"
      ]
     },
     "metadata": {},
     "output_type": "display_data"
    }
   ],
   "source": [
    "x1=[1,2,3,4,5,5,7,8,7,7,7]\n",
    "y2=[1,2,3,4,5,5,6,7,7,7,7]\n",
    "colors=[100,200,300,400,500,100,200,400,100,200,400]\n",
    "sizes=[100,200,300,400,500,100,200,400,100,200,400]\n",
    "\n",
    "plt.scatter(x1,y2,c=colors,s=sizes,cmap=\"rainbow\")\n",
    "plt.colorbar()"
   ]
  },
  {
   "cell_type": "code",
   "execution_count": 100,
   "id": "c97054f7",
   "metadata": {},
   "outputs": [
    {
     "data": {
      "text/plain": [
       "<BarContainer object of 11 artists>"
      ]
     },
     "execution_count": 100,
     "metadata": {},
     "output_type": "execute_result"
    },
    {
     "data": {
      "image/png": "[encoded data removed]",
      "text/plain": [
       "<Figure size 640x480 with 1 Axes>"
      ]
     },
     "metadata": {},
     "output_type": "display_data"
    }
   ],
   "source": [
    "x1=[1,2,3,4,5,5,7,8,7,7,7]\n",
    "y2=[1,2,3,4,5,5,6,7,7,7,7]\n",
    "plt.bar(x1,y2)"
   ]
  },
  {
   "cell_type": "code",
   "execution_count": 105,
   "id": "b38e02bf",
   "metadata": {},
   "outputs": [
    {
     "data": {
      "text/plain": [
       "<BarContainer object of 11 artists>"
      ]
     },
     "execution_count": 105,
     "metadata": {},
     "output_type": "execute_result"
    },
    {
     "data": {
      "image/png": "[encoded data removed]",
      "text/plain": [
       "<Figure size 640x480 with 1 Axes>"
      ]
     },
     "metadata": {},
     "output_type": "display_data"
    }
   ],
   "source": [
    "x1=[1,2,3,4,5,5,7,8,7,7,7]\n",
    "y2=[1,2,3,4,5,5,6,7,7,7,7]\n",
    "colors=[\"red\",\"green\",\"black\",\"yellow\",\"orange\",\"blue\",\"pink\",\"yellow\",\"orange\",\"blue\",\"pink\"]\n",
    "plt.bar(x1,y2,color=colors,width=0.5)"
   ]
  },
  {
   "cell_type": "code",
   "execution_count": 128,
   "id": "3ddf6b29",
   "metadata": {},
   "outputs": [],
   "source": [
    "import pandas as pd\n",
    "df=pd.read_csv(r\"C:\\Users\\satish\\Documents\\Downloads\\housing1.csv\")"
   ]
  },
  {
   "cell_type": "code",
   "execution_count": 129,
   "id": "f46abb96",
   "metadata": {},
   "outputs": [
    {
     "data": {
      "text/html": [
       "<div>\n",
       "<style scoped>\n",
       "    .dataframe tbody tr th:only-of-type {\n",
       "        vertical-align: middle;\n",
       "    }\n",
       "\n",
       "    .dataframe tbody tr th {\n",
       "        vertical-align: top;\n",
       "    }\n",
       "\n",
       "    .dataframe thead th {\n",
       "        text-align: right;\n",
       "    }\n",
       "</style>\n",
       "<table border=\"1\" class=\"dataframe\">\n",
       "  <thead>\n",
       "    <tr style=\"text-align: right;\">\n",
       "      <th></th>\n",
       "      <th>longitude</th>\n",
       "      <th>latitude</th>\n",
       "      <th>housing_median_age</th>\n",
       "      <th>total_rooms</th>\n",
       "      <th>total_bedrooms</th>\n",
       "      <th>population</th>\n",
       "      <th>households</th>\n",
       "      <th>median_income</th>\n",
       "      <th>median_house_value</th>\n",
       "      <th>ocean_proximity</th>\n",
       "    </tr>\n",
       "  </thead>\n",
       "  <tbody>\n",
       "    <tr>\n",
       "      <th>0</th>\n",
       "      <td>-122.23</td>\n",
       "      <td>37.88</td>\n",
       "      <td>41</td>\n",
       "      <td>880</td>\n",
       "      <td>129</td>\n",
       "      <td>322</td>\n",
       "      <td>126</td>\n",
       "      <td>8.3252</td>\n",
       "      <td>452600</td>\n",
       "      <td>NEAR BAY</td>\n",
       "    </tr>\n",
       "    <tr>\n",
       "      <th>1</th>\n",
       "      <td>-122.22</td>\n",
       "      <td>37.86</td>\n",
       "      <td>21</td>\n",
       "      <td>7099</td>\n",
       "      <td>1106</td>\n",
       "      <td>2401</td>\n",
       "      <td>1138</td>\n",
       "      <td>8.3014</td>\n",
       "      <td>358500</td>\n",
       "      <td>NEAR BAY</td>\n",
       "    </tr>\n",
       "    <tr>\n",
       "      <th>2</th>\n",
       "      <td>-122.24</td>\n",
       "      <td>37.85</td>\n",
       "      <td>52</td>\n",
       "      <td>1467</td>\n",
       "      <td>190</td>\n",
       "      <td>496</td>\n",
       "      <td>177</td>\n",
       "      <td>7.2574</td>\n",
       "      <td>352100</td>\n",
       "      <td>NEAR BAY</td>\n",
       "    </tr>\n",
       "    <tr>\n",
       "      <th>3</th>\n",
       "      <td>-122.25</td>\n",
       "      <td>37.85</td>\n",
       "      <td>52</td>\n",
       "      <td>1274</td>\n",
       "      <td>235</td>\n",
       "      <td>558</td>\n",
       "      <td>219</td>\n",
       "      <td>5.6431</td>\n",
       "      <td>341300</td>\n",
       "      <td>NEAR BAY</td>\n",
       "    </tr>\n",
       "    <tr>\n",
       "      <th>4</th>\n",
       "      <td>-122.25</td>\n",
       "      <td>37.85</td>\n",
       "      <td>52</td>\n",
       "      <td>1627</td>\n",
       "      <td>280</td>\n",
       "      <td>565</td>\n",
       "      <td>259</td>\n",
       "      <td>3.8462</td>\n",
       "      <td>342200</td>\n",
       "      <td>NEAR BAY</td>\n",
       "    </tr>\n",
       "  </tbody>\n",
       "</table>\n",
       "</div>"
      ],
      "text/plain": [
       "   longitude  latitude  housing_median_age  total_rooms  total_bedrooms  \\\n",
       "0    -122.23     37.88                  41          880             129   \n",
       "1    -122.22     37.86                  21         7099            1106   \n",
       "2    -122.24     37.85                  52         1467             190   \n",
       "3    -122.25     37.85                  52         1274             235   \n",
       "4    -122.25     37.85                  52         1627             280   \n",
       "\n",
       "   population  households  median_income  median_house_value ocean_proximity  \n",
       "0         322         126         8.3252              452600        NEAR BAY  \n",
       "1        2401        1138         8.3014              358500        NEAR BAY  \n",
       "2         496         177         7.2574              352100        NEAR BAY  \n",
       "3         558         219         5.6431              341300        NEAR BAY  \n",
       "4         565         259         3.8462              342200        NEAR BAY  "
      ]
     },
     "execution_count": 129,
     "metadata": {},
     "output_type": "execute_result"
    }
   ],
   "source": [
    "df.head()"
   ]
  },
  {
   "cell_type": "code",
   "execution_count": 130,
   "id": "56437ac1",
   "metadata": {},
   "outputs": [
    {
     "data": {
      "text/plain": [
       "<matplotlib.collections.PathCollection at 0x274448a2e50>"
      ]
     },
     "execution_count": 130,
     "metadata": {},
     "output_type": "execute_result"
    },
    {
     "data": {
      "image/png": "[encoded data removed]",
      "text/plain": [
       "<Figure size 640x480 with 1 Axes>"
      ]
     },
     "metadata": {},
     "output_type": "display_data"
    }
   ],
   "source": [
    "x=df['housing_median_age']\n",
    "y=df['total_rooms']\n",
    "plt.scatter(x,y)\n",
    "plt.bar(x,y)\n"
   ]
  },
  {
   "cell_type": "code",
   "execution_count": 137,
   "id": "755aec19",
   "metadata": {},
   "outputs": [
    {
     "data": {
      "text/plain": [
       "Text(0, 0.5, 'y=axis')"
      ]
     },
     "execution_count": 137,
     "metadata": {},
     "output_type": "execute_result"
    },
    {
     "data": {
      "image/png": "[encoded data removed]",
      "text/plain": [
       "<Figure size 640x480 with 1 Axes>"
      ]
     },
     "metadata": {},
     "output_type": "display_data"
    }
   ],
   "source": [
    "x=df['housing_median_age']\n",
    "y=df['total_rooms']\n",
    "plt.bar(x,y,color=\"red\")\n",
    "plt.xlabel(\"x=axis\",color=\"blue\",size=15)\n",
    "plt.ylabel(\"y=axis\",color=\"blue\",size=15)"
   ]
  },
  {
   "cell_type": "code",
   "execution_count": 210,
   "id": "6f2aa0f3",
   "metadata": {},
   "outputs": [
    {
     "data": {
      "image/png": "[encoded data removed]",
      "text/plain": [
       "<Figure size 640x480 with 1 Axes>"
      ]
     },
     "metadata": {},
     "output_type": "display_data"
    }
   ],
   "source": [
    "years=['2017','2018','2019','2020']\n",
    "cse=[73,88,99,33]\n",
    "it=[88,33,54,33]\n",
    "ece=[77,67,54,68]\n",
    "eee=[53,45,63,66]\n",
    "w=0.2\n",
    "cse_bar=np.arange(len(years))\n",
    "plt.bar(cse_bar,cse,width=w,label=\"cse\")\n",
    "it_bar=np.arange(len(years))\n",
    "plt.bar(it_bar,it,width=w,label=\"IT\")\n",
    "plt.title(\"PLACEMENT COMPARISION\")\n",
    "plt.show()\n"
   ]
  },
  {
   "cell_type": "code",
   "execution_count": 220,
   "id": "6f45b212",
   "metadata": {},
   "outputs": [
    {
     "data": {
      "image/png": "[encoded data removed]",
      "text/plain": [
       "<Figure size 640x480 with 1 Axes>"
      ]
     },
     "metadata": {},
     "output_type": "display_data"
    }
   ],
   "source": [
    "from matplotlib import pyplot as plt\n",
    "name=[\"satish\",\"kumar\",\"ramu\",\"vijay\"]\n",
    "it=[88,33,54,33]\n",
    "plt.pie(it,labels=name)\n",
    "plt.show()"
   ]
  },
  {
   "cell_type": "code",
   "execution_count": 227,
   "id": "adf503ee",
   "metadata": {},
   "outputs": [
    {
     "data": {
      "image/png": "[encoded data removed]",
      "text/plain": [
       "<Figure size 640x480 with 1 Axes>"
      ]
     },
     "metadata": {},
     "output_type": "display_data"
    }
   ],
   "source": [
    "marks=[60,20,30,40,40,80]\n",
    "grade_intervals=[0,35,70,100]\n",
    "plt.title(\"STUDENT GRADE\")\n",
    "plt.hist(marks,grade_intervals,histtype=\"bar\",rwidth=0.7,facecolor=\"k\")\n",
    "plt.xticks([0,35,70,100])\n",
    "plt.xlabel(\"Percentage\")\n",
    "plt.ylabel(\"No of Students\")\n",
    "plt.show()"
   ]
  },
  {
   "cell_type": "code",
   "execution_count": 203,
   "id": "f3af78fb",
   "metadata": {},
   "outputs": [
    {
     "name": "stdout",
     "output_type": "stream",
     "text": [
      "In this video, we will be learning how to create and extract zip archives. We will start by using the zipfile module, and then we will see how to do this using the shutil module. We will learn how to do this with single files and directories, as well as learning how to use gzip as well. Let’s get started…\n"
     ]
    }
   ],
   "source": [
    "import requests\n",
    "from bs4 import BeautifulSoup\n",
    "req=requests.get(\"https://coreyms.com/\").text\n",
    "soup=BeautifulSoup(req,'lxml')\n",
    "#print(soup.prettify())\n",
    "article=soup.find('div')\n",
    "#print(article.prettify())\n",
    "#headline=article.h1.a.text\n",
    "#print(headline)\n",
    "summary=article.find(\"div\",class_='entry-content').p.text\n",
    "print(summary)\n",
    "\n"
   ]
  },
  {
   "cell_type": "code",
   "execution_count": 199,
   "id": "fc18f0bc",
   "metadata": {},
   "outputs": [
    {
     "name": "stdout",
     "output_type": "stream",
     "text": [
      "<div class=\"container\">\n",
      " <div class=\"ad-unit text-center center-block\" id=\"leaderboard\" style=\"min-height:90px;margin-bottom:10px;\">\n",
      " </div>\n",
      " <div class=\"ad-unit\" id=\"countdown\" style=\"margin:-10px 15px 0px;float:right;position:absolute;\">\n",
      " </div>\n",
      " <div class=\"toi-branding toi-referral\">\n",
      " </div>\n",
      " <nav class=\"cb-nav cb-col cb-col-100\" id=\"cb-main-menu\" ng-controller=\"CBPlusAuth\">\n",
      "  <a class=\"cb-hm-text\" href=\"/\" target=\"_self\">\n",
      "   <img alt=\"Cricbuzz Logo\" height=\"40\" id=\"cb-logo-main-menu\" itemprop=\"image\" src=\"/images/cb_logo.svg\" style=\"bottom: 4px; position: relative; vertical-align:middle;\" title=\"Cricbuzz Logo\" width=\"101\"/>\n",
      "  </a>\n",
      "  <a class=\"cb-hm-mnu-itm\" href=\"/cricket-match/live-scores\" target=\"_self\" title=\"Live Cricket Score\">\n",
      "   Live Scores\n",
      "  </a>\n",
      "  <a class=\"cb-hm-mnu-itm\" href=\"/cricket-schedule/upcoming-series/international\" target=\"_self\" title=\"Cricket Schedule\">\n",
      "   Schedule\n",
      "  </a>\n",
      "  <a class=\"cb-hm-mnu-itm\" href=\"/cricket-scorecard-archives\" target=\"_self\" title=\"Cricket Scorecard Archives\">\n",
      "   Archives\n",
      "  </a>\n",
      "  <div class=\"cb-subnav cb-hm-mnu-itm feature-button cursor-pointer\" id=\"newsDropDown\" title=\"Cricket News\">\n",
      "   <a class=\"text-white\" href=\"/cricket-news\" target=\"_self\">\n",
      "    News\n",
      "   </a>\n",
      "   <span class=\"cb-caret-down\">\n",
      "   </span>\n",
      "   <nav class=\"cb-sub-navigation\">\n",
      "    <a class=\"cb-subnav-item\" href=\"/cricket-news\" target=\"_self\" title=\"Latest Cricket News\">\n",
      "     All Stories\n",
      "    </a>\n",
      "    <a class=\"cb-subnav-item\" href=\"/cricket-news/editorial/cb-plus\" target=\"_self\" title=\"Cricbuzz Plus Premium Articles\">\n",
      "     Cricbuzz Plus\n",
      "    </a>\n",
      "    <a class=\"cb-subnav-item\" href=\"/cricket-news/latest-news\" target=\"_self\" title=\"Latest Cricket News\">\n",
      "     Latest News\n",
      "    </a>\n",
      "    <a class=\"cb-subnav-item\" href=\"/cricket-news/info/\" target=\"_self\" title=\"Latest Cricket Topics\">\n",
      "     Topics\n",
      "    </a>\n",
      "    <a class=\"cb-subnav-item\" href=\"/cricket-news/editorial/spotlight\" target=\"_self\" title=\"Cricket Editorials and Specials\">\n",
      "     Spotlight\n",
      "    </a>\n",
      "    <a class=\"cb-subnav-item\" href=\"/cricket-news/editorial/editorial-list\" target=\"_self\" title=\"Latest Cricket Opinions &amp; Editorials\">\n",
      "     Opinions\n",
      "    </a>\n",
      "    <a class=\"cb-subnav-item\" href=\"/cricket-news/editorial/specials\" target=\"_self\" title=\"Latest Cricket Specials\">\n",
      "     Specials\n",
      "    </a>\n",
      "    <a class=\"cb-subnav-item\" href=\"/cricket-news/editorial/stats-analysis\" target=\"_self\" title=\"Latest Cricket Stats &amp; Analysis\">\n",
      "     Stats &amp; Analysis\n",
      "    </a>\n",
      "    <a class=\"cb-subnav-item\" href=\"/cricket-news/editorial/interviews\" target=\"_self\" title=\"Latest Cricket Player Interviews\">\n",
      "     Interviews\n",
      "    </a>\n",
      "    <a class=\"cb-subnav-item\" href=\"/cricket-news/editorial/live-blogs\" target=\"_self\" title=\"Latest Cricket Match live blogs\">\n",
      "     Live Blogs\n",
      "    </a>\n",
      "    <a class=\"cb-subnav-item\" href=\"/cricket-news/experts/harsha-bhogle/170\" target=\"_self\" title=\"Articles and Videos by Harsha Bhogle\">\n",
      "     Harsha Bhogle\n",
      "    </a>\n",
      "   </nav>\n",
      "  </div>\n",
      "  <div class=\"cb-subnav cb-hm-mnu-itm feature-button cursor-pointer\" id=\"seriesDropDown\" title=\"Cricket Series\">\n",
      "   <a class=\"text-white\" href=\"/cricket-schedule/series\" target=\"_self\">\n",
      "    Series\n",
      "   </a>\n",
      "   <span class=\"cb-caret-down\">\n",
      "   </span>\n",
      "   <nav class=\"cb-sub-navigation\">\n",
      "    <a class=\"cb-subnav-item\" href=\"/cricket-series/5938/womens-premier-league-2023\" target=\"_self\" title=\"Womens Premier League 2023\">\n",
      "     Womens Premier League 2023\n",
      "    </a>\n",
      "    <a class=\"cb-subnav-item\" href=\"/cricket-series/5204/australia-tour-of-india-2023\" target=\"_self\" title=\"Australia tour of India, 2023\">\n",
      "     Australia tour of India, 2023\n",
      "    </a>\n",
      "    <a class=\"cb-subnav-item\" href=\"/cricket-series/4415/sri-lanka-tour-new-zealand-2023\" target=\"_self\" title=\"Sri Lanka tour New Zealand, 2023\">\n",
      "     Sri Lanka tour New Zealand, 2023\n",
      "    </a>\n",
      "    <a class=\"cb-subnav-item\" href=\"/cricket-series/4854/west-indies-tour-of-south-africa-2023\" target=\"_self\" title=\"West Indies tour of South Africa, 2023\">\n",
      "     West Indies tour of South Africa, 2023\n",
      "    </a>\n",
      "    <a class=\"cb-subnav-item\" href=\"/cricket-series/5276/england-tour-of-bangladesh-2023\" target=\"_self\" title=\"England tour of Bangladesh, 2023\">\n",
      "     England tour of Bangladesh, 2023\n",
      "    </a>\n",
      "    <a class=\"cb-subnav-item\" href=\"/cricket-series/5441/pakistan-super-league-2023\" target=\"_self\" title=\"Pakistan Super League, 2023\">\n",
      "     Pakistan Super League, 2023\n",
      "    </a>\n",
      "    <a class=\"cb-subnav-item\" href=\"/cricket-series/5945/indian-premier-league-2023\" target=\"_self\" title=\"Indian Premier League 2023\">\n",
      "     Indian Premier League 2023\n",
      "    </a>\n",
      "    <a class=\"cb-subnav-item\" href=\"/cricket-series/5969/legends-league-cricket-2023\" target=\"_self\" title=\"Legends League Cricket 2023\">\n",
      "     Legends League Cricket 2023\n",
      "    </a>\n",
      "    <a class=\"cb-subnav-item\" href=\"/cricket-series/2834/icc-cricket-world-cup-league-two-2019-23\" target=\"_self\" title=\"ICC Cricket World Cup League Two 2019-23\">\n",
      "     ICC Cricket World Cup League Two 2019-23\n",
      "    </a>\n",
      "    <a class=\"cb-text-link cb-subnav-item\" href=\"/cricket-schedule/series\" target=\"_self\">\n",
      "     All Series »\n",
      "    </a>\n",
      "   </nav>\n",
      "  </div>\n",
      "  <div class=\"cb-subnav cb-hm-mnu-itm feature-button cursor-pointer\" id=\"teamDropDown\" title=\"Cricket Teams\">\n",
      "   <a class=\"text-white\" href=\"/cricket-team\" target=\"_self\">\n",
      "    Teams\n",
      "   </a>\n",
      "   <span class=\"cb-caret-down\">\n",
      "   </span>\n",
      "   <nav class=\"cb-sub-navigation cb-sub-lg\">\n",
      "    <div class=\"cb-sub-lg-outer\">\n",
      "     <div class=\"cb-sub-lg-sec\">\n",
      "      <h4 class=\"cb-sub-lg-sec-head\">\n",
      "       Test Teams\n",
      "      </h4>\n",
      "      <a class=\"cb-subnav-item cb-sub-lg-sec-item\" href=\"/cricket-team/india/2\" target=\"_self\" title=\"India Cricket Team\">\n",
      "       India\n",
      "      </a>\n",
      "      <a class=\"cb-subnav-item cb-sub-lg-sec-item\" href=\"/cricket-team/afghanistan/96\" target=\"_self\" title=\"Afghanistan Cricket Team\">\n",
      "       Afghanistan\n",
      "      </a>\n",
      "      <a class=\"cb-subnav-item cb-sub-lg-sec-item\" href=\"/cricket-team/ireland/27\" target=\"_self\" title=\"Ireland Cricket Team\">\n",
      "       Ireland\n",
      "      </a>\n",
      "      <a class=\"cb-subnav-item cb-sub-lg-sec-item\" href=\"/cricket-team/pakistan/3\" target=\"_self\" title=\"Pakistan Cricket Team\">\n",
      "       Pakistan\n",
      "      </a>\n",
      "      <a class=\"cb-subnav-item cb-sub-lg-sec-item\" href=\"/cricket-team/australia/4\" target=\"_self\" title=\"Australia Cricket Team\">\n",
      "       Australia\n",
      "      </a>\n",
      "      <a class=\"cb-subnav-item cb-sub-lg-sec-item\" href=\"/cricket-team/sri-lanka/5\" target=\"_self\" title=\"Sri Lanka Cricket Team\">\n",
      "       Sri Lanka\n",
      "      </a>\n",
      "      <a class=\"cb-subnav-item cb-sub-lg-sec-item\" href=\"/cricket-team/bangladesh/6\" target=\"_self\" title=\"Bangladesh Cricket Team\">\n",
      "       Bangladesh\n",
      "      </a>\n",
      "      <a class=\"cb-subnav-item cb-sub-lg-sec-item\" href=\"/cricket-team/england/9\" target=\"_self\" title=\"England Cricket Team\">\n",
      "       England\n",
      "      </a>\n",
      "      <a class=\"cb-subnav-item cb-sub-lg-sec-item\" href=\"/cricket-team/west-indies/10\" target=\"_self\" title=\"West Indies Cricket Team\">\n",
      "       West Indies\n",
      "      </a>\n",
      "      <a class=\"cb-subnav-item cb-sub-lg-sec-item\" href=\"/cricket-team/south-africa/11\" target=\"_self\" title=\"South Africa Cricket Team\">\n",
      "       South Africa\n",
      "      </a>\n",
      "      <a class=\"cb-subnav-item cb-sub-lg-sec-item\" href=\"/cricket-team/zimbabwe/12\" target=\"_self\" title=\"Zimbabwe Cricket Team\">\n",
      "       Zimbabwe\n",
      "      </a>\n",
      "      <a class=\"cb-subnav-item cb-sub-lg-sec-item\" href=\"/cricket-team/new-zealand/13\" target=\"_self\" title=\"New Zealand Cricket Team\">\n",
      "       New Zealand\n",
      "      </a>\n",
      "     </div>\n",
      "     <div class=\"cb-sub-lg-sec\">\n",
      "      <h4 class=\"cb-sub-lg-sec-head\">\n",
      "       Associate\n",
      "      </h4>\n",
      "      <a class=\"cb-subnav-item cb-sub-lg-sec-item\" href=\"/cricket-team/malaysia/71\" target=\"_self\" title=\"Malaysia Cricket Team\">\n",
      "       Malaysia\n",
      "      </a>\n",
      "      <a class=\"cb-subnav-item cb-sub-lg-sec-item\" href=\"/cricket-team/nepal/72\" target=\"_self\" title=\"Nepal Cricket Team\">\n",
      "       Nepal\n",
      "      </a>\n",
      "      <a class=\"cb-subnav-item cb-sub-lg-sec-item\" href=\"/cricket-team/germany/77\" target=\"_self\" title=\"Germany Cricket Team\">\n",
      "       Germany\n",
      "      </a>\n",
      "      <a class=\"cb-subnav-item cb-sub-lg-sec-item\" href=\"/cricket-team/namibia/161\" target=\"_self\" title=\"Namibia Cricket Team\">\n",
      "       Namibia\n",
      "      </a>\n",
      "      <a class=\"cb-subnav-item cb-sub-lg-sec-item\" href=\"/cricket-team/denmark/185\" target=\"_self\" title=\"Denmark Cricket Team\">\n",
      "       Denmark\n",
      "      </a>\n",
      "      <a class=\"cb-subnav-item cb-sub-lg-sec-item\" href=\"/cricket-team/singapore/190\" target=\"_self\" title=\"Singapore Cricket Team\">\n",
      "       Singapore\n",
      "      </a>\n",
      "      <a class=\"cb-subnav-item cb-sub-lg-sec-item\" href=\"/cricket-team/papua-new-guinea/287\" target=\"_self\" title=\"Papua New Guinea Cricket Team\">\n",
      "       Papua New Guinea\n",
      "      </a>\n",
      "      <a class=\"cb-subnav-item cb-sub-lg-sec-item\" href=\"/cricket-team/kuwait/298\" target=\"_self\" title=\"Kuwait Cricket Team\">\n",
      "       Kuwait\n",
      "      </a>\n",
      "      <a class=\"cb-subnav-item cb-sub-lg-sec-item\" href=\"/cricket-team/vanuatu/300\" target=\"_self\" title=\"Vanuatu Cricket Team\">\n",
      "       Vanuatu\n",
      "      </a>\n",
      "      <a class=\"cb-subnav-item cb-sub-lg-sec-item\" href=\"/cricket-team/jersey/303\" target=\"_self\" title=\"Jersey Cricket Team\">\n",
      "       Jersey\n",
      "      </a>\n",
      "      <a class=\"cb-subnav-item cb-sub-lg-sec-item\" href=\"/cricket-team/oman/304\" target=\"_self\" title=\"Oman Cricket Team\">\n",
      "       Oman\n",
      "      </a>\n",
      "      <a class=\"cb-subnav-item cb-sub-lg-sec-item\" href=\"/cricket-team/fiji/343\" target=\"_self\" title=\"Fiji Cricket Team\">\n",
      "       Fiji\n",
      "      </a>\n",
      "     </div>\n",
      "    </div>\n",
      "    <a class=\"cb-sub-lg-more\" href=\"/cricket-team\" target=\"_self\">\n",
      "     More...\n",
      "    </a>\n",
      "   </nav>\n",
      "  </div>\n",
      "  <div class=\"cb-subnav cb-hm-mnu-itm feature-button cursor-pointer\" id=\"videosDropDown\" title=\"Cricket Videos\">\n",
      "   <a class=\"text-white\" href=\"/cricket-videos\" target=\"_self\">\n",
      "    Videos\n",
      "   </a>\n",
      "   <span class=\"cb-caret-down\">\n",
      "   </span>\n",
      "   <nav class=\"cb-sub-navigation\">\n",
      "    <a class=\"cb-subnav-item\" href=\"/cricket-videos\" target=\"_self\" title=\"All Cricket Videos\">\n",
      "     All Videos\n",
      "    </a>\n",
      "    <a class=\"cb-subnav-item\" href=\"/cricket-videos/categories\" target=\"_self\" title=\"Cricket Videos Categories\">\n",
      "     Categories\n",
      "    </a>\n",
      "    <a class=\"cb-subnav-item\" href=\"/cricket-videos/playlists\" target=\"_self\" title=\"Cricket Videos Playlists\">\n",
      "     Playlists\n",
      "    </a>\n",
      "   </nav>\n",
      "  </div>\n",
      "  <div class=\"cb-subnav cb-hm-mnu-itm feature-button cursor-pointer\" id=\"rankingDropDown\" title=\"ICC Rankings\">\n",
      "   <a class=\"text-white\" href=\"/cricket-stats/icc-rankings/men/batting\">\n",
      "    Rankings\n",
      "   </a>\n",
      "   <span class=\"cb-caret-down\">\n",
      "   </span>\n",
      "   <nav class=\"cb-sub-navigation\">\n",
      "    <a class=\"cb-subnav-item\" href=\"/cricket-stats/icc-rankings/men/batting\" target=\"_self\" title=\"ICC Rankings Men\">\n",
      "     ICC Rankings - Men\n",
      "    </a>\n",
      "    <a class=\"cb-subnav-item\" href=\"/cricket-stats/icc-rankings/women/batting\" target=\"_self\" title=\"ICC Rankings Women\">\n",
      "     ICC Rankings - Women\n",
      "    </a>\n",
      "   </nav>\n",
      "  </div>\n",
      "  <div class=\"cb-subnav cb-hm-mnu-itm feature-button cursor-pointer\">\n",
      "   More\n",
      "   <span class=\"cb-caret-down\">\n",
      "   </span>\n",
      "   <nav class=\"cb-sub-navigation\" style=\"right:0px;\">\n",
      "    <a class=\"cb-subnav-item\" href=\"/cricket-stats/points-table/test/icc-world-test-championship\" target=\"_self\" title=\"World Test Championship\">\n",
      "     World Test Championship\n",
      "    </a>\n",
      "    <a class=\"cb-subnav-item\" href=\"/cricket-stats/points-table/odi/icc-men-cricket-world-cup-super-league\" target=\"_self\" title=\"World Cup Super League\">\n",
      "     World Cup Super League\n",
      "    </a>\n",
      "    <a class=\"cb-subnav-item\" href=\"/cricket-photo-gallery\" target=\"_self\" title=\"Photo Gallery\">\n",
      "     Photos\n",
      "    </a>\n",
      "    <a class=\"cb-subnav-item\" href=\"/mobileapps\" target=\"_self\" title=\"Mobile Apps\">\n",
      "     Mobile Apps\n",
      "    </a>\n",
      "    <a class=\"cb-subnav-item\" href=\"/careers\" target=\"_self\" title=\"Careers\">\n",
      "     Careers\n",
      "    </a>\n",
      "    <a class=\"cb-subnav-item\" href=\"/info/contact\" target=\"_self\" title=\"Contact Us\">\n",
      "     Contact Us\n",
      "    </a>\n",
      "   </nav>\n",
      "  </div>\n",
      "  <a class=\"cb-plus-menu-button cb-text-gray\" href=\"/cb-plus/premium-content/home\" id=\"cricbuzz-plus-main-menu\">\n",
      "   Cricbuzz Plus\n",
      "  </a>\n",
      "  <div ng-controller=\"SearchCtrl\" ng-init=\" init(-1, 61, 76, 350, '', 'nav')\">\n",
      "   <div class=\"cb-nav-search-wrap\" id=\"main-menu_search\" ng-style=\"{width: inputFocus?'800px':'30px'}\">\n",
      "    <div class=\"cb-col-100 cb-col cb-srch-bar cb-srch-bar-nav\">\n",
      "     <form class=\"cb-search-form\" name=\"form\" ng-cloak=\"\" ng-submit=\"search_results(false, false)\">\n",
      "      <div class=\"cb-search-input-nav\">\n",
      "       <div class=\"cb-search-outer\">\n",
      "        <div class=\"cb-search-input-wrap\" ng-blur=\"loseInputFocus()\" ng-click=\"onInputFocus()\">\n",
      "         <input autocomplete=\"off\" class=\"js-cb-search-input cb-search-input-elem cb-search-input-elem-nav form-control cb-car-inp cb-srch-bg\" id=\"search_bar_menu\" maxlength=\"500\" name=\"search\" ng-blur=\"loseInputFocus()\" ng-change=\"suggest_search()\" ng-class=\"{'cb-search-input-elem-error-nav':errorText, 'cb-srch-high-zIndex':dropdownVisible, 'cb-srch-input-focus':inputFocus}\" ng-focus=\"onInputFocus()\" ng-keydown=\"onKeyPress($event)\" ng-model=\"searchText\" ng-model-options=\"{ debounce: 400 }\" placeholder=\"{{errorText?errorText:(source == 'nav' &amp;&amp; inputFocus) || source == 'search-page'?'Search for Player, Series, Team, News or Video. eg: Windies tour of India': ''}}\" type=\"text\" value=\"suggest.title\"/>\n",
      "         <span class=\"cb-ico cb-search-input-icon cb-search-input-icon-nav\">\n",
      "         </span>\n",
      "         <span class=\"cb-srch-cross-new cb-srch-cross-new-nav cb-font-14\" id=\"cb-search-menubar-clear\" ng-class=\"{'cb-srch-cross-focus': inputFocus, 'cb-srch-high-zIndex':dropdownVisible, 'disp-none':clearVisible}\" ng-click=\"reset_form('view');\" ng-show=\"searchText.length &gt; 0\">\n",
      "          ✖\n",
      "         </span>\n",
      "        </div>\n",
      "        <div class=\"cb-srch-backdrop\" ng-click=\"hideDropdown()\" ng-show=\"dropdownVisible\">\n",
      "        </div>\n",
      "        <div class=\"cb-main-srch-box-wrap\" ng-show=\"dropdownVisible &amp;&amp; searchText.length &gt;= 2 &amp;&amp; search_ftr_suggst.length &gt; 0\">\n",
      "         <ul class=\"cb-main-srch-box\" id=\"searchBox_nav\">\n",
      "          <li class=\"cb-main-srch-box-item {{selected_suggestions == $index?'highlight':''}}\" id=\"search_item_{{$index}}\" ng-class=\"{'cb-main-srch-box-item-border':suggest.hasBorder, 'cb-big': suggest.isSearchItem}\" ng-click=\"search_results()\" ng-mouseover=\"highlight_item_mouse_hover($index)\" ng-repeat=\"suggest in search_ftr_suggst track by $index\" ng-show=\"suggestions &amp;&amp; searchText.length &gt; 0 &amp;&amp; inputFocus\">\n",
      "           <a class=\"text-black cb-srch-suggest-link\" ng-if=\"!suggest.isSearchItem\">\n",
      "            <div class=\"cb-srch-suggest-img\" ng-class=\"{'cb-srch-suggest-img-teams': suggest.type == 'Teams'}\">\n",
      "             <div class=\"\" ng-if=\"suggest.imgUrl\">\n",
      "              <img class=\"cb-srch-suggest-icon-img\" ng-src=\"{{suggest.imgUrl}}\"/>\n",
      "             </div>\n",
      "             <div class=\"cb-srch-sugggest-icon {{suggest.iconClass}} cb-ico\" ng-if=\"!suggest.imgUrl\">\n",
      "             </div>\n",
      "            </div>\n",
      "            <div class=\"cb-srch-suggest-content\">\n",
      "             <p class=\"cb-srch-suggest-content-title\" ng-bind-html=\"suggest | searchfilter:oldText\">\n",
      "             </p>\n",
      "             <p class=\"cb-srch-suggest-content-subtitle cb-font-12 cb-text-gray\">\n",
      "              {{suggest.tag}}\n",
      "             </p>\n",
      "            </div>\n",
      "           </a>\n",
      "           <a class=\"text-black cb-srch-suggest-link\" href=\"javascript:void(0)\" ng-if=\"suggest.isSearchItem\">\n",
      "            <div class=\"cb-srch-suggest-img\">\n",
      "             <div class=\"cb-srch-sugggest-icon cb-srch-sugggest-icon-search cb-ico\">\n",
      "             </div>\n",
      "            </div>\n",
      "            <div class=\"cb-srch-suggest-content cb-center-text\">\n",
      "             <p class=\"cb-srch-suggest-content-title\">\n",
      "              Search for “\n",
      "              <span ng-bind=\"searchText\">\n",
      "              </span>\n",
      "              ”\n",
      "             </p>\n",
      "            </div>\n",
      "           </a>\n",
      "          </li>\n",
      "         </ul>\n",
      "        </div>\n",
      "       </div>\n",
      "      </div>\n",
      "      <div class=\"cb-search-submit-nav\" ng-class=\"{'cb-search-submit-input-focus': inputFocus, 'cb-search-submit-error': errorText}\">\n",
      "       <a class=\"text-white cb-srch-bttn\" ng-class=\"{'cb-srch-high-zIndex':dropdownVisible}\" ng-click=\"search_results(false, true)\">\n",
      "        SEARCH\n",
      "       </a>\n",
      "      </div>\n",
      "      <input name=\"anticsrf\" type=\"hidden\" value=\"bowled\"/>\n",
      "     </form>\n",
      "    </div>\n",
      "    <style>\n",
      "     .cb-srch-ico{margin: 0}\n",
      ".cb-user-itm{position:absolute; top:0; right:5px}\n",
      "    </style>\n",
      "   </div>\n",
      "  </div>\n",
      "  <div class=\"cb-user-itm cb-subnav\">\n",
      "   <a href=\"/premium-subscription/user/account-info\" id=\"cb-plus-user-icon\">\n",
      "    <span class=\"cb-plus-ico cb-user-icon\">\n",
      "    </span>\n",
      "   </a>\n",
      "   <nav class=\"cb-sub-navigation\" id=\"cb-plus-dropdown\" style=\"right:0px;\">\n",
      "    <a class=\"cb-subnav-item\" href=\"/premium-subscription/user/account-info\" target=\"_self\" title=\"My Account\">\n",
      "     My Account\n",
      "    </a>\n",
      "    <a class=\"cb-subnav-item\" ng-click=\"sign_out_user(false)\" target=\"_self\" title=\"Sign Out\">\n",
      "     Sign Out\n",
      "    </a>\n",
      "   </nav>\n",
      "  </div>\n",
      " </nav>\n",
      " <style>\n",
      "  .cb-text-link{color:#1866db;}\n",
      ".cb-plus-menu-button{padding: 8px 14px; background: #fff; border-radius: 18px; border: 0;}\n",
      ".cb-plus-menu-button:hover,.cb-plus-menu-button:focus, .cb-plus-menu-button:active{background: #fff;}\n",
      " </style>\n",
      "</div>\n"
     ]
    }
   ],
   "source": [
    "import requests\n",
    "from bs4 import BeautifulSoup\n",
    "req=requests.get(\"https://www.cricbuzz.com/cricket-series/228/icc-world-cup-2011/points-table\").text\n",
    "soup=BeautifulSoup(req,'lxml')\n",
    "#print(soup.prettify())\n",
    "article=soup.find('div')\n",
    "print(article.prettify())\n",
    "#headline=article.find('div',class_=\"container\")\n",
    "#print(headline)\n"
   ]
  },
  {
   "cell_type": "code",
   "execution_count": 4,
   "id": "7d0334f9",
   "metadata": {},
   "outputs": [
    {
     "data": {
      "text/plain": [
       "<AxesSubplot:ylabel='Count'>"
      ]
     },
     "execution_count": 4,
     "metadata": {},
     "output_type": "execute_result"
    },
    {
     "data": {
      "image/png": "[encoded data removed]",
      "text/plain": [
       "<Figure size 640x480 with 1 Axes>"
      ]
     },
     "metadata": {},
     "output_type": "display_data"
    }
   ],
   "source": [
    "import seaborn as sns\n",
    "sns.histplot([0,1,2,3,4,5])"
   ]
  },
  {
   "cell_type": "code",
   "execution_count": 3,
   "id": "5ae78a85",
   "metadata": {},
   "outputs": [],
   "source": [
    "import pandas as pd\n",
    "df=pd.read_csv(r\"C:\\Users\\satish\\Top 100 Movies.csv\")"
   ]
  },
  {
   "cell_type": "code",
   "execution_count": 4,
   "id": "9ba1abfd",
   "metadata": {},
   "outputs": [
    {
     "name": "stdout",
     "output_type": "stream",
     "text": [
      "   Unnamed: 0             Name of movie Year of relase  Watchtime  \\\n",
      "0           0  The Shawshank Redemption           1994        142   \n",
      "1           1             The Godfather           1972        175   \n",
      "2           2           The Dark Knight           2008        152   \n",
      "3           3     The Godfather Part II           1974        202   \n",
      "4           4          Schindler's List           1993        195   \n",
      "\n",
      "   Movie Rating Metascore      Votes  \n",
      "0           9.3        82  2,714,736  \n",
      "1           9.2       100  1,885,848  \n",
      "2           9.0        84  2,687,471  \n",
      "3           9.0        90  1,286,999  \n",
      "4           9.0        95  1,371,265  \n"
     ]
    }
   ],
   "source": [
    "print(df.head())"
   ]
  },
  {
   "cell_type": "code",
   "execution_count": null,
   "id": "f3892350",
   "metadata": {},
   "outputs": [],
   "source": [
    "sns.barplot(\"\")"
   ]
  }
 ],
 "metadata": {
  "kernelspec": {
   "display_name": "Python 3 (ipykernel)",
   "language": "python",
   "name": "python3"
  },
  "language_info": {
   "codemirror_mode": {
    "name": "ipython",
    "version": 3
   },
   "file_extension": ".py",
   "mimetype": "text/x-python",
   "name": "python",
   "nbconvert_exporter": "python",
   "pygments_lexer": "ipython3",
   "version": "3.9.13"
  }
 },
 "nbformat": 4,
 "nbformat_minor": 5
}
